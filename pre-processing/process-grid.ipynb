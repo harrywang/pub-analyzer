{
 "cells": [
  {
   "cell_type": "code",
   "execution_count": 13,
   "metadata": {},
   "outputs": [],
   "source": [
    "import pandas as pd"
   ]
  },
  {
   "cell_type": "code",
   "execution_count": 14,
   "metadata": {},
   "outputs": [],
   "source": [
    "grid_json = pd.read_json('../data/grid-2020-03-15/grid.json')"
   ]
  },
  {
   "cell_type": "code",
   "execution_count": 15,
   "metadata": {
    "tags": []
   },
   "outputs": [
    {
     "output_type": "stream",
     "name": "stdout",
     "text": "<class 'pandas.core.frame.DataFrame'>\nRangeIndex: 101943 entries, 0 to 101942\nData columns (total 2 columns):\n #   Column      Non-Null Count   Dtype \n---  ------      --------------   ----- \n 0   version     101943 non-null  object\n 1   institutes  101943 non-null  object\ndtypes: object(2)\nmemory usage: 1.6+ MB\n"
    }
   ],
   "source": [
    "grid_json.info()"
   ]
  },
  {
   "cell_type": "code",
   "execution_count": 16,
   "metadata": {
    "tags": []
   },
   "outputs": [
    {
     "output_type": "stream",
     "name": "stdout",
     "text": "CPU times: user 16.2 s, sys: 303 ms, total: 16.5 s\nWall time: 17.3 s\n"
    }
   ],
   "source": [
    "%%time\n",
    "# flatten the json\n",
    "grid_json_flat = pd.json_normalize(grid_json['institutes'])"
   ]
  },
  {
   "cell_type": "code",
   "execution_count": 17,
   "metadata": {},
   "outputs": [
    {
     "output_type": "execute_result",
     "data": {
      "text/plain": "{'line_1': '',\n 'line_2': '',\n 'line_3': None,\n 'lat': -35.2778,\n 'lng': 149.1205,\n 'postcode': '',\n 'primary': False,\n 'city': 'Canberra',\n 'state': 'Australian Capital Territory',\n 'state_code': 'AU-ACT',\n 'country': 'Australia',\n 'country_code': 'AU',\n 'geonames_city': {'id': 2172517,\n  'city': 'Canberra',\n  'nuts_level1': None,\n  'nuts_level2': None,\n  'nuts_level3': None,\n  'geonames_admin1': {'name': 'ACT', 'ascii_name': 'ACT', 'code': 'AU.01'},\n  'geonames_admin2': None,\n  'license': {'attribution': 'Data from geonames.org under a CC-BY 3.0 license',\n   'license': 'http://creativecommons.org/licenses/by/3.0/'}}}"
     },
     "metadata": {},
     "execution_count": 17
    }
   ],
   "source": [
    "grid_json_flat['addresses'][0][0]"
   ]
  },
  {
   "cell_type": "code",
   "execution_count": 18,
   "metadata": {},
   "outputs": [
    {
     "output_type": "execute_result",
     "data": {
      "text/plain": "                             name  \\\n0  Australian National University   \n1               Monash University   \n2        University of Queensland   \n3            Macquarie University   \n4                     UNSW Sydney   \n\n                                       wikipedia_url email_address  \\\n0  http://en.wikipedia.org/wiki/Australian_Nation...          None   \n1     http://en.wikipedia.org/wiki/Monash_University          None   \n2  http://en.wikipedia.org/wiki/University_of_Que...                 \n3  http://en.wikipedia.org/wiki/Macquarie_University          None   \n4  http://en.wikipedia.org/wiki/University_of_New...          None   \n\n                        links                          aliases acronyms  \\\n0    [http://www.anu.edu.au/]                               []    [ANU]   \n1    [http://www.monash.edu/]                               []       []   \n2     [http://www.uq.edu.au/]                               []     [UQ]   \n3         [http://mq.edu.au/]                               []       []   \n4  [https://www.unsw.edu.au/]  [University of New South Wales]   [UNSW]   \n\n         types ip_addresses  \\\n0  [Education]           []   \n1  [Education]           []   \n2  [Education]           []   \n3  [Education]           []   \n4  [Education]           []   \n\n                                           addresses labels  ...  \\\n0  [{'line_1': '', 'line_2': '', 'line_3': None, ...     []  ...   \n1  [{'line_1': '', 'line_2': '', 'line_3': None, ...     []  ...   \n2  [{'line_1': '', 'line_2': '', 'line_3': None, ...     []  ...   \n3  [{'line_1': '', 'line_2': '', 'line_3': None, ...     []  ...   \n4  [{'line_1': '', 'line_2': '', 'line_3': None, ...     []  ...   \n\n  external_ids.HESA.all external_ids.UCAS.preferred  external_ids.UCAS.all  \\\n0                   NaN                         NaN                    NaN   \n1                   NaN                         NaN                    NaN   \n2                   NaN                         NaN                    NaN   \n3                   NaN                         NaN                    NaN   \n4                   NaN                         NaN                    NaN   \n\n  external_ids.UKPRN.preferred  external_ids.UKPRN.all redirect  \\\n0                          NaN                     NaN      NaN   \n1                          NaN                     NaN      NaN   \n2                          NaN                     NaN      NaN   \n3                          NaN                     NaN      NaN   \n4                          NaN                     NaN      NaN   \n\n  external_ids.CNRS.preferred external_ids.CNRS.all  \\\n0                         NaN                   NaN   \n1                         NaN                   NaN   \n2                         NaN                   NaN   \n3                         NaN                   NaN   \n4                         NaN                   NaN   \n\n  external_ids.LinkedIn.preferred external_ids.LinkedIn.all  \n0                             NaN                       NaN  \n1                             NaN                       NaN  \n2                             NaN                       NaN  \n3                             NaN                       NaN  \n4                             NaN                       NaN  \n\n[5 rows x 36 columns]",
      "text/html": "<div>\n<style scoped>\n    .dataframe tbody tr th:only-of-type {\n        vertical-align: middle;\n    }\n\n    .dataframe tbody tr th {\n        vertical-align: top;\n    }\n\n    .dataframe thead th {\n        text-align: right;\n    }\n</style>\n<table border=\"1\" class=\"dataframe\">\n  <thead>\n    <tr style=\"text-align: right;\">\n      <th></th>\n      <th>name</th>\n      <th>wikipedia_url</th>\n      <th>email_address</th>\n      <th>links</th>\n      <th>aliases</th>\n      <th>acronyms</th>\n      <th>types</th>\n      <th>ip_addresses</th>\n      <th>addresses</th>\n      <th>labels</th>\n      <th>...</th>\n      <th>external_ids.HESA.all</th>\n      <th>external_ids.UCAS.preferred</th>\n      <th>external_ids.UCAS.all</th>\n      <th>external_ids.UKPRN.preferred</th>\n      <th>external_ids.UKPRN.all</th>\n      <th>redirect</th>\n      <th>external_ids.CNRS.preferred</th>\n      <th>external_ids.CNRS.all</th>\n      <th>external_ids.LinkedIn.preferred</th>\n      <th>external_ids.LinkedIn.all</th>\n    </tr>\n  </thead>\n  <tbody>\n    <tr>\n      <th>0</th>\n      <td>Australian National University</td>\n      <td>http://en.wikipedia.org/wiki/Australian_Nation...</td>\n      <td>None</td>\n      <td>[http://www.anu.edu.au/]</td>\n      <td>[]</td>\n      <td>[ANU]</td>\n      <td>[Education]</td>\n      <td>[]</td>\n      <td>[{'line_1': '', 'line_2': '', 'line_3': None, ...</td>\n      <td>[]</td>\n      <td>...</td>\n      <td>NaN</td>\n      <td>NaN</td>\n      <td>NaN</td>\n      <td>NaN</td>\n      <td>NaN</td>\n      <td>NaN</td>\n      <td>NaN</td>\n      <td>NaN</td>\n      <td>NaN</td>\n      <td>NaN</td>\n    </tr>\n    <tr>\n      <th>1</th>\n      <td>Monash University</td>\n      <td>http://en.wikipedia.org/wiki/Monash_University</td>\n      <td>None</td>\n      <td>[http://www.monash.edu/]</td>\n      <td>[]</td>\n      <td>[]</td>\n      <td>[Education]</td>\n      <td>[]</td>\n      <td>[{'line_1': '', 'line_2': '', 'line_3': None, ...</td>\n      <td>[]</td>\n      <td>...</td>\n      <td>NaN</td>\n      <td>NaN</td>\n      <td>NaN</td>\n      <td>NaN</td>\n      <td>NaN</td>\n      <td>NaN</td>\n      <td>NaN</td>\n      <td>NaN</td>\n      <td>NaN</td>\n      <td>NaN</td>\n    </tr>\n    <tr>\n      <th>2</th>\n      <td>University of Queensland</td>\n      <td>http://en.wikipedia.org/wiki/University_of_Que...</td>\n      <td></td>\n      <td>[http://www.uq.edu.au/]</td>\n      <td>[]</td>\n      <td>[UQ]</td>\n      <td>[Education]</td>\n      <td>[]</td>\n      <td>[{'line_1': '', 'line_2': '', 'line_3': None, ...</td>\n      <td>[]</td>\n      <td>...</td>\n      <td>NaN</td>\n      <td>NaN</td>\n      <td>NaN</td>\n      <td>NaN</td>\n      <td>NaN</td>\n      <td>NaN</td>\n      <td>NaN</td>\n      <td>NaN</td>\n      <td>NaN</td>\n      <td>NaN</td>\n    </tr>\n    <tr>\n      <th>3</th>\n      <td>Macquarie University</td>\n      <td>http://en.wikipedia.org/wiki/Macquarie_University</td>\n      <td>None</td>\n      <td>[http://mq.edu.au/]</td>\n      <td>[]</td>\n      <td>[]</td>\n      <td>[Education]</td>\n      <td>[]</td>\n      <td>[{'line_1': '', 'line_2': '', 'line_3': None, ...</td>\n      <td>[]</td>\n      <td>...</td>\n      <td>NaN</td>\n      <td>NaN</td>\n      <td>NaN</td>\n      <td>NaN</td>\n      <td>NaN</td>\n      <td>NaN</td>\n      <td>NaN</td>\n      <td>NaN</td>\n      <td>NaN</td>\n      <td>NaN</td>\n    </tr>\n    <tr>\n      <th>4</th>\n      <td>UNSW Sydney</td>\n      <td>http://en.wikipedia.org/wiki/University_of_New...</td>\n      <td>None</td>\n      <td>[https://www.unsw.edu.au/]</td>\n      <td>[University of New South Wales]</td>\n      <td>[UNSW]</td>\n      <td>[Education]</td>\n      <td>[]</td>\n      <td>[{'line_1': '', 'line_2': '', 'line_3': None, ...</td>\n      <td>[]</td>\n      <td>...</td>\n      <td>NaN</td>\n      <td>NaN</td>\n      <td>NaN</td>\n      <td>NaN</td>\n      <td>NaN</td>\n      <td>NaN</td>\n      <td>NaN</td>\n      <td>NaN</td>\n      <td>NaN</td>\n      <td>NaN</td>\n    </tr>\n  </tbody>\n</table>\n<p>5 rows × 36 columns</p>\n</div>"
     },
     "metadata": {},
     "execution_count": 18
    }
   ],
   "source": [
    "grid_json_flat.head()"
   ]
  },
  {
   "cell_type": "code",
   "execution_count": 19,
   "metadata": {
    "tags": []
   },
   "outputs": [
    {
     "output_type": "stream",
     "name": "stdout",
     "text": "<class 'pandas.core.frame.DataFrame'>\nRangeIndex: 101943 entries, 0 to 101942\nData columns (total 36 columns):\n #   Column                           Non-Null Count   Dtype  \n---  ------                           --------------   -----  \n 0   name                             97795 non-null   object \n 1   wikipedia_url                    93452 non-null   object \n 2   email_address                    2655 non-null    object \n 3   links                            97795 non-null   object \n 4   aliases                          97795 non-null   object \n 5   acronyms                         97795 non-null   object \n 6   types                            97795 non-null   object \n 7   ip_addresses                     97795 non-null   object \n 8   addresses                        97795 non-null   object \n 9   labels                           97795 non-null   object \n 10  id                               101943 non-null  object \n 11  status                           101943 non-null  object \n 12  established                      80874 non-null   float64\n 13  relationships                    97795 non-null   object \n 14  weight                           97795 non-null   float64\n 15  external_ids.ISNI.preferred      40 non-null      object \n 16  external_ids.ISNI.all            44372 non-null   object \n 17  external_ids.FundRef.preferred   1006 non-null    object \n 18  external_ids.FundRef.all         10057 non-null   object \n 19  external_ids.OrgRef.preferred    513 non-null     object \n 20  external_ids.OrgRef.all          14840 non-null   object \n 21  external_ids.Wikidata.preferred  465 non-null     object \n 22  external_ids.Wikidata.all        36393 non-null   object \n 23  external_ids.ROR.preferred       96203 non-null   object \n 24  external_ids.ROR.all             96204 non-null   object \n 25  external_ids.HESA.preferred      0 non-null       float64\n 26  external_ids.HESA.all            171 non-null     object \n 27  external_ids.UCAS.preferred      0 non-null       float64\n 28  external_ids.UCAS.all            153 non-null     object \n 29  external_ids.UKPRN.preferred     0 non-null       float64\n 30  external_ids.UKPRN.all           173 non-null     object \n 31  redirect                         3818 non-null    object \n 32  external_ids.CNRS.preferred      0 non-null       float64\n 33  external_ids.CNRS.all            825 non-null     object \n 34  external_ids.LinkedIn.preferred  0 non-null       float64\n 35  external_ids.LinkedIn.all        7 non-null       object \ndtypes: float64(7), object(29)\nmemory usage: 28.0+ MB\n"
    }
   ],
   "source": [
    "grid_json_flat.info()"
   ]
  },
  {
   "cell_type": "code",
   "execution_count": 20,
   "metadata": {
    "tags": []
   },
   "outputs": [
    {
     "output_type": "stream",
     "name": "stdout",
     "text": "<class 'pandas.core.frame.DataFrame'>\nInt64Index: 97795 entries, 0 to 101942\nData columns (total 7 columns):\n #   Column         Non-Null Count  Dtype \n---  ------         --------------  ----- \n 0   name           97795 non-null  object\n 1   wikipedia_url  93452 non-null  object\n 2   email_address  2655 non-null   object\n 3   links          97795 non-null  object\n 4   aliases        97795 non-null  object\n 5   acronyms       97795 non-null  object\n 6   addresses      97795 non-null  object\ndtypes: object(7)\nmemory usage: 6.0+ MB\n"
    }
   ],
   "source": [
    "grid_json_flat = grid_json_flat[['name', 'wikipedia_url', 'email_address', 'links', 'aliases', 'acronyms', 'addresses']]\n",
    "grid_json_flat.dropna(subset=['name', 'addresses'], inplace=True)\n",
    "grid_json_flat.info()"
   ]
  },
  {
   "cell_type": "code",
   "execution_count": 21,
   "metadata": {},
   "outputs": [],
   "source": [
    "# we dropped some rows above and can reset the index as follows\n",
    "#grid_json_flat.reset_index(drop=True, inplace=True)"
   ]
  },
  {
   "cell_type": "code",
   "execution_count": 22,
   "metadata": {
    "tags": []
   },
   "outputs": [
    {
     "output_type": "stream",
     "name": "stdout",
     "text": "CPU times: user 18.1 s, sys: 137 ms, total: 18.2 s\nWall time: 18.7 s\n"
    }
   ],
   "source": [
    "%%time\n",
    "current_aff = {}\n",
    "all_aff = [] \n",
    "# aliases and acronyms are quite noisy, so they are not used\n",
    "\n",
    "for index, row in grid_json_flat.iterrows(): # loop over the df\n",
    "    current_aff = {\n",
    "        'name': row['name'],\n",
    "        'wikipedia_url': row['wikipedia_url'],\n",
    "        #'email_address': row['email_address'],\n",
    "        'links': row['links'],\n",
    "        'city': row['addresses'][0]['city'],\n",
    "        'state': row['addresses'][0]['state'],\n",
    "        'country': row['addresses'][0]['country'],\n",
    "        }\n",
    "    all_aff.append(current_aff)"
   ]
  },
  {
   "cell_type": "code",
   "execution_count": 23,
   "metadata": {
    "tags": []
   },
   "outputs": [
    {
     "output_type": "stream",
     "name": "stdout",
     "text": "<class 'pandas.core.frame.DataFrame'>\nRangeIndex: 97795 entries, 0 to 97794\nData columns (total 6 columns):\n #   Column         Non-Null Count  Dtype \n---  ------         --------------  ----- \n 0   name           97795 non-null  object\n 1   wikipedia_url  93452 non-null  object\n 2   links          97795 non-null  object\n 3   city           97795 non-null  object\n 4   state          36035 non-null  object\n 5   country        97795 non-null  object\ndtypes: object(6)\nmemory usage: 4.5+ MB\n"
    }
   ],
   "source": [
    "# convert the resulting dict to pandas dataframe\n",
    "import pandas as pd\n",
    "\n",
    "aff_parsed = pd.DataFrame(all_aff)\n",
    "aff_parsed.info()# convert the resulting dict to pandas dataframe"
   ]
  },
  {
   "cell_type": "code",
   "execution_count": 24,
   "metadata": {},
   "outputs": [],
   "source": [
    "aff_parsed.to_csv('../data/grid-parsed.csv', index=False)"
   ]
  },
  {
   "cell_type": "code",
   "execution_count": null,
   "metadata": {},
   "outputs": [],
   "source": []
  }
 ],
 "metadata": {
  "kernelspec": {
   "display_name": "Python 3.7.7 64-bit ('venv': venv)",
   "language": "python",
   "name": "python37764bitvenvvenvb5f1526429564f4dbd77732aa9ff0879"
  },
  "language_info": {
   "codemirror_mode": {
    "name": "ipython",
    "version": 3
   },
   "file_extension": ".py",
   "mimetype": "text/x-python",
   "name": "python",
   "nbconvert_exporter": "python",
   "pygments_lexer": "ipython3",
   "version": "3.7.7-final"
  }
 },
 "nbformat": 4,
 "nbformat_minor": 2
}