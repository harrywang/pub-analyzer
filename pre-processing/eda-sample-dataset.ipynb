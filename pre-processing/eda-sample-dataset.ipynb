{
 "cells": [
  {
   "cell_type": "markdown",
   "metadata": {},
   "source": [
    "This notebook performs the Exploratory Data Analysis on our sample dataset. The dataset collects information related to 50 Journals used in Financial Times Business School Research Ranking. It covers the information about journals, papers and authors.\n",
    "\n",
    "There are 3 parts of this EDA: it analyzes the information for authors, journals and papers."
   ]
  },
  {
   "cell_type": "code",
   "execution_count": 429,
   "metadata": {},
   "outputs": [],
   "source": [
    "# import the database file\n",
    "import sqlite3\n",
    "conn = sqlite3.connect(\"../data/pub_raw.db\")"
   ]
  },
  {
   "cell_type": "markdown",
   "metadata": {},
   "source": [
    "There are 8 tables in this database.\n",
    "- author: basic information about authors who published on these 50 journals.\n",
    "- journal: basic information about 50 journals used in Financial Times Business School Research Ranking\n",
    "- keyword:\n",
    "- paper: papers published on these 50 journals\n",
    "- paper_author: relationship between 'paper' and 'author'\n",
    "- paper_keyword: relationship between 'paper' and 'keyword'\n",
    "- paper_subject: relationship between 'paper' and 'subject'\n",
    "- subject: subject used in papers"
   ]
  },
  {
   "cell_type": "markdown",
   "metadata": {},
   "source": [
    "Import all datasets:"
   ]
  },
  {
   "cell_type": "code",
   "execution_count": 430,
   "metadata": {},
   "outputs": [
    {
     "data": {
      "text/html": [
       "<div>\n",
       "<style scoped>\n",
       "    .dataframe tbody tr th:only-of-type {\n",
       "        vertical-align: middle;\n",
       "    }\n",
       "\n",
       "    .dataframe tbody tr th {\n",
       "        vertical-align: top;\n",
       "    }\n",
       "\n",
       "    .dataframe thead th {\n",
       "        text-align: right;\n",
       "    }\n",
       "</style>\n",
       "<table border=\"1\" class=\"dataframe\">\n",
       "  <thead>\n",
       "    <tr style=\"text-align: right;\">\n",
       "      <th></th>\n",
       "      <th>id</th>\n",
       "      <th>full_name</th>\n",
       "      <th>first_name</th>\n",
       "      <th>last_name</th>\n",
       "      <th>middle_name</th>\n",
       "      <th>email</th>\n",
       "      <th>affiliation</th>\n",
       "    </tr>\n",
       "  </thead>\n",
       "  <tbody>\n",
       "    <tr>\n",
       "      <th>0</th>\n",
       "      <td>1</td>\n",
       "      <td>Benbya, Hind</td>\n",
       "      <td>Hind</td>\n",
       "      <td>Benbya</td>\n",
       "      <td>None</td>\n",
       "      <td>h.benbya@montpellier-bs.com</td>\n",
       "      <td>Technology and Innovation Management, Montpell...</td>\n",
       "    </tr>\n",
       "    <tr>\n",
       "      <th>1</th>\n",
       "      <td>2</td>\n",
       "      <td>Ning Nan</td>\n",
       "      <td>Ning</td>\n",
       "      <td>Nan</td>\n",
       "      <td>None</td>\n",
       "      <td>ning.nan@sauder.ubc.ca</td>\n",
       "      <td>Sauder School of Business, University of Briti...</td>\n",
       "    </tr>\n",
       "    <tr>\n",
       "      <th>2</th>\n",
       "      <td>3</td>\n",
       "      <td>Tanriverdi, Hüseyin</td>\n",
       "      <td>Hüseyin</td>\n",
       "      <td>Tanriverdi</td>\n",
       "      <td>None</td>\n",
       "      <td>Huseyin.Tanriverdi@mccombs.utexas.edu</td>\n",
       "      <td>McCombs School of Business, The University of ...</td>\n",
       "    </tr>\n",
       "    <tr>\n",
       "      <th>3</th>\n",
       "      <td>4</td>\n",
       "      <td>Youngjin Yoo</td>\n",
       "      <td>Youngjin</td>\n",
       "      <td>Yoo</td>\n",
       "      <td>None</td>\n",
       "      <td>yxy23@case.edu</td>\n",
       "      <td>Department of Design &amp; Innovation, The Weather...</td>\n",
       "    </tr>\n",
       "    <tr>\n",
       "      <th>4</th>\n",
       "      <td>5</td>\n",
       "      <td>Pentland, Brian T.</td>\n",
       "      <td>Brian</td>\n",
       "      <td>Pentland</td>\n",
       "      <td>T.</td>\n",
       "      <td>pentlan2@msu.edu</td>\n",
       "      <td>Eli Broad College of Business, Michigan State ...</td>\n",
       "    </tr>\n",
       "  </tbody>\n",
       "</table>\n",
       "</div>"
      ],
      "text/plain": [
       "   id            full_name first_name   last_name middle_name  \\\n",
       "0   1         Benbya, Hind       Hind      Benbya        None   \n",
       "1   2             Ning Nan       Ning         Nan        None   \n",
       "2   3  Tanriverdi, Hüseyin    Hüseyin  Tanriverdi        None   \n",
       "3   4         Youngjin Yoo   Youngjin         Yoo        None   \n",
       "4   5   Pentland, Brian T.      Brian    Pentland          T.   \n",
       "\n",
       "                                   email  \\\n",
       "0            h.benbya@montpellier-bs.com   \n",
       "1                 ning.nan@sauder.ubc.ca   \n",
       "2  Huseyin.Tanriverdi@mccombs.utexas.edu   \n",
       "3                         yxy23@case.edu   \n",
       "4                       pentlan2@msu.edu   \n",
       "\n",
       "                                         affiliation  \n",
       "0  Technology and Innovation Management, Montpell...  \n",
       "1  Sauder School of Business, University of Briti...  \n",
       "2  McCombs School of Business, The University of ...  \n",
       "3  Department of Design & Innovation, The Weather...  \n",
       "4  Eli Broad College of Business, Michigan State ...  "
      ]
     },
     "execution_count": 430,
     "metadata": {},
     "output_type": "execute_result"
    }
   ],
   "source": [
    "import pandas as pd\n",
    "# import these tables\n",
    "author = pd.read_sql_query(\"select * from author;\", conn)\n",
    "author.head()"
   ]
  },
  {
   "cell_type": "code",
   "execution_count": 431,
   "metadata": {},
   "outputs": [
    {
     "name": "stdout",
     "output_type": "stream",
     "text": [
      "<class 'pandas.core.frame.DataFrame'>\n",
      "RangeIndex: 6366 entries, 0 to 6365\n",
      "Data columns (total 7 columns):\n",
      " #   Column       Non-Null Count  Dtype \n",
      "---  ------       --------------  ----- \n",
      " 0   id           6366 non-null   int64 \n",
      " 1   full_name    6366 non-null   object\n",
      " 2   first_name   6366 non-null   object\n",
      " 3   last_name    6366 non-null   object\n",
      " 4   middle_name  2547 non-null   object\n",
      " 5   email        6366 non-null   object\n",
      " 6   affiliation  6366 non-null   object\n",
      "dtypes: int64(1), object(6)\n",
      "memory usage: 348.3+ KB\n"
     ]
    }
   ],
   "source": [
    "# info for author\n",
    "# there are 6366 entries in 'author' within 7 attributes\n",
    "author.info()"
   ]
  },
  {
   "cell_type": "code",
   "execution_count": 432,
   "metadata": {},
   "outputs": [
    {
     "data": {
      "text/html": [
       "<div>\n",
       "<style scoped>\n",
       "    .dataframe tbody tr th:only-of-type {\n",
       "        vertical-align: middle;\n",
       "    }\n",
       "\n",
       "    .dataframe tbody tr th {\n",
       "        vertical-align: top;\n",
       "    }\n",
       "\n",
       "    .dataframe thead th {\n",
       "        text-align: right;\n",
       "    }\n",
       "</style>\n",
       "<table border=\"1\" class=\"dataframe\">\n",
       "  <thead>\n",
       "    <tr style=\"text-align: right;\">\n",
       "      <th></th>\n",
       "      <th>id</th>\n",
       "      <th>journal_title</th>\n",
       "      <th>volumn</th>\n",
       "      <th>issue</th>\n",
       "      <th>year</th>\n",
       "      <th>issn</th>\n",
       "      <th>doi</th>\n",
       "      <th>total_paper_count</th>\n",
       "      <th>crawl_count</th>\n",
       "      <th>finished</th>\n",
       "    </tr>\n",
       "  </thead>\n",
       "  <tbody>\n",
       "    <tr>\n",
       "      <th>0</th>\n",
       "      <td>1</td>\n",
       "      <td>MIS Quarterly</td>\n",
       "      <td>44</td>\n",
       "      <td>1</td>\n",
       "      <td>2020</td>\n",
       "      <td>None</td>\n",
       "      <td>None</td>\n",
       "      <td>17</td>\n",
       "      <td>17</td>\n",
       "      <td>yes</td>\n",
       "    </tr>\n",
       "    <tr>\n",
       "      <th>1</th>\n",
       "      <td>2</td>\n",
       "      <td>MIS Quarterly</td>\n",
       "      <td>43</td>\n",
       "      <td>4</td>\n",
       "      <td>2019</td>\n",
       "      <td>None</td>\n",
       "      <td>None</td>\n",
       "      <td>16</td>\n",
       "      <td>16</td>\n",
       "      <td>yes</td>\n",
       "    </tr>\n",
       "    <tr>\n",
       "      <th>2</th>\n",
       "      <td>3</td>\n",
       "      <td>MIS Quarterly</td>\n",
       "      <td>43</td>\n",
       "      <td>3</td>\n",
       "      <td>2019</td>\n",
       "      <td>None</td>\n",
       "      <td>None</td>\n",
       "      <td>15</td>\n",
       "      <td>15</td>\n",
       "      <td>yes</td>\n",
       "    </tr>\n",
       "    <tr>\n",
       "      <th>3</th>\n",
       "      <td>4</td>\n",
       "      <td>MIS Quarterly</td>\n",
       "      <td>43</td>\n",
       "      <td>2</td>\n",
       "      <td>2019</td>\n",
       "      <td>None</td>\n",
       "      <td>None</td>\n",
       "      <td>15</td>\n",
       "      <td>15</td>\n",
       "      <td>yes</td>\n",
       "    </tr>\n",
       "    <tr>\n",
       "      <th>4</th>\n",
       "      <td>5</td>\n",
       "      <td>MIS Quarterly</td>\n",
       "      <td>43</td>\n",
       "      <td>1</td>\n",
       "      <td>2019</td>\n",
       "      <td>None</td>\n",
       "      <td>None</td>\n",
       "      <td>16</td>\n",
       "      <td>16</td>\n",
       "      <td>yes</td>\n",
       "    </tr>\n",
       "  </tbody>\n",
       "</table>\n",
       "</div>"
      ],
      "text/plain": [
       "   id  journal_title volumn issue  year  issn   doi  total_paper_count  \\\n",
       "0   1  MIS Quarterly     44     1  2020  None  None                 17   \n",
       "1   2  MIS Quarterly     43     4  2019  None  None                 16   \n",
       "2   3  MIS Quarterly     43     3  2019  None  None                 15   \n",
       "3   4  MIS Quarterly     43     2  2019  None  None                 15   \n",
       "4   5  MIS Quarterly     43     1  2019  None  None                 16   \n",
       "\n",
       "   crawl_count finished  \n",
       "0           17      yes  \n",
       "1           16      yes  \n",
       "2           15      yes  \n",
       "3           15      yes  \n",
       "4           16      yes  "
      ]
     },
     "execution_count": 432,
     "metadata": {},
     "output_type": "execute_result"
    }
   ],
   "source": [
    "# journal\n",
    "journal = pd.read_sql_query(\"select * from journal;\", conn)\n",
    "journal.head()"
   ]
  },
  {
   "cell_type": "code",
   "execution_count": 433,
   "metadata": {},
   "outputs": [
    {
     "name": "stdout",
     "output_type": "stream",
     "text": [
      "<class 'pandas.core.frame.DataFrame'>\n",
      "RangeIndex: 439 entries, 0 to 438\n",
      "Data columns (total 10 columns):\n",
      " #   Column             Non-Null Count  Dtype \n",
      "---  ------             --------------  ----- \n",
      " 0   id                 439 non-null    int64 \n",
      " 1   journal_title      439 non-null    object\n",
      " 2   volumn             439 non-null    object\n",
      " 3   issue              439 non-null    object\n",
      " 4   year               439 non-null    object\n",
      " 5   issn               0 non-null      object\n",
      " 6   doi                0 non-null      object\n",
      " 7   total_paper_count  439 non-null    int64 \n",
      " 8   crawl_count        439 non-null    int64 \n",
      " 9   finished           439 non-null    object\n",
      "dtypes: int64(3), object(7)\n",
      "memory usage: 34.4+ KB\n"
     ]
    }
   ],
   "source": [
    "# info for journal\n",
    "# there 439 entries in 'journal' within 10 attributes\n",
    "journal.info()"
   ]
  },
  {
   "cell_type": "code",
   "execution_count": 434,
   "metadata": {},
   "outputs": [
    {
     "data": {
      "text/html": [
       "<div>\n",
       "<style scoped>\n",
       "    .dataframe tbody tr th:only-of-type {\n",
       "        vertical-align: middle;\n",
       "    }\n",
       "\n",
       "    .dataframe tbody tr th {\n",
       "        vertical-align: top;\n",
       "    }\n",
       "\n",
       "    .dataframe thead th {\n",
       "        text-align: right;\n",
       "    }\n",
       "</style>\n",
       "<table border=\"1\" class=\"dataframe\">\n",
       "  <thead>\n",
       "    <tr style=\"text-align: right;\">\n",
       "      <th></th>\n",
       "      <th>id</th>\n",
       "      <th>keyword</th>\n",
       "    </tr>\n",
       "  </thead>\n",
       "  <tbody>\n",
       "    <tr>\n",
       "      <th>0</th>\n",
       "      <td>1</td>\n",
       "      <td>chaos</td>\n",
       "    </tr>\n",
       "    <tr>\n",
       "      <th>1</th>\n",
       "      <td>2</td>\n",
       "      <td>coevolution</td>\n",
       "    </tr>\n",
       "    <tr>\n",
       "      <th>2</th>\n",
       "      <td>3</td>\n",
       "      <td>complexity</td>\n",
       "    </tr>\n",
       "    <tr>\n",
       "      <th>3</th>\n",
       "      <td>4</td>\n",
       "      <td>emergence</td>\n",
       "    </tr>\n",
       "    <tr>\n",
       "      <th>4</th>\n",
       "      <td>5</td>\n",
       "      <td>scalable dynamics digitalization</td>\n",
       "    </tr>\n",
       "  </tbody>\n",
       "</table>\n",
       "</div>"
      ],
      "text/plain": [
       "   id                           keyword\n",
       "0   1                             chaos\n",
       "1   2                       coevolution\n",
       "2   3                        complexity\n",
       "3   4                         emergence\n",
       "4   5  scalable dynamics digitalization"
      ]
     },
     "execution_count": 434,
     "metadata": {},
     "output_type": "execute_result"
    }
   ],
   "source": [
    "# keyword\n",
    "keyword = pd.read_sql_query(\"select * from keyword;\", conn)\n",
    "keyword.head()"
   ]
  },
  {
   "cell_type": "code",
   "execution_count": 435,
   "metadata": {},
   "outputs": [
    {
     "name": "stdout",
     "output_type": "stream",
     "text": [
      "<class 'pandas.core.frame.DataFrame'>\n",
      "RangeIndex: 10146 entries, 0 to 10145\n",
      "Data columns (total 2 columns):\n",
      " #   Column   Non-Null Count  Dtype \n",
      "---  ------   --------------  ----- \n",
      " 0   id       10146 non-null  int64 \n",
      " 1   keyword  10146 non-null  object\n",
      "dtypes: int64(1), object(1)\n",
      "memory usage: 158.7+ KB\n"
     ]
    }
   ],
   "source": [
    "# info for keyword\n",
    "# there are 10146 entries within 2 attributes\n",
    "keyword.info()"
   ]
  },
  {
   "cell_type": "code",
   "execution_count": 436,
   "metadata": {},
   "outputs": [
    {
     "data": {
      "text/html": [
       "<div>\n",
       "<style scoped>\n",
       "    .dataframe tbody tr th:only-of-type {\n",
       "        vertical-align: middle;\n",
       "    }\n",
       "\n",
       "    .dataframe tbody tr th {\n",
       "        vertical-align: top;\n",
       "    }\n",
       "\n",
       "    .dataframe thead th {\n",
       "        text-align: right;\n",
       "    }\n",
       "</style>\n",
       "<table border=\"1\" class=\"dataframe\">\n",
       "  <thead>\n",
       "    <tr style=\"text-align: right;\">\n",
       "      <th></th>\n",
       "      <th>id</th>\n",
       "      <th>title</th>\n",
       "      <th>abstract</th>\n",
       "      <th>publication_date</th>\n",
       "      <th>submission_date</th>\n",
       "      <th>online_date</th>\n",
       "      <th>revision_date</th>\n",
       "      <th>accepted_date</th>\n",
       "      <th>cover_url</th>\n",
       "      <th>full_url</th>\n",
       "      <th>accession_number</th>\n",
       "      <th>document_type</th>\n",
       "      <th>doi</th>\n",
       "      <th>manually_check</th>\n",
       "      <th>journal_id</th>\n",
       "    </tr>\n",
       "  </thead>\n",
       "  <tbody>\n",
       "    <tr>\n",
       "      <th>0</th>\n",
       "      <td>1</td>\n",
       "      <td>complexity and information systems research in...</td>\n",
       "      <td>Complexity is all around us in this increasing...</td>\n",
       "      <td>None</td>\n",
       "      <td>None</td>\n",
       "      <td>None</td>\n",
       "      <td>None</td>\n",
       "      <td>None</td>\n",
       "      <td>None</td>\n",
       "      <td>None</td>\n",
       "      <td>141995164</td>\n",
       "      <td>Article</td>\n",
       "      <td>10.25300/MISQ/2020/13304</td>\n",
       "      <td>None</td>\n",
       "      <td>1</td>\n",
       "    </tr>\n",
       "    <tr>\n",
       "      <th>1</th>\n",
       "      <td>2</td>\n",
       "      <td>the dynamics of drift in digitized processes.</td>\n",
       "      <td>This paper uses a simulation to build new theo...</td>\n",
       "      <td>None</td>\n",
       "      <td>None</td>\n",
       "      <td>None</td>\n",
       "      <td>None</td>\n",
       "      <td>None</td>\n",
       "      <td>None</td>\n",
       "      <td>None</td>\n",
       "      <td>141995165</td>\n",
       "      <td>Article</td>\n",
       "      <td>10.25300/MISQ/2020/14458</td>\n",
       "      <td>None</td>\n",
       "      <td>1</td>\n",
       "    </tr>\n",
       "    <tr>\n",
       "      <th>2</th>\n",
       "      <td>3</td>\n",
       "      <td>taming complexity in search matching: two-side...</td>\n",
       "      <td>We study digital multisided platforms as compl...</td>\n",
       "      <td>None</td>\n",
       "      <td>None</td>\n",
       "      <td>None</td>\n",
       "      <td>None</td>\n",
       "      <td>None</td>\n",
       "      <td>None</td>\n",
       "      <td>None</td>\n",
       "      <td>141995166</td>\n",
       "      <td>Article</td>\n",
       "      <td>10.25300/MISQ/2020/14424</td>\n",
       "      <td>None</td>\n",
       "      <td>1</td>\n",
       "    </tr>\n",
       "    <tr>\n",
       "      <th>3</th>\n",
       "      <td>4</td>\n",
       "      <td>organized complexity of digital business strat...</td>\n",
       "      <td>How should firms configure organizational capa...</td>\n",
       "      <td>None</td>\n",
       "      <td>None</td>\n",
       "      <td>None</td>\n",
       "      <td>None</td>\n",
       "      <td>None</td>\n",
       "      <td>None</td>\n",
       "      <td>None</td>\n",
       "      <td>141995167</td>\n",
       "      <td>Article</td>\n",
       "      <td>10.25300/MISQ/2020/14477</td>\n",
       "      <td>None</td>\n",
       "      <td>1</td>\n",
       "    </tr>\n",
       "    <tr>\n",
       "      <th>4</th>\n",
       "      <td>5</td>\n",
       "      <td>digitization and phase transitions in platform...</td>\n",
       "      <td>This paper draws on complex adaptive systems (...</td>\n",
       "      <td>None</td>\n",
       "      <td>None</td>\n",
       "      <td>None</td>\n",
       "      <td>None</td>\n",
       "      <td>None</td>\n",
       "      <td>None</td>\n",
       "      <td>None</td>\n",
       "      <td>141995168</td>\n",
       "      <td>Article</td>\n",
       "      <td>10.25300/MISQ/2020/14520</td>\n",
       "      <td>None</td>\n",
       "      <td>1</td>\n",
       "    </tr>\n",
       "  </tbody>\n",
       "</table>\n",
       "</div>"
      ],
      "text/plain": [
       "   id                                              title  \\\n",
       "0   1  complexity and information systems research in...   \n",
       "1   2      the dynamics of drift in digitized processes.   \n",
       "2   3  taming complexity in search matching: two-side...   \n",
       "3   4  organized complexity of digital business strat...   \n",
       "4   5  digitization and phase transitions in platform...   \n",
       "\n",
       "                                            abstract publication_date  \\\n",
       "0  Complexity is all around us in this increasing...             None   \n",
       "1  This paper uses a simulation to build new theo...             None   \n",
       "2  We study digital multisided platforms as compl...             None   \n",
       "3  How should firms configure organizational capa...             None   \n",
       "4  This paper draws on complex adaptive systems (...             None   \n",
       "\n",
       "  submission_date online_date revision_date accepted_date cover_url full_url  \\\n",
       "0            None        None          None          None      None     None   \n",
       "1            None        None          None          None      None     None   \n",
       "2            None        None          None          None      None     None   \n",
       "3            None        None          None          None      None     None   \n",
       "4            None        None          None          None      None     None   \n",
       "\n",
       "  accession_number document_type                       doi manually_check  \\\n",
       "0        141995164       Article  10.25300/MISQ/2020/13304           None   \n",
       "1        141995165       Article  10.25300/MISQ/2020/14458           None   \n",
       "2        141995166       Article  10.25300/MISQ/2020/14424           None   \n",
       "3        141995167       Article  10.25300/MISQ/2020/14477           None   \n",
       "4        141995168       Article  10.25300/MISQ/2020/14520           None   \n",
       "\n",
       "   journal_id  \n",
       "0           1  \n",
       "1           1  \n",
       "2           1  \n",
       "3           1  \n",
       "4           1  "
      ]
     },
     "execution_count": 436,
     "metadata": {},
     "output_type": "execute_result"
    }
   ],
   "source": [
    "# paper\n",
    "paper = pd.read_sql_query(\"select * from paper;\", conn)\n",
    "paper.head()"
   ]
  },
  {
   "cell_type": "code",
   "execution_count": 437,
   "metadata": {},
   "outputs": [
    {
     "name": "stdout",
     "output_type": "stream",
     "text": [
      "<class 'pandas.core.frame.DataFrame'>\n",
      "RangeIndex: 4526 entries, 0 to 4525\n",
      "Data columns (total 15 columns):\n",
      " #   Column            Non-Null Count  Dtype \n",
      "---  ------            --------------  ----- \n",
      " 0   id                4526 non-null   int64 \n",
      " 1   title             4526 non-null   object\n",
      " 2   abstract          4526 non-null   object\n",
      " 3   publication_date  0 non-null      object\n",
      " 4   submission_date   0 non-null      object\n",
      " 5   online_date       0 non-null      object\n",
      " 6   revision_date     0 non-null      object\n",
      " 7   accepted_date     0 non-null      object\n",
      " 8   cover_url         0 non-null      object\n",
      " 9   full_url          0 non-null      object\n",
      " 10  accession_number  4526 non-null   object\n",
      " 11  document_type     4526 non-null   object\n",
      " 12  doi               4526 non-null   object\n",
      " 13  manually_check    158 non-null    object\n",
      " 14  journal_id        4526 non-null   int64 \n",
      "dtypes: int64(2), object(13)\n",
      "memory usage: 530.5+ KB\n"
     ]
    }
   ],
   "source": [
    "# info for paper\n",
    "# there are 4526 entries within 15 attributes\n",
    "paper.info()"
   ]
  },
  {
   "cell_type": "code",
   "execution_count": 438,
   "metadata": {},
   "outputs": [
    {
     "data": {
      "text/html": [
       "<div>\n",
       "<style scoped>\n",
       "    .dataframe tbody tr th:only-of-type {\n",
       "        vertical-align: middle;\n",
       "    }\n",
       "\n",
       "    .dataframe tbody tr th {\n",
       "        vertical-align: top;\n",
       "    }\n",
       "\n",
       "    .dataframe thead th {\n",
       "        text-align: right;\n",
       "    }\n",
       "</style>\n",
       "<table border=\"1\" class=\"dataframe\">\n",
       "  <thead>\n",
       "    <tr style=\"text-align: right;\">\n",
       "      <th></th>\n",
       "      <th>paper_id</th>\n",
       "      <th>author_id</th>\n",
       "    </tr>\n",
       "  </thead>\n",
       "  <tbody>\n",
       "    <tr>\n",
       "      <th>0</th>\n",
       "      <td>1</td>\n",
       "      <td>4</td>\n",
       "    </tr>\n",
       "    <tr>\n",
       "      <th>1</th>\n",
       "      <td>1</td>\n",
       "      <td>1</td>\n",
       "    </tr>\n",
       "    <tr>\n",
       "      <th>2</th>\n",
       "      <td>1</td>\n",
       "      <td>2</td>\n",
       "    </tr>\n",
       "    <tr>\n",
       "      <th>3</th>\n",
       "      <td>1</td>\n",
       "      <td>3</td>\n",
       "    </tr>\n",
       "    <tr>\n",
       "      <th>4</th>\n",
       "      <td>2</td>\n",
       "      <td>8</td>\n",
       "    </tr>\n",
       "  </tbody>\n",
       "</table>\n",
       "</div>"
      ],
      "text/plain": [
       "   paper_id  author_id\n",
       "0         1          4\n",
       "1         1          1\n",
       "2         1          2\n",
       "3         1          3\n",
       "4         2          8"
      ]
     },
     "execution_count": 438,
     "metadata": {},
     "output_type": "execute_result"
    }
   ],
   "source": [
    "# paper_author\n",
    "paper_author = pd.read_sql_query(\"select * from paper_author;\", conn)\n",
    "paper_author.head()"
   ]
  },
  {
   "cell_type": "code",
   "execution_count": 439,
   "metadata": {},
   "outputs": [
    {
     "name": "stdout",
     "output_type": "stream",
     "text": [
      "<class 'pandas.core.frame.DataFrame'>\n",
      "RangeIndex: 10175 entries, 0 to 10174\n",
      "Data columns (total 2 columns):\n",
      " #   Column     Non-Null Count  Dtype\n",
      "---  ------     --------------  -----\n",
      " 0   paper_id   10175 non-null  int64\n",
      " 1   author_id  10175 non-null  int64\n",
      "dtypes: int64(2)\n",
      "memory usage: 159.1 KB\n"
     ]
    }
   ],
   "source": [
    "# info for paper_author\n",
    "# there are 10175 entries within 2 attributes\n",
    "paper_author.info()"
   ]
  },
  {
   "cell_type": "code",
   "execution_count": 440,
   "metadata": {},
   "outputs": [
    {
     "data": {
      "text/html": [
       "<div>\n",
       "<style scoped>\n",
       "    .dataframe tbody tr th:only-of-type {\n",
       "        vertical-align: middle;\n",
       "    }\n",
       "\n",
       "    .dataframe tbody tr th {\n",
       "        vertical-align: top;\n",
       "    }\n",
       "\n",
       "    .dataframe thead th {\n",
       "        text-align: right;\n",
       "    }\n",
       "</style>\n",
       "<table border=\"1\" class=\"dataframe\">\n",
       "  <thead>\n",
       "    <tr style=\"text-align: right;\">\n",
       "      <th></th>\n",
       "      <th>paper_id</th>\n",
       "      <th>keyword_id</th>\n",
       "    </tr>\n",
       "  </thead>\n",
       "  <tbody>\n",
       "    <tr>\n",
       "      <th>0</th>\n",
       "      <td>1</td>\n",
       "      <td>1</td>\n",
       "    </tr>\n",
       "    <tr>\n",
       "      <th>1</th>\n",
       "      <td>1</td>\n",
       "      <td>2</td>\n",
       "    </tr>\n",
       "    <tr>\n",
       "      <th>2</th>\n",
       "      <td>1</td>\n",
       "      <td>3</td>\n",
       "    </tr>\n",
       "    <tr>\n",
       "      <th>3</th>\n",
       "      <td>1</td>\n",
       "      <td>4</td>\n",
       "    </tr>\n",
       "    <tr>\n",
       "      <th>4</th>\n",
       "      <td>1</td>\n",
       "      <td>5</td>\n",
       "    </tr>\n",
       "  </tbody>\n",
       "</table>\n",
       "</div>"
      ],
      "text/plain": [
       "   paper_id  keyword_id\n",
       "0         1           1\n",
       "1         1           2\n",
       "2         1           3\n",
       "3         1           4\n",
       "4         1           5"
      ]
     },
     "execution_count": 440,
     "metadata": {},
     "output_type": "execute_result"
    }
   ],
   "source": [
    "# paper_keyword\n",
    "paper_keyword = pd.read_sql_query(\"select * from paper_keyword;\", conn)\n",
    "paper_keyword.head()"
   ]
  },
  {
   "cell_type": "code",
   "execution_count": 441,
   "metadata": {},
   "outputs": [
    {
     "name": "stdout",
     "output_type": "stream",
     "text": [
      "<class 'pandas.core.frame.DataFrame'>\n",
      "RangeIndex: 18302 entries, 0 to 18301\n",
      "Data columns (total 2 columns):\n",
      " #   Column      Non-Null Count  Dtype\n",
      "---  ------      --------------  -----\n",
      " 0   paper_id    18302 non-null  int64\n",
      " 1   keyword_id  18302 non-null  int64\n",
      "dtypes: int64(2)\n",
      "memory usage: 286.1 KB\n"
     ]
    }
   ],
   "source": [
    "# info for 'paper_keyword'\n",
    "# 'paper_keyword' has 18302 entries within 2 attributes\n",
    "paper_keyword.info()"
   ]
  },
  {
   "cell_type": "code",
   "execution_count": 442,
   "metadata": {},
   "outputs": [
    {
     "data": {
      "text/html": [
       "<div>\n",
       "<style scoped>\n",
       "    .dataframe tbody tr th:only-of-type {\n",
       "        vertical-align: middle;\n",
       "    }\n",
       "\n",
       "    .dataframe tbody tr th {\n",
       "        vertical-align: top;\n",
       "    }\n",
       "\n",
       "    .dataframe thead th {\n",
       "        text-align: right;\n",
       "    }\n",
       "</style>\n",
       "<table border=\"1\" class=\"dataframe\">\n",
       "  <thead>\n",
       "    <tr style=\"text-align: right;\">\n",
       "      <th></th>\n",
       "      <th>paper_id</th>\n",
       "      <th>subject_id</th>\n",
       "    </tr>\n",
       "  </thead>\n",
       "  <tbody>\n",
       "    <tr>\n",
       "      <th>0</th>\n",
       "      <td>1</td>\n",
       "      <td>1</td>\n",
       "    </tr>\n",
       "    <tr>\n",
       "      <th>1</th>\n",
       "      <td>1</td>\n",
       "      <td>2</td>\n",
       "    </tr>\n",
       "    <tr>\n",
       "      <th>2</th>\n",
       "      <td>1</td>\n",
       "      <td>3</td>\n",
       "    </tr>\n",
       "    <tr>\n",
       "      <th>3</th>\n",
       "      <td>1</td>\n",
       "      <td>4</td>\n",
       "    </tr>\n",
       "    <tr>\n",
       "      <th>4</th>\n",
       "      <td>1</td>\n",
       "      <td>5</td>\n",
       "    </tr>\n",
       "  </tbody>\n",
       "</table>\n",
       "</div>"
      ],
      "text/plain": [
       "   paper_id  subject_id\n",
       "0         1           1\n",
       "1         1           2\n",
       "2         1           3\n",
       "3         1           4\n",
       "4         1           5"
      ]
     },
     "execution_count": 442,
     "metadata": {},
     "output_type": "execute_result"
    }
   ],
   "source": [
    "# paper_subject\n",
    "paper_subject = pd.read_sql_query(\"select * from paper_subject;\", conn)\n",
    "paper_subject.head()"
   ]
  },
  {
   "cell_type": "code",
   "execution_count": 443,
   "metadata": {},
   "outputs": [
    {
     "name": "stdout",
     "output_type": "stream",
     "text": [
      "<class 'pandas.core.frame.DataFrame'>\n",
      "RangeIndex: 34998 entries, 0 to 34997\n",
      "Data columns (total 2 columns):\n",
      " #   Column      Non-Null Count  Dtype\n",
      "---  ------      --------------  -----\n",
      " 0   paper_id    34998 non-null  int64\n",
      " 1   subject_id  34998 non-null  int64\n",
      "dtypes: int64(2)\n",
      "memory usage: 547.0 KB\n"
     ]
    }
   ],
   "source": [
    "# info for 'paper_subject'\n",
    "# 'paper_subject' has 34998 attributes within 2 attributes\n",
    "paper_subject.info()"
   ]
  },
  {
   "cell_type": "code",
   "execution_count": 444,
   "metadata": {},
   "outputs": [
    {
     "data": {
      "text/html": [
       "<div>\n",
       "<style scoped>\n",
       "    .dataframe tbody tr th:only-of-type {\n",
       "        vertical-align: middle;\n",
       "    }\n",
       "\n",
       "    .dataframe tbody tr th {\n",
       "        vertical-align: top;\n",
       "    }\n",
       "\n",
       "    .dataframe thead th {\n",
       "        text-align: right;\n",
       "    }\n",
       "</style>\n",
       "<table border=\"1\" class=\"dataframe\">\n",
       "  <thead>\n",
       "    <tr style=\"text-align: right;\">\n",
       "      <th></th>\n",
       "      <th>id</th>\n",
       "      <th>subject</th>\n",
       "    </tr>\n",
       "  </thead>\n",
       "  <tbody>\n",
       "    <tr>\n",
       "      <th>0</th>\n",
       "      <td>1</td>\n",
       "      <td>information storage &amp; retrieval systems</td>\n",
       "    </tr>\n",
       "    <tr>\n",
       "      <th>1</th>\n",
       "      <td>2</td>\n",
       "      <td>research</td>\n",
       "    </tr>\n",
       "    <tr>\n",
       "      <th>2</th>\n",
       "      <td>3</td>\n",
       "      <td>sociotechnical systems</td>\n",
       "    </tr>\n",
       "    <tr>\n",
       "      <th>3</th>\n",
       "      <td>4</td>\n",
       "      <td>digital technology</td>\n",
       "    </tr>\n",
       "    <tr>\n",
       "      <th>4</th>\n",
       "      <td>5</td>\n",
       "      <td>computational complexity</td>\n",
       "    </tr>\n",
       "  </tbody>\n",
       "</table>\n",
       "</div>"
      ],
      "text/plain": [
       "   id                                  subject\n",
       "0   1  information storage & retrieval systems\n",
       "1   2                                 research\n",
       "2   3                   sociotechnical systems\n",
       "3   4                       digital technology\n",
       "4   5                 computational complexity"
      ]
     },
     "execution_count": 444,
     "metadata": {},
     "output_type": "execute_result"
    }
   ],
   "source": [
    "# subject\n",
    "subject = pd.read_sql_query(\"select * from subject;\", conn)\n",
    "subject.head()"
   ]
  },
  {
   "cell_type": "code",
   "execution_count": 445,
   "metadata": {},
   "outputs": [
    {
     "name": "stdout",
     "output_type": "stream",
     "text": [
      "<class 'pandas.core.frame.DataFrame'>\n",
      "RangeIndex: 4754 entries, 0 to 4753\n",
      "Data columns (total 2 columns):\n",
      " #   Column   Non-Null Count  Dtype \n",
      "---  ------   --------------  ----- \n",
      " 0   id       4754 non-null   int64 \n",
      " 1   subject  4754 non-null   object\n",
      "dtypes: int64(1), object(1)\n",
      "memory usage: 74.4+ KB\n"
     ]
    }
   ],
   "source": [
    "# info for 'subject'\n",
    "# 'subject' has 4754 entries within 2 attributes\n",
    "subject.info()"
   ]
  },
  {
   "cell_type": "markdown",
   "metadata": {},
   "source": [
    "## PART 1: Analyze **'author'**"
   ]
  },
  {
   "cell_type": "code",
   "execution_count": 446,
   "metadata": {},
   "outputs": [
    {
     "name": "stdout",
     "output_type": "stream",
     "text": [
      "Totally there are 6366 authors in our dataset\n"
     ]
    }
   ],
   "source": [
    "# there are 2 datasets related to authors: 'author' and 'paper_author'\n",
    "print(f\"Totally there are {len(author)} authors in our dataset\")"
   ]
  },
  {
   "cell_type": "code",
   "execution_count": 447,
   "metadata": {},
   "outputs": [
    {
     "data": {
      "text/plain": [
       "4241    118\n",
       "2241     46\n",
       "656      39\n",
       "51       39\n",
       "1611     36\n",
       "       ... \n",
       "4037      1\n",
       "6086      1\n",
       "1996      1\n",
       "4045      1\n",
       "2049      1\n",
       "Name: author_id, Length: 6366, dtype: int64"
      ]
     },
     "execution_count": 447,
     "metadata": {},
     "output_type": "execute_result"
    }
   ],
   "source": [
    "# these 6366 authors also corresponds to the 'author_id' in 'paper_author'\n",
    "paper_author['author_id'].value_counts()"
   ]
  },
  {
   "cell_type": "code",
   "execution_count": 448,
   "metadata": {},
   "outputs": [
    {
     "name": "stdout",
     "output_type": "stream",
     "text": [
      "Totally there are 4844 unique authors in our dataset\n"
     ]
    }
   ],
   "source": [
    "# create a new list to record the unique author\n",
    "unique_author = author['full_name'].value_counts().index.tolist()\n",
    "print(f\"Totally there are {len(unique_author)} unique authors in our dataset\")"
   ]
  },
  {
   "cell_type": "code",
   "execution_count": 449,
   "metadata": {},
   "outputs": [
    {
     "data": {
      "text/plain": [
       "yes    158\n",
       "Name: manually_check, dtype: int64"
      ]
     },
     "execution_count": 449,
     "metadata": {},
     "output_type": "execute_result"
    }
   ],
   "source": [
    "# there are some duplicated entries for the same author\n",
    "# find the wrong observations through 'manually_check' in 'paper'\n",
    "# 'manually_check' indicates the wrong recording of the authors' information\n",
    "paper['manually_check'].value_counts()"
   ]
  },
  {
   "cell_type": "code",
   "execution_count": 450,
   "metadata": {},
   "outputs": [],
   "source": [
    "# there are 158 papers marked as 'manually_check'\n",
    "# find the papers\n",
    "manually_check_paper_id = paper[paper['manually_check']=='yes'].id.tolist()"
   ]
  },
  {
   "cell_type": "code",
   "execution_count": 451,
   "metadata": {},
   "outputs": [
    {
     "data": {
      "text/html": [
       "<div>\n",
       "<style scoped>\n",
       "    .dataframe tbody tr th:only-of-type {\n",
       "        vertical-align: middle;\n",
       "    }\n",
       "\n",
       "    .dataframe tbody tr th {\n",
       "        vertical-align: top;\n",
       "    }\n",
       "\n",
       "    .dataframe thead th {\n",
       "        text-align: right;\n",
       "    }\n",
       "</style>\n",
       "<table border=\"1\" class=\"dataframe\">\n",
       "  <thead>\n",
       "    <tr style=\"text-align: right;\">\n",
       "      <th></th>\n",
       "      <th>paper_id</th>\n",
       "      <th>author_id</th>\n",
       "    </tr>\n",
       "  </thead>\n",
       "  <tbody>\n",
       "    <tr>\n",
       "      <th>637</th>\n",
       "      <td>211</td>\n",
       "      <td>548</td>\n",
       "    </tr>\n",
       "    <tr>\n",
       "      <th>638</th>\n",
       "      <td>211</td>\n",
       "      <td>549</td>\n",
       "    </tr>\n",
       "    <tr>\n",
       "      <th>639</th>\n",
       "      <td>211</td>\n",
       "      <td>550</td>\n",
       "    </tr>\n",
       "    <tr>\n",
       "      <th>640</th>\n",
       "      <td>211</td>\n",
       "      <td>551</td>\n",
       "    </tr>\n",
       "    <tr>\n",
       "      <th>641</th>\n",
       "      <td>212</td>\n",
       "      <td>552</td>\n",
       "    </tr>\n",
       "    <tr>\n",
       "      <th>...</th>\n",
       "      <td>...</td>\n",
       "      <td>...</td>\n",
       "    </tr>\n",
       "    <tr>\n",
       "      <th>10087</th>\n",
       "      <td>4468</td>\n",
       "      <td>2279</td>\n",
       "    </tr>\n",
       "    <tr>\n",
       "      <th>10088</th>\n",
       "      <td>4468</td>\n",
       "      <td>2573</td>\n",
       "    </tr>\n",
       "    <tr>\n",
       "      <th>10089</th>\n",
       "      <td>4468</td>\n",
       "      <td>6226</td>\n",
       "    </tr>\n",
       "    <tr>\n",
       "      <th>10130</th>\n",
       "      <td>4497</td>\n",
       "      <td>6349</td>\n",
       "    </tr>\n",
       "    <tr>\n",
       "      <th>10131</th>\n",
       "      <td>4497</td>\n",
       "      <td>6350</td>\n",
       "    </tr>\n",
       "  </tbody>\n",
       "</table>\n",
       "<p>500 rows × 2 columns</p>\n",
       "</div>"
      ],
      "text/plain": [
       "       paper_id  author_id\n",
       "637         211        548\n",
       "638         211        549\n",
       "639         211        550\n",
       "640         211        551\n",
       "641         212        552\n",
       "...         ...        ...\n",
       "10087      4468       2279\n",
       "10088      4468       2573\n",
       "10089      4468       6226\n",
       "10130      4497       6349\n",
       "10131      4497       6350\n",
       "\n",
       "[500 rows x 2 columns]"
      ]
     },
     "execution_count": 451,
     "metadata": {},
     "output_type": "execute_result"
    }
   ],
   "source": [
    "# find the authors related to these papers\n",
    "paper_author[paper_author['paper_id'].isin(manually_check_paper_id)]"
   ]
  },
  {
   "cell_type": "code",
   "execution_count": 452,
   "metadata": {},
   "outputs": [],
   "source": [
    "# author_id for authors related to manually checked papers\n",
    "manually_check_author_id = list(set(paper_author[paper_author['paper_id'].isin(manually_check_paper_id)].author_id.tolist()))"
   ]
  },
  {
   "cell_type": "code",
   "execution_count": 453,
   "metadata": {},
   "outputs": [
    {
     "name": "stdout",
     "output_type": "stream",
     "text": [
      "there are 477 authors related to the papers needed manually checked\n"
     ]
    }
   ],
   "source": [
    "print(f\"there are {len(manually_check_author_id)} authors related to the papers needed manually checked\")"
   ]
  },
  {
   "cell_type": "code",
   "execution_count": 454,
   "metadata": {},
   "outputs": [
    {
     "data": {
      "text/html": [
       "<div>\n",
       "<style scoped>\n",
       "    .dataframe tbody tr th:only-of-type {\n",
       "        vertical-align: middle;\n",
       "    }\n",
       "\n",
       "    .dataframe tbody tr th {\n",
       "        vertical-align: top;\n",
       "    }\n",
       "\n",
       "    .dataframe thead th {\n",
       "        text-align: right;\n",
       "    }\n",
       "</style>\n",
       "<table border=\"1\" class=\"dataframe\">\n",
       "  <thead>\n",
       "    <tr style=\"text-align: right;\">\n",
       "      <th></th>\n",
       "      <th>id</th>\n",
       "      <th>full_name</th>\n",
       "      <th>first_name</th>\n",
       "      <th>last_name</th>\n",
       "      <th>middle_name</th>\n",
       "      <th>email</th>\n",
       "      <th>affiliation</th>\n",
       "    </tr>\n",
       "  </thead>\n",
       "  <tbody>\n",
       "    <tr>\n",
       "      <th>0</th>\n",
       "      <td>1</td>\n",
       "      <td>Benbya, Hind</td>\n",
       "      <td>Hind</td>\n",
       "      <td>Benbya</td>\n",
       "      <td>None</td>\n",
       "      <td>h.benbya@montpellier-bs.com</td>\n",
       "      <td>Technology and Innovation Management, Montpell...</td>\n",
       "    </tr>\n",
       "    <tr>\n",
       "      <th>1</th>\n",
       "      <td>2</td>\n",
       "      <td>Ning Nan</td>\n",
       "      <td>Ning</td>\n",
       "      <td>Nan</td>\n",
       "      <td>None</td>\n",
       "      <td>ning.nan@sauder.ubc.ca</td>\n",
       "      <td>Sauder School of Business, University of Briti...</td>\n",
       "    </tr>\n",
       "    <tr>\n",
       "      <th>2</th>\n",
       "      <td>3</td>\n",
       "      <td>Tanriverdi, Hüseyin</td>\n",
       "      <td>Hüseyin</td>\n",
       "      <td>Tanriverdi</td>\n",
       "      <td>None</td>\n",
       "      <td>Huseyin.Tanriverdi@mccombs.utexas.edu</td>\n",
       "      <td>McCombs School of Business, The University of ...</td>\n",
       "    </tr>\n",
       "    <tr>\n",
       "      <th>3</th>\n",
       "      <td>4</td>\n",
       "      <td>Youngjin Yoo</td>\n",
       "      <td>Youngjin</td>\n",
       "      <td>Yoo</td>\n",
       "      <td>None</td>\n",
       "      <td>yxy23@case.edu</td>\n",
       "      <td>Department of Design &amp; Innovation, The Weather...</td>\n",
       "    </tr>\n",
       "    <tr>\n",
       "      <th>4</th>\n",
       "      <td>5</td>\n",
       "      <td>Pentland, Brian T.</td>\n",
       "      <td>Brian</td>\n",
       "      <td>Pentland</td>\n",
       "      <td>T.</td>\n",
       "      <td>pentlan2@msu.edu</td>\n",
       "      <td>Eli Broad College of Business, Michigan State ...</td>\n",
       "    </tr>\n",
       "    <tr>\n",
       "      <th>...</th>\n",
       "      <td>...</td>\n",
       "      <td>...</td>\n",
       "      <td>...</td>\n",
       "      <td>...</td>\n",
       "      <td>...</td>\n",
       "      <td>...</td>\n",
       "      <td>...</td>\n",
       "    </tr>\n",
       "    <tr>\n",
       "      <th>6361</th>\n",
       "      <td>6362</td>\n",
       "      <td>Lockman, Abe</td>\n",
       "      <td>Abe</td>\n",
       "      <td>Lockman</td>\n",
       "      <td>None</td>\n",
       "      <td>nan</td>\n",
       "      <td>Assistant Professor, Department of Computer Sc...</td>\n",
       "    </tr>\n",
       "    <tr>\n",
       "      <th>6362</th>\n",
       "      <td>6363</td>\n",
       "      <td>Shalev, Jacob</td>\n",
       "      <td>Jacob</td>\n",
       "      <td>Shalev</td>\n",
       "      <td>None</td>\n",
       "      <td>nan</td>\n",
       "      <td>Graduate School of Business Administration, Ne...</td>\n",
       "    </tr>\n",
       "    <tr>\n",
       "      <th>6363</th>\n",
       "      <td>6364</td>\n",
       "      <td>Clark, Steven J.</td>\n",
       "      <td>Steven</td>\n",
       "      <td>Clark</td>\n",
       "      <td>J.</td>\n",
       "      <td>nan</td>\n",
       "      <td>Electronics Engineer, Software Support Center,...</td>\n",
       "    </tr>\n",
       "    <tr>\n",
       "      <th>6364</th>\n",
       "      <td>6365</td>\n",
       "      <td>Norman, Morton</td>\n",
       "      <td>Morton</td>\n",
       "      <td>Norman</td>\n",
       "      <td>None</td>\n",
       "      <td>nan</td>\n",
       "      <td>Assistant Professor, Department of Statistics ...</td>\n",
       "    </tr>\n",
       "    <tr>\n",
       "      <th>6365</th>\n",
       "      <td>6366</td>\n",
       "      <td>Muriel, Amador</td>\n",
       "      <td>Amador</td>\n",
       "      <td>Muriel</td>\n",
       "      <td>None</td>\n",
       "      <td>nan</td>\n",
       "      <td>Assistant Professor, Department of Statistics ...</td>\n",
       "    </tr>\n",
       "  </tbody>\n",
       "</table>\n",
       "<p>5889 rows × 7 columns</p>\n",
       "</div>"
      ],
      "text/plain": [
       "        id            full_name first_name   last_name middle_name  \\\n",
       "0        1         Benbya, Hind       Hind      Benbya        None   \n",
       "1        2             Ning Nan       Ning         Nan        None   \n",
       "2        3  Tanriverdi, Hüseyin    Hüseyin  Tanriverdi        None   \n",
       "3        4         Youngjin Yoo   Youngjin         Yoo        None   \n",
       "4        5   Pentland, Brian T.      Brian    Pentland          T.   \n",
       "...    ...                  ...        ...         ...         ...   \n",
       "6361  6362         Lockman, Abe        Abe     Lockman        None   \n",
       "6362  6363        Shalev, Jacob      Jacob      Shalev        None   \n",
       "6363  6364     Clark, Steven J.     Steven       Clark          J.   \n",
       "6364  6365       Norman, Morton     Morton      Norman        None   \n",
       "6365  6366       Muriel, Amador     Amador      Muriel        None   \n",
       "\n",
       "                                      email  \\\n",
       "0               h.benbya@montpellier-bs.com   \n",
       "1                    ning.nan@sauder.ubc.ca   \n",
       "2     Huseyin.Tanriverdi@mccombs.utexas.edu   \n",
       "3                            yxy23@case.edu   \n",
       "4                          pentlan2@msu.edu   \n",
       "...                                     ...   \n",
       "6361                                    nan   \n",
       "6362                                    nan   \n",
       "6363                                    nan   \n",
       "6364                                    nan   \n",
       "6365                                    nan   \n",
       "\n",
       "                                            affiliation  \n",
       "0     Technology and Innovation Management, Montpell...  \n",
       "1     Sauder School of Business, University of Briti...  \n",
       "2     McCombs School of Business, The University of ...  \n",
       "3     Department of Design & Innovation, The Weather...  \n",
       "4     Eli Broad College of Business, Michigan State ...  \n",
       "...                                                 ...  \n",
       "6361  Assistant Professor, Department of Computer Sc...  \n",
       "6362  Graduate School of Business Administration, Ne...  \n",
       "6363  Electronics Engineer, Software Support Center,...  \n",
       "6364  Assistant Professor, Department of Statistics ...  \n",
       "6365  Assistant Professor, Department of Statistics ...  \n",
       "\n",
       "[5889 rows x 7 columns]"
      ]
     },
     "execution_count": 454,
     "metadata": {},
     "output_type": "execute_result"
    }
   ],
   "source": [
    "# remove these authors from the original dataset 'author'\n",
    "author_remove = author[~author['id'].isin(manually_check_author_id)]\n",
    "author_remove"
   ]
  },
  {
   "cell_type": "code",
   "execution_count": 455,
   "metadata": {},
   "outputs": [
    {
     "name": "stdout",
     "output_type": "stream",
     "text": [
      "after removing authors related to manually checked papers, totally we have 5889 authors\n"
     ]
    }
   ],
   "source": [
    "print(f\"after removing authors related to manually checked papers, totally we have {len(author_remove)} authors\")"
   ]
  },
  {
   "cell_type": "code",
   "execution_count": 456,
   "metadata": {},
   "outputs": [
    {
     "name": "stdout",
     "output_type": "stream",
     "text": [
      "after removing authors related to manually checked papers, totally there are 4609 unique authors in our dataset\n"
     ]
    }
   ],
   "source": [
    "unique_author_remove = author_remove['full_name'].value_counts().index.tolist()\n",
    "print(f\"after removing authors related to manually checked papers, totally there are {len(unique_author_remove)} unique authors in our dataset\")"
   ]
  },
  {
   "cell_type": "code",
   "execution_count": 457,
   "metadata": {},
   "outputs": [],
   "source": [
    "# find authors with affiliation change\n",
    "author_change = author_remove[(author_remove.duplicated(['first_name', 'last_name'], keep=False)) & (~author_remove.duplicated(['affiliation'], keep=False))]"
   ]
  },
  {
   "cell_type": "code",
   "execution_count": 458,
   "metadata": {},
   "outputs": [
    {
     "data": {
      "text/html": [
       "<div>\n",
       "<style scoped>\n",
       "    .dataframe tbody tr th:only-of-type {\n",
       "        vertical-align: middle;\n",
       "    }\n",
       "\n",
       "    .dataframe tbody tr th {\n",
       "        vertical-align: top;\n",
       "    }\n",
       "\n",
       "    .dataframe thead th {\n",
       "        text-align: right;\n",
       "    }\n",
       "</style>\n",
       "<table border=\"1\" class=\"dataframe\">\n",
       "  <thead>\n",
       "    <tr style=\"text-align: right;\">\n",
       "      <th></th>\n",
       "      <th>id</th>\n",
       "      <th>full_name</th>\n",
       "      <th>first_name</th>\n",
       "      <th>last_name</th>\n",
       "      <th>middle_name</th>\n",
       "      <th>email</th>\n",
       "      <th>affiliation</th>\n",
       "    </tr>\n",
       "  </thead>\n",
       "  <tbody>\n",
       "    <tr>\n",
       "      <th>1</th>\n",
       "      <td>2</td>\n",
       "      <td>Ning Nan</td>\n",
       "      <td>Ning</td>\n",
       "      <td>Nan</td>\n",
       "      <td>None</td>\n",
       "      <td>ning.nan@sauder.ubc.ca</td>\n",
       "      <td>Sauder School of Business, University of Briti...</td>\n",
       "    </tr>\n",
       "    <tr>\n",
       "      <th>2</th>\n",
       "      <td>3</td>\n",
       "      <td>Tanriverdi, Hüseyin</td>\n",
       "      <td>Hüseyin</td>\n",
       "      <td>Tanriverdi</td>\n",
       "      <td>None</td>\n",
       "      <td>Huseyin.Tanriverdi@mccombs.utexas.edu</td>\n",
       "      <td>McCombs School of Business, The University of ...</td>\n",
       "    </tr>\n",
       "    <tr>\n",
       "      <th>3</th>\n",
       "      <td>4</td>\n",
       "      <td>Youngjin Yoo</td>\n",
       "      <td>Youngjin</td>\n",
       "      <td>Yoo</td>\n",
       "      <td>None</td>\n",
       "      <td>yxy23@case.edu</td>\n",
       "      <td>Department of Design &amp; Innovation, The Weather...</td>\n",
       "    </tr>\n",
       "    <tr>\n",
       "      <th>12</th>\n",
       "      <td>13</td>\n",
       "      <td>YoungKi Park</td>\n",
       "      <td>YoungKi</td>\n",
       "      <td>Park</td>\n",
       "      <td>None</td>\n",
       "      <td>ykpark@gwu.edu</td>\n",
       "      <td>Information Systems and Technology Management,...</td>\n",
       "    </tr>\n",
       "    <tr>\n",
       "      <th>13</th>\n",
       "      <td>14</td>\n",
       "      <td>Mithas, Sunil</td>\n",
       "      <td>Sunil</td>\n",
       "      <td>Mithas</td>\n",
       "      <td>None</td>\n",
       "      <td>smithas@usf.edu</td>\n",
       "      <td>Muma College of Business, University of South ...</td>\n",
       "    </tr>\n",
       "  </tbody>\n",
       "</table>\n",
       "</div>"
      ],
      "text/plain": [
       "    id            full_name first_name   last_name middle_name  \\\n",
       "1    2             Ning Nan       Ning         Nan        None   \n",
       "2    3  Tanriverdi, Hüseyin    Hüseyin  Tanriverdi        None   \n",
       "3    4         Youngjin Yoo   Youngjin         Yoo        None   \n",
       "12  13         YoungKi Park    YoungKi        Park        None   \n",
       "13  14        Mithas, Sunil      Sunil      Mithas        None   \n",
       "\n",
       "                                    email  \\\n",
       "1                  ning.nan@sauder.ubc.ca   \n",
       "2   Huseyin.Tanriverdi@mccombs.utexas.edu   \n",
       "3                          yxy23@case.edu   \n",
       "12                         ykpark@gwu.edu   \n",
       "13                        smithas@usf.edu   \n",
       "\n",
       "                                          affiliation  \n",
       "1   Sauder School of Business, University of Briti...  \n",
       "2   McCombs School of Business, The University of ...  \n",
       "3   Department of Design & Innovation, The Weather...  \n",
       "12  Information Systems and Technology Management,...  \n",
       "13  Muma College of Business, University of South ...  "
      ]
     },
     "execution_count": 458,
     "metadata": {},
     "output_type": "execute_result"
    }
   ],
   "source": [
    "author_change.head()"
   ]
  },
  {
   "cell_type": "code",
   "execution_count": 459,
   "metadata": {},
   "outputs": [
    {
     "data": {
      "text/html": [
       "<div>\n",
       "<style scoped>\n",
       "    .dataframe tbody tr th:only-of-type {\n",
       "        vertical-align: middle;\n",
       "    }\n",
       "\n",
       "    .dataframe tbody tr th {\n",
       "        vertical-align: top;\n",
       "    }\n",
       "\n",
       "    .dataframe thead th {\n",
       "        text-align: right;\n",
       "    }\n",
       "</style>\n",
       "<table border=\"1\" class=\"dataframe\">\n",
       "  <thead>\n",
       "    <tr style=\"text-align: right;\">\n",
       "      <th></th>\n",
       "      <th>id</th>\n",
       "      <th>full_name</th>\n",
       "      <th>first_name</th>\n",
       "      <th>last_name</th>\n",
       "      <th>middle_name</th>\n",
       "      <th>email</th>\n",
       "      <th>affiliation</th>\n",
       "    </tr>\n",
       "  </thead>\n",
       "  <tbody>\n",
       "    <tr>\n",
       "      <th>1</th>\n",
       "      <td>2</td>\n",
       "      <td>Ning Nan</td>\n",
       "      <td>Ning</td>\n",
       "      <td>Nan</td>\n",
       "      <td>None</td>\n",
       "      <td>ning.nan@sauder.ubc.ca</td>\n",
       "      <td>Sauder School of Business, University of Briti...</td>\n",
       "    </tr>\n",
       "    <tr>\n",
       "      <th>1211</th>\n",
       "      <td>1212</td>\n",
       "      <td>Nan, Ning</td>\n",
       "      <td>Ning</td>\n",
       "      <td>Nan</td>\n",
       "      <td>None</td>\n",
       "      <td>nnan@ou.edu</td>\n",
       "      <td>Michael F. Price College of Business, Universi...</td>\n",
       "    </tr>\n",
       "    <tr>\n",
       "      <th>4793</th>\n",
       "      <td>4794</td>\n",
       "      <td>Nan, Ning</td>\n",
       "      <td>Ning</td>\n",
       "      <td>Nan</td>\n",
       "      <td>None</td>\n",
       "      <td>nan</td>\n",
       "      <td>nan</td>\n",
       "    </tr>\n",
       "  </tbody>\n",
       "</table>\n",
       "</div>"
      ],
      "text/plain": [
       "        id  full_name first_name last_name middle_name  \\\n",
       "1        2   Ning Nan       Ning       Nan        None   \n",
       "1211  1212  Nan, Ning       Ning       Nan        None   \n",
       "4793  4794  Nan, Ning       Ning       Nan        None   \n",
       "\n",
       "                       email  \\\n",
       "1     ning.nan@sauder.ubc.ca   \n",
       "1211             nnan@ou.edu   \n",
       "4793                     nan   \n",
       "\n",
       "                                            affiliation  \n",
       "1     Sauder School of Business, University of Briti...  \n",
       "1211  Michael F. Price College of Business, Universi...  \n",
       "4793                                                nan  "
      ]
     },
     "execution_count": 459,
     "metadata": {},
     "output_type": "execute_result"
    }
   ],
   "source": [
    "# using 'Ning Nan' as an example\n",
    "# Ning Nan changes the affiliation\n",
    "author_remove[(author_remove['first_name']=='Ning') & (author_remove['last_name']=='Nan')]"
   ]
  },
  {
   "cell_type": "code",
   "execution_count": 460,
   "metadata": {},
   "outputs": [],
   "source": [
    "# remove these observations whose affiliation is 'nan\n",
    "author_change = author_change[~author_change['affiliation'].isin(['nan'])]"
   ]
  },
  {
   "cell_type": "code",
   "execution_count": 461,
   "metadata": {},
   "outputs": [],
   "source": [
    "# 'full_name' is not formatted\n",
    "# so we create a 'modified_name' to combine the first name and last name\n",
    "modified_name = author_change['first_name'].str.lower() + \" \" + author_change['last_name'].str.lower()"
   ]
  },
  {
   "cell_type": "code",
   "execution_count": 462,
   "metadata": {},
   "outputs": [
    {
     "data": {
      "text/html": [
       "<div>\n",
       "<style scoped>\n",
       "    .dataframe tbody tr th:only-of-type {\n",
       "        vertical-align: middle;\n",
       "    }\n",
       "\n",
       "    .dataframe tbody tr th {\n",
       "        vertical-align: top;\n",
       "    }\n",
       "\n",
       "    .dataframe thead th {\n",
       "        text-align: right;\n",
       "    }\n",
       "</style>\n",
       "<table border=\"1\" class=\"dataframe\">\n",
       "  <thead>\n",
       "    <tr style=\"text-align: right;\">\n",
       "      <th></th>\n",
       "      <th>id</th>\n",
       "      <th>full_name</th>\n",
       "      <th>first_name</th>\n",
       "      <th>last_name</th>\n",
       "      <th>middle_name</th>\n",
       "      <th>email</th>\n",
       "      <th>affiliation</th>\n",
       "      <th>modified_name</th>\n",
       "    </tr>\n",
       "  </thead>\n",
       "  <tbody>\n",
       "    <tr>\n",
       "      <th>1</th>\n",
       "      <td>2</td>\n",
       "      <td>Ning Nan</td>\n",
       "      <td>Ning</td>\n",
       "      <td>Nan</td>\n",
       "      <td>None</td>\n",
       "      <td>ning.nan@sauder.ubc.ca</td>\n",
       "      <td>Sauder School of Business, University of Briti...</td>\n",
       "      <td>ning nan</td>\n",
       "    </tr>\n",
       "    <tr>\n",
       "      <th>2</th>\n",
       "      <td>3</td>\n",
       "      <td>Tanriverdi, Hüseyin</td>\n",
       "      <td>Hüseyin</td>\n",
       "      <td>Tanriverdi</td>\n",
       "      <td>None</td>\n",
       "      <td>Huseyin.Tanriverdi@mccombs.utexas.edu</td>\n",
       "      <td>McCombs School of Business, The University of ...</td>\n",
       "      <td>hüseyin tanriverdi</td>\n",
       "    </tr>\n",
       "    <tr>\n",
       "      <th>3</th>\n",
       "      <td>4</td>\n",
       "      <td>Youngjin Yoo</td>\n",
       "      <td>Youngjin</td>\n",
       "      <td>Yoo</td>\n",
       "      <td>None</td>\n",
       "      <td>yxy23@case.edu</td>\n",
       "      <td>Department of Design &amp; Innovation, The Weather...</td>\n",
       "      <td>youngjin yoo</td>\n",
       "    </tr>\n",
       "    <tr>\n",
       "      <th>12</th>\n",
       "      <td>13</td>\n",
       "      <td>YoungKi Park</td>\n",
       "      <td>YoungKi</td>\n",
       "      <td>Park</td>\n",
       "      <td>None</td>\n",
       "      <td>ykpark@gwu.edu</td>\n",
       "      <td>Information Systems and Technology Management,...</td>\n",
       "      <td>youngki park</td>\n",
       "    </tr>\n",
       "    <tr>\n",
       "      <th>13</th>\n",
       "      <td>14</td>\n",
       "      <td>Mithas, Sunil</td>\n",
       "      <td>Sunil</td>\n",
       "      <td>Mithas</td>\n",
       "      <td>None</td>\n",
       "      <td>smithas@usf.edu</td>\n",
       "      <td>Muma College of Business, University of South ...</td>\n",
       "      <td>sunil mithas</td>\n",
       "    </tr>\n",
       "  </tbody>\n",
       "</table>\n",
       "</div>"
      ],
      "text/plain": [
       "    id            full_name first_name   last_name middle_name  \\\n",
       "1    2             Ning Nan       Ning         Nan        None   \n",
       "2    3  Tanriverdi, Hüseyin    Hüseyin  Tanriverdi        None   \n",
       "3    4         Youngjin Yoo   Youngjin         Yoo        None   \n",
       "12  13         YoungKi Park    YoungKi        Park        None   \n",
       "13  14        Mithas, Sunil      Sunil      Mithas        None   \n",
       "\n",
       "                                    email  \\\n",
       "1                  ning.nan@sauder.ubc.ca   \n",
       "2   Huseyin.Tanriverdi@mccombs.utexas.edu   \n",
       "3                          yxy23@case.edu   \n",
       "12                         ykpark@gwu.edu   \n",
       "13                        smithas@usf.edu   \n",
       "\n",
       "                                          affiliation       modified_name  \n",
       "1   Sauder School of Business, University of Briti...            ning nan  \n",
       "2   McCombs School of Business, The University of ...  hüseyin tanriverdi  \n",
       "3   Department of Design & Innovation, The Weather...        youngjin yoo  \n",
       "12  Information Systems and Technology Management,...        youngki park  \n",
       "13  Muma College of Business, University of South ...        sunil mithas  "
      ]
     },
     "execution_count": 462,
     "metadata": {},
     "output_type": "execute_result"
    }
   ],
   "source": [
    "# concat the 'modified_name' to the original dataframe\n",
    "author_change = pd.concat([author_change, pd.DataFrame(modified_name, columns=['modified_name'])], axis=1)\n",
    "author_change.head()"
   ]
  },
  {
   "cell_type": "code",
   "execution_count": 463,
   "metadata": {},
   "outputs": [],
   "source": [
    "# name for all authors with different affiliation\n",
    "author_change_name = author_change['modified_name'].value_counts().index.tolist()"
   ]
  },
  {
   "cell_type": "code",
   "execution_count": 464,
   "metadata": {},
   "outputs": [
    {
     "name": "stdout",
     "output_type": "stream",
     "text": [
      "we find 826 authors within the change of affiliation\n"
     ]
    }
   ],
   "source": [
    "print(f\"we find {len(author_change_name)} authors within the change of affiliation\")"
   ]
  },
  {
   "cell_type": "code",
   "execution_count": 465,
   "metadata": {},
   "outputs": [
    {
     "data": {
      "text/plain": [
       "['arvind malhotra',\n",
       " 'izak benbasat',\n",
       " 'detmar straub',\n",
       " 'carol saunders',\n",
       " 'm. markus',\n",
       " 'joseph valacich',\n",
       " 'dorothy leidner',\n",
       " 'kalle lyytinen',\n",
       " 'john king',\n",
       " 'wonseok oh']"
      ]
     },
     "execution_count": 465,
     "metadata": {},
     "output_type": "execute_result"
    }
   ],
   "source": [
    "# display some authors in 'author_change_name'\n",
    "author_change_name[:10]"
   ]
  },
  {
   "cell_type": "code",
   "execution_count": 466,
   "metadata": {},
   "outputs": [
    {
     "data": {
      "text/html": [
       "<div>\n",
       "<style scoped>\n",
       "    .dataframe tbody tr th:only-of-type {\n",
       "        vertical-align: middle;\n",
       "    }\n",
       "\n",
       "    .dataframe tbody tr th {\n",
       "        vertical-align: top;\n",
       "    }\n",
       "\n",
       "    .dataframe thead th {\n",
       "        text-align: right;\n",
       "    }\n",
       "</style>\n",
       "<table border=\"1\" class=\"dataframe\">\n",
       "  <thead>\n",
       "    <tr style=\"text-align: right;\">\n",
       "      <th></th>\n",
       "      <th>id</th>\n",
       "      <th>full_name</th>\n",
       "      <th>first_name</th>\n",
       "      <th>last_name</th>\n",
       "      <th>middle_name</th>\n",
       "      <th>email</th>\n",
       "      <th>affiliation</th>\n",
       "    </tr>\n",
       "  </thead>\n",
       "  <tbody>\n",
       "    <tr>\n",
       "      <th>885</th>\n",
       "      <td>886</td>\n",
       "      <td>Malhotra, Arvind</td>\n",
       "      <td>Arvind</td>\n",
       "      <td>Malhotra</td>\n",
       "      <td>None</td>\n",
       "      <td>malhotra@unc.edu</td>\n",
       "      <td>Kenan-Flagler Business School, University of N...</td>\n",
       "    </tr>\n",
       "    <tr>\n",
       "      <th>1640</th>\n",
       "      <td>1641</td>\n",
       "      <td>Malhotra, Arvind</td>\n",
       "      <td>Arvind</td>\n",
       "      <td>Malhotra</td>\n",
       "      <td>None</td>\n",
       "      <td>Arvind_Malhotra@kenan-flag ler.unc.edu</td>\n",
       "      <td>Kenan-Flagler Business School University of No...</td>\n",
       "    </tr>\n",
       "    <tr>\n",
       "      <th>1760</th>\n",
       "      <td>1761</td>\n",
       "      <td>Malhotra, Arvind</td>\n",
       "      <td>Arvind</td>\n",
       "      <td>Malhotra</td>\n",
       "      <td>None</td>\n",
       "      <td>malhotra@bschool.unc.edu</td>\n",
       "      <td>Kenan-Flagler Business School, University of N...</td>\n",
       "    </tr>\n",
       "    <tr>\n",
       "      <th>1833</th>\n",
       "      <td>1834</td>\n",
       "      <td>Malhotra, Arvind</td>\n",
       "      <td>Arvind</td>\n",
       "      <td>Malhotra</td>\n",
       "      <td>None</td>\n",
       "      <td>malotra@icarus.bschool.unc.edu</td>\n",
       "      <td>Kenan-Flagler Business School, CB# 3490 Univer...</td>\n",
       "    </tr>\n",
       "    <tr>\n",
       "      <th>3672</th>\n",
       "      <td>3673</td>\n",
       "      <td>Malhotra, Arvind</td>\n",
       "      <td>Arvind</td>\n",
       "      <td>Malhotra</td>\n",
       "      <td>None</td>\n",
       "      <td>arvindmalhotra@kenan-flagler.unc.edu</td>\n",
       "      <td>Kenan-Flagler School of Business, University o...</td>\n",
       "    </tr>\n",
       "    <tr>\n",
       "      <th>3822</th>\n",
       "      <td>3823</td>\n",
       "      <td>Malhotra, Arvind</td>\n",
       "      <td>Arvind</td>\n",
       "      <td>Malhotra</td>\n",
       "      <td>None</td>\n",
       "      <td>arvind_malhotra@kenan-flagler.unc.edu</td>\n",
       "      <td>Kenan-Flagler Business School, University of N...</td>\n",
       "    </tr>\n",
       "    <tr>\n",
       "      <th>3887</th>\n",
       "      <td>3888</td>\n",
       "      <td>Malhotra, Arvind</td>\n",
       "      <td>Arvind</td>\n",
       "      <td>Malhotra</td>\n",
       "      <td>None</td>\n",
       "      <td>arvind_malhotra@kenan-fagler.unc.edu</td>\n",
       "      <td>Innovation and Entrepreneurship, Kenan-Flagler...</td>\n",
       "    </tr>\n",
       "    <tr>\n",
       "      <th>5514</th>\n",
       "      <td>5515</td>\n",
       "      <td>Malhotra, Arvind</td>\n",
       "      <td>Arvind</td>\n",
       "      <td>Malhotra</td>\n",
       "      <td>None</td>\n",
       "      <td>nan</td>\n",
       "      <td>Assistant Professor of Information Technology ...</td>\n",
       "    </tr>\n",
       "  </tbody>\n",
       "</table>\n",
       "</div>"
      ],
      "text/plain": [
       "        id         full_name first_name last_name middle_name  \\\n",
       "885    886  Malhotra, Arvind     Arvind  Malhotra        None   \n",
       "1640  1641  Malhotra, Arvind     Arvind  Malhotra        None   \n",
       "1760  1761  Malhotra, Arvind     Arvind  Malhotra        None   \n",
       "1833  1834  Malhotra, Arvind     Arvind  Malhotra        None   \n",
       "3672  3673  Malhotra, Arvind     Arvind  Malhotra        None   \n",
       "3822  3823  Malhotra, Arvind     Arvind  Malhotra        None   \n",
       "3887  3888  Malhotra, Arvind     Arvind  Malhotra        None   \n",
       "5514  5515  Malhotra, Arvind     Arvind  Malhotra        None   \n",
       "\n",
       "                                       email  \\\n",
       "885                         malhotra@unc.edu   \n",
       "1640  Arvind_Malhotra@kenan-flag ler.unc.edu   \n",
       "1760                malhotra@bschool.unc.edu   \n",
       "1833          malotra@icarus.bschool.unc.edu   \n",
       "3672   arvindmalhotra@kenan-flagler.unc.edu   \n",
       "3822   arvind_malhotra@kenan-flagler.unc.edu   \n",
       "3887    arvind_malhotra@kenan-fagler.unc.edu   \n",
       "5514                                     nan   \n",
       "\n",
       "                                            affiliation  \n",
       "885   Kenan-Flagler Business School, University of N...  \n",
       "1640  Kenan-Flagler Business School University of No...  \n",
       "1760  Kenan-Flagler Business School, University of N...  \n",
       "1833  Kenan-Flagler Business School, CB# 3490 Univer...  \n",
       "3672  Kenan-Flagler School of Business, University o...  \n",
       "3822  Kenan-Flagler Business School, University of N...  \n",
       "3887  Innovation and Entrepreneurship, Kenan-Flagler...  \n",
       "5514  Assistant Professor of Information Technology ...  "
      ]
     },
     "execution_count": 466,
     "metadata": {},
     "output_type": "execute_result"
    }
   ],
   "source": [
    "# but this result is not accurate\n",
    "# because the 'affiliation' is not clean\n",
    "# using 'arvind malhotra' as an example\n",
    "# he doesn't change the affiliation, but the format of affiliation changes. This leads to the wrong result\n",
    "author_remove[(author_remove['first_name']=='Arvind') & (author_remove['last_name']=='Malhotra')]"
   ]
  },
  {
   "cell_type": "markdown",
   "metadata": {},
   "source": [
    "## PART 2. Analyze **'journal'**"
   ]
  },
  {
   "cell_type": "code",
   "execution_count": 467,
   "metadata": {},
   "outputs": [],
   "source": [
    "# there are 2 datasets related to the journal: journal, paper\n",
    "journal_quantity = journal['journal_title'].value_counts().index.tolist()"
   ]
  },
  {
   "cell_type": "code",
   "execution_count": 468,
   "metadata": {},
   "outputs": [
    {
     "name": "stdout",
     "output_type": "stream",
     "text": [
      "there are 3 journals covered from our dataset\n"
     ]
    }
   ],
   "source": [
    "print(f\"there are {len(journal_quantity)} journals covered from our dataset\")"
   ]
  },
  {
   "cell_type": "code",
   "execution_count": 469,
   "metadata": {},
   "outputs": [],
   "source": [
    "# count how many issues for each journal in our database\n",
    "journal_issue_number = []\n",
    "for i in range(len(journal_quantity)):\n",
    "    journal_issue_number.append([journal_quantity[i] ,journal[journal['journal_title']==journal_quantity[i]].shape[0], journal[journal['journal_title']==journal_quantity[i]].id.index.tolist()])"
   ]
  },
  {
   "cell_type": "code",
   "execution_count": 470,
   "metadata": {},
   "outputs": [
    {
     "data": {
      "text/html": [
       "<div>\n",
       "<style scoped>\n",
       "    .dataframe tbody tr th:only-of-type {\n",
       "        vertical-align: middle;\n",
       "    }\n",
       "\n",
       "    .dataframe tbody tr th {\n",
       "        vertical-align: top;\n",
       "    }\n",
       "\n",
       "    .dataframe thead th {\n",
       "        text-align: right;\n",
       "    }\n",
       "</style>\n",
       "<table border=\"1\" class=\"dataframe\">\n",
       "  <thead>\n",
       "    <tr style=\"text-align: right;\">\n",
       "      <th></th>\n",
       "      <th>journal</th>\n",
       "      <th># of issues</th>\n",
       "      <th>id</th>\n",
       "    </tr>\n",
       "  </thead>\n",
       "  <tbody>\n",
       "    <tr>\n",
       "      <th>0</th>\n",
       "      <td>MIS Quarterly</td>\n",
       "      <td>174</td>\n",
       "      <td>[0, 1, 2, 3, 4, 5, 6, 7, 8, 9, 10, 11, 12, 13,...</td>\n",
       "    </tr>\n",
       "    <tr>\n",
       "      <th>1</th>\n",
       "      <td>Journal of Management Information Systems</td>\n",
       "      <td>145</td>\n",
       "      <td>[294, 295, 296, 297, 298, 299, 300, 301, 302, ...</td>\n",
       "    </tr>\n",
       "    <tr>\n",
       "      <th>2</th>\n",
       "      <td>Information Systems Research</td>\n",
       "      <td>120</td>\n",
       "      <td>[174, 175, 176, 177, 178, 179, 180, 181, 182, ...</td>\n",
       "    </tr>\n",
       "  </tbody>\n",
       "</table>\n",
       "</div>"
      ],
      "text/plain": [
       "                                     journal  # of issues  \\\n",
       "0                              MIS Quarterly          174   \n",
       "1  Journal of Management Information Systems          145   \n",
       "2               Information Systems Research          120   \n",
       "\n",
       "                                                  id  \n",
       "0  [0, 1, 2, 3, 4, 5, 6, 7, 8, 9, 10, 11, 12, 13,...  \n",
       "1  [294, 295, 296, 297, 298, 299, 300, 301, 302, ...  \n",
       "2  [174, 175, 176, 177, 178, 179, 180, 181, 182, ...  "
      ]
     },
     "execution_count": 470,
     "metadata": {},
     "output_type": "execute_result"
    }
   ],
   "source": [
    "# change the column name\n",
    "journal_issue_number = pd.DataFrame(journal_issue_number, columns=['journal', '# of issues', 'id'])\n",
    "journal_issue_number"
   ]
  },
  {
   "cell_type": "code",
   "execution_count": 471,
   "metadata": {},
   "outputs": [],
   "source": [
    "# how many papers relate to each journal\n",
    "paper_count_in_journal = []\n",
    "for i in range(journal_issue_number.shape[0]):\n",
    "    count = paper[paper['journal_id'].isin(journal_issue_number['id'][i])].shape[0]\n",
    "    paper_count_in_journal.append([journal_issue_number['journal'][i], count])"
   ]
  },
  {
   "cell_type": "code",
   "execution_count": 472,
   "metadata": {},
   "outputs": [
    {
     "data": {
      "text/html": [
       "<div>\n",
       "<style scoped>\n",
       "    .dataframe tbody tr th:only-of-type {\n",
       "        vertical-align: middle;\n",
       "    }\n",
       "\n",
       "    .dataframe tbody tr th {\n",
       "        vertical-align: top;\n",
       "    }\n",
       "\n",
       "    .dataframe thead th {\n",
       "        text-align: right;\n",
       "    }\n",
       "</style>\n",
       "<table border=\"1\" class=\"dataframe\">\n",
       "  <thead>\n",
       "    <tr style=\"text-align: right;\">\n",
       "      <th></th>\n",
       "      <th>journal</th>\n",
       "      <th># of papers</th>\n",
       "    </tr>\n",
       "  </thead>\n",
       "  <tbody>\n",
       "    <tr>\n",
       "      <th>0</th>\n",
       "      <td>MIS Quarterly</td>\n",
       "      <td>1961</td>\n",
       "    </tr>\n",
       "    <tr>\n",
       "      <th>1</th>\n",
       "      <td>Journal of Management Information Systems</td>\n",
       "      <td>1468</td>\n",
       "    </tr>\n",
       "    <tr>\n",
       "      <th>2</th>\n",
       "      <td>Information Systems Research</td>\n",
       "      <td>1084</td>\n",
       "    </tr>\n",
       "  </tbody>\n",
       "</table>\n",
       "</div>"
      ],
      "text/plain": [
       "                                     journal  # of papers\n",
       "0                              MIS Quarterly         1961\n",
       "1  Journal of Management Information Systems         1468\n",
       "2               Information Systems Research         1084"
      ]
     },
     "execution_count": 472,
     "metadata": {},
     "output_type": "execute_result"
    }
   ],
   "source": [
    "# change the column names\n",
    "paper_count_in_journal = pd.DataFrame(paper_count_in_journal, columns = ['journal', '# of papers'])\n",
    "paper_count_in_journal"
   ]
  },
  {
   "cell_type": "code",
   "execution_count": 473,
   "metadata": {},
   "outputs": [
    {
     "data": {
      "text/plain": [
       "count       3.000000\n",
       "mean     1504.333333\n",
       "std       439.627494\n",
       "min      1084.000000\n",
       "25%      1276.000000\n",
       "50%      1468.000000\n",
       "75%      1714.500000\n",
       "max      1961.000000\n",
       "Name: # of papers, dtype: float64"
      ]
     },
     "execution_count": 473,
     "metadata": {},
     "output_type": "execute_result"
    }
   ],
   "source": [
    "# on average, there are 1504 papers in each journal\n",
    "paper_count_in_journal['# of papers'].describe()"
   ]
  },
  {
   "cell_type": "code",
   "execution_count": 474,
   "metadata": {},
   "outputs": [
    {
     "data": {
      "text/plain": [
       "<matplotlib.axes._subplots.AxesSubplot at 0x7f89293ba650>"
      ]
     },
     "execution_count": 474,
     "metadata": {},
     "output_type": "execute_result"
    },
    {
     "data": {
      "image/png": "[encoded data removed]",
      "text/plain": [
       "<Figure size 432x288 with 1 Axes>"
      ]
     },
     "metadata": {
      "needs_background": "light"
     },
     "output_type": "display_data"
    }
   ],
   "source": [
    "# box plot for '# of papers' in each journal\n",
    "paper_count_in_journal['# of papers'].plot.box()"
   ]
  },
  {
   "cell_type": "code",
   "execution_count": 475,
   "metadata": {},
   "outputs": [],
   "source": [
    "# count authors' publications in ? journals\n",
    "paper_author_journal_id, paper_author_journal_title = [], []\n",
    "for i in range(len(paper_author)):\n",
    "    paper_lookfor = paper_author['paper_id'][i]\n",
    "    # find the journal id\n",
    "    journal_id_lookfor = int(paper[paper['id'] == paper_lookfor].journal_id)\n",
    "    # find the journal title\n",
    "    journal_title_lookfor = journal[journal['id'] == journal_id_lookfor].journal_title.values[0]\n",
    "    paper_author_journal_id.append(journal_id_lookfor)\n",
    "    paper_author_journal_title.append(journal_title_lookfor)"
   ]
  },
  {
   "cell_type": "code",
   "execution_count": 476,
   "metadata": {},
   "outputs": [],
   "source": [
    "paper_author_journal_id = pd.DataFrame(paper_author_journal_id, columns = ['journal_id'])\n",
    "paper_author_journal_title = pd.DataFrame(paper_author_journal_title, columns = ['journal_title'])"
   ]
  },
  {
   "cell_type": "code",
   "execution_count": 477,
   "metadata": {},
   "outputs": [
    {
     "data": {
      "text/html": [
       "<div>\n",
       "<style scoped>\n",
       "    .dataframe tbody tr th:only-of-type {\n",
       "        vertical-align: middle;\n",
       "    }\n",
       "\n",
       "    .dataframe tbody tr th {\n",
       "        vertical-align: top;\n",
       "    }\n",
       "\n",
       "    .dataframe thead th {\n",
       "        text-align: right;\n",
       "    }\n",
       "</style>\n",
       "<table border=\"1\" class=\"dataframe\">\n",
       "  <thead>\n",
       "    <tr style=\"text-align: right;\">\n",
       "      <th></th>\n",
       "      <th>paper_id</th>\n",
       "      <th>author_id</th>\n",
       "      <th>journal_id</th>\n",
       "      <th>journal_title</th>\n",
       "    </tr>\n",
       "  </thead>\n",
       "  <tbody>\n",
       "    <tr>\n",
       "      <th>0</th>\n",
       "      <td>1</td>\n",
       "      <td>4</td>\n",
       "      <td>1</td>\n",
       "      <td>MIS Quarterly</td>\n",
       "    </tr>\n",
       "    <tr>\n",
       "      <th>1</th>\n",
       "      <td>1</td>\n",
       "      <td>1</td>\n",
       "      <td>1</td>\n",
       "      <td>MIS Quarterly</td>\n",
       "    </tr>\n",
       "    <tr>\n",
       "      <th>2</th>\n",
       "      <td>1</td>\n",
       "      <td>2</td>\n",
       "      <td>1</td>\n",
       "      <td>MIS Quarterly</td>\n",
       "    </tr>\n",
       "    <tr>\n",
       "      <th>3</th>\n",
       "      <td>1</td>\n",
       "      <td>3</td>\n",
       "      <td>1</td>\n",
       "      <td>MIS Quarterly</td>\n",
       "    </tr>\n",
       "    <tr>\n",
       "      <th>4</th>\n",
       "      <td>2</td>\n",
       "      <td>8</td>\n",
       "      <td>1</td>\n",
       "      <td>MIS Quarterly</td>\n",
       "    </tr>\n",
       "  </tbody>\n",
       "</table>\n",
       "</div>"
      ],
      "text/plain": [
       "   paper_id  author_id  journal_id  journal_title\n",
       "0         1          4           1  MIS Quarterly\n",
       "1         1          1           1  MIS Quarterly\n",
       "2         1          2           1  MIS Quarterly\n",
       "3         1          3           1  MIS Quarterly\n",
       "4         2          8           1  MIS Quarterly"
      ]
     },
     "execution_count": 477,
     "metadata": {},
     "output_type": "execute_result"
    }
   ],
   "source": [
    "# add the journal_id to count\n",
    "paper_author_journal = pd.concat([paper_author, paper_author_journal_id, paper_author_journal_title], axis=1)\n",
    "paper_author_journal.head()"
   ]
  },
  {
   "cell_type": "code",
   "execution_count": 478,
   "metadata": {},
   "outputs": [],
   "source": [
    "author_journal_count = paper_author_journal[['author_id', 'journal_title']].groupby(['author_id']).agg(['count']).reset_index()\n",
    "author_journal_count.columns = ['author_id', 'journal_count']"
   ]
  },
  {
   "cell_type": "code",
   "execution_count": 479,
   "metadata": {},
   "outputs": [
    {
     "data": {
      "text/html": [
       "<div>\n",
       "<style scoped>\n",
       "    .dataframe tbody tr th:only-of-type {\n",
       "        vertical-align: middle;\n",
       "    }\n",
       "\n",
       "    .dataframe tbody tr th {\n",
       "        vertical-align: top;\n",
       "    }\n",
       "\n",
       "    .dataframe thead th {\n",
       "        text-align: right;\n",
       "    }\n",
       "</style>\n",
       "<table border=\"1\" class=\"dataframe\">\n",
       "  <thead>\n",
       "    <tr style=\"text-align: right;\">\n",
       "      <th></th>\n",
       "      <th>author_id</th>\n",
       "      <th>journal_title</th>\n",
       "      <th>counts</th>\n",
       "    </tr>\n",
       "  </thead>\n",
       "  <tbody>\n",
       "    <tr>\n",
       "      <th>0</th>\n",
       "      <td>1</td>\n",
       "      <td>Journal of Management Information Systems</td>\n",
       "      <td>1</td>\n",
       "    </tr>\n",
       "    <tr>\n",
       "      <th>1</th>\n",
       "      <td>1</td>\n",
       "      <td>MIS Quarterly</td>\n",
       "      <td>1</td>\n",
       "    </tr>\n",
       "    <tr>\n",
       "      <th>2</th>\n",
       "      <td>2</td>\n",
       "      <td>MIS Quarterly</td>\n",
       "      <td>2</td>\n",
       "    </tr>\n",
       "    <tr>\n",
       "      <th>3</th>\n",
       "      <td>3</td>\n",
       "      <td>MIS Quarterly</td>\n",
       "      <td>3</td>\n",
       "    </tr>\n",
       "    <tr>\n",
       "      <th>4</th>\n",
       "      <td>4</td>\n",
       "      <td>MIS Quarterly</td>\n",
       "      <td>1</td>\n",
       "    </tr>\n",
       "    <tr>\n",
       "      <th>...</th>\n",
       "      <td>...</td>\n",
       "      <td>...</td>\n",
       "      <td>...</td>\n",
       "    </tr>\n",
       "    <tr>\n",
       "      <th>7201</th>\n",
       "      <td>6362</td>\n",
       "      <td>Journal of Management Information Systems</td>\n",
       "      <td>1</td>\n",
       "    </tr>\n",
       "    <tr>\n",
       "      <th>7202</th>\n",
       "      <td>6363</td>\n",
       "      <td>Journal of Management Information Systems</td>\n",
       "      <td>1</td>\n",
       "    </tr>\n",
       "    <tr>\n",
       "      <th>7203</th>\n",
       "      <td>6364</td>\n",
       "      <td>Journal of Management Information Systems</td>\n",
       "      <td>1</td>\n",
       "    </tr>\n",
       "    <tr>\n",
       "      <th>7204</th>\n",
       "      <td>6365</td>\n",
       "      <td>Journal of Management Information Systems</td>\n",
       "      <td>1</td>\n",
       "    </tr>\n",
       "    <tr>\n",
       "      <th>7205</th>\n",
       "      <td>6366</td>\n",
       "      <td>Journal of Management Information Systems</td>\n",
       "      <td>1</td>\n",
       "    </tr>\n",
       "  </tbody>\n",
       "</table>\n",
       "<p>7206 rows × 3 columns</p>\n",
       "</div>"
      ],
      "text/plain": [
       "      author_id                              journal_title  counts\n",
       "0             1  Journal of Management Information Systems       1\n",
       "1             1                              MIS Quarterly       1\n",
       "2             2                              MIS Quarterly       2\n",
       "3             3                              MIS Quarterly       3\n",
       "4             4                              MIS Quarterly       1\n",
       "...         ...                                        ...     ...\n",
       "7201       6362  Journal of Management Information Systems       1\n",
       "7202       6363  Journal of Management Information Systems       1\n",
       "7203       6364  Journal of Management Information Systems       1\n",
       "7204       6365  Journal of Management Information Systems       1\n",
       "7205       6366  Journal of Management Information Systems       1\n",
       "\n",
       "[7206 rows x 3 columns]"
      ]
     },
     "execution_count": 479,
     "metadata": {},
     "output_type": "execute_result"
    }
   ],
   "source": [
    "# count how many journals are published by the same author\n",
    "# for example, author A (id=1) has 1 publication on Journal of Management Information Systems, and 1 publication on 'MIS Quarterly'\n",
    "# author B (id=2) has 2 publications on MIS Quarterly\n",
    "paper_author_journal_count = paper_author_journal.groupby(['author_id', 'journal_title']).size().reset_index(name='counts')\n",
    "paper_author_journal_count"
   ]
  },
  {
   "cell_type": "code",
   "execution_count": 480,
   "metadata": {},
   "outputs": [
    {
     "data": {
      "text/plain": [
       "count    7206.000000\n",
       "mean        1.412018\n",
       "std         2.052933\n",
       "min         1.000000\n",
       "25%         1.000000\n",
       "50%         1.000000\n",
       "75%         1.000000\n",
       "max       117.000000\n",
       "Name: counts, dtype: float64"
      ]
     },
     "execution_count": 480,
     "metadata": {},
     "output_type": "execute_result"
    }
   ],
   "source": [
    "# stat info for 'counts': it measures how many papers authors published on a journal\n",
    "# max=117: this author publishes 117 papers in one journal\n",
    "# on average each author has 1.41 publications per journal\n",
    "paper_author_journal_count['counts'].describe()"
   ]
  },
  {
   "cell_type": "code",
   "execution_count": 481,
   "metadata": {},
   "outputs": [
    {
     "data": {
      "text/plain": [
       "<matplotlib.axes._subplots.AxesSubplot at 0x7f892a7fca50>"
      ]
     },
     "execution_count": 481,
     "metadata": {},
     "output_type": "execute_result"
    },
    {
     "data": {
      "image/png": "[encoded data removed]",
      "text/plain": [
       "<Figure size 432x288 with 1 Axes>"
      ]
     },
     "metadata": {
      "needs_background": "light"
     },
     "output_type": "display_data"
    }
   ],
   "source": [
    "# hist\n",
    "paper_author_journal_count['counts'].hist()"
   ]
  },
  {
   "cell_type": "code",
   "execution_count": 482,
   "metadata": {},
   "outputs": [
    {
     "data": {
      "text/plain": [
       "<matplotlib.axes._subplots.AxesSubplot at 0x7f892ab28350>"
      ]
     },
     "execution_count": 482,
     "metadata": {},
     "output_type": "execute_result"
    },
    {
     "data": {
      "image/png": "[encoded data removed]",
      "text/plain": [
       "<Figure size 432x288 with 1 Axes>"
      ]
     },
     "metadata": {
      "needs_background": "light"
     },
     "output_type": "display_data"
    }
   ],
   "source": [
    "# box plot\n",
    "paper_author_journal_count['counts'].plot.box()"
   ]
  },
  {
   "cell_type": "code",
   "execution_count": 483,
   "metadata": {},
   "outputs": [
    {
     "data": {
      "text/html": [
       "<div>\n",
       "<style scoped>\n",
       "    .dataframe tbody tr th:only-of-type {\n",
       "        vertical-align: middle;\n",
       "    }\n",
       "\n",
       "    .dataframe tbody tr th {\n",
       "        vertical-align: top;\n",
       "    }\n",
       "\n",
       "    .dataframe thead th {\n",
       "        text-align: right;\n",
       "    }\n",
       "</style>\n",
       "<table border=\"1\" class=\"dataframe\">\n",
       "  <thead>\n",
       "    <tr style=\"text-align: right;\">\n",
       "      <th></th>\n",
       "      <th>author_id</th>\n",
       "      <th>journal_title</th>\n",
       "      <th>counts</th>\n",
       "    </tr>\n",
       "  </thead>\n",
       "  <tbody>\n",
       "    <tr>\n",
       "      <th>5047</th>\n",
       "      <td>4241</td>\n",
       "      <td>Journal of Management Information Systems</td>\n",
       "      <td>117</td>\n",
       "    </tr>\n",
       "  </tbody>\n",
       "</table>\n",
       "</div>"
      ],
      "text/plain": [
       "      author_id                              journal_title  counts\n",
       "5047       4241  Journal of Management Information Systems     117"
      ]
     },
     "execution_count": 483,
     "metadata": {},
     "output_type": "execute_result"
    }
   ],
   "source": [
    "# author (id=4241) publishes 117 papers on Journal of Management Information Systems\n",
    "paper_author_journal_count[paper_author_journal_count['counts']==117]"
   ]
  },
  {
   "cell_type": "code",
   "execution_count": 484,
   "metadata": {},
   "outputs": [
    {
     "data": {
      "text/html": [
       "<div>\n",
       "<style scoped>\n",
       "    .dataframe tbody tr th:only-of-type {\n",
       "        vertical-align: middle;\n",
       "    }\n",
       "\n",
       "    .dataframe tbody tr th {\n",
       "        vertical-align: top;\n",
       "    }\n",
       "\n",
       "    .dataframe thead th {\n",
       "        text-align: right;\n",
       "    }\n",
       "</style>\n",
       "<table border=\"1\" class=\"dataframe\">\n",
       "  <thead>\n",
       "    <tr style=\"text-align: right;\">\n",
       "      <th></th>\n",
       "      <th>id</th>\n",
       "      <th>full_name</th>\n",
       "      <th>first_name</th>\n",
       "      <th>last_name</th>\n",
       "      <th>middle_name</th>\n",
       "      <th>email</th>\n",
       "      <th>affiliation</th>\n",
       "    </tr>\n",
       "  </thead>\n",
       "  <tbody>\n",
       "    <tr>\n",
       "      <th>4240</th>\n",
       "      <td>4241</td>\n",
       "      <td>Zwass, Vladimir</td>\n",
       "      <td>Vladimir</td>\n",
       "      <td>Zwass</td>\n",
       "      <td>None</td>\n",
       "      <td>nan</td>\n",
       "      <td>Fairleigh Dickinson University, Teaneck, New J...</td>\n",
       "    </tr>\n",
       "  </tbody>\n",
       "</table>\n",
       "</div>"
      ],
      "text/plain": [
       "        id        full_name first_name last_name middle_name email  \\\n",
       "4240  4241  Zwass, Vladimir   Vladimir     Zwass        None   nan   \n",
       "\n",
       "                                            affiliation  \n",
       "4240  Fairleigh Dickinson University, Teaneck, New J...  "
      ]
     },
     "execution_count": 484,
     "metadata": {},
     "output_type": "execute_result"
    }
   ],
   "source": [
    "# author id = 4241: Vladimir Zwass\n",
    "# Vladimir Zwass: Editor-In-Chief of Journal of Management Information Systems\n",
    "author[author['id']==4241]"
   ]
  },
  {
   "cell_type": "code",
   "execution_count": 485,
   "metadata": {},
   "outputs": [
    {
     "data": {
      "text/html": [
       "<div>\n",
       "<style scoped>\n",
       "    .dataframe tbody tr th:only-of-type {\n",
       "        vertical-align: middle;\n",
       "    }\n",
       "\n",
       "    .dataframe tbody tr th {\n",
       "        vertical-align: top;\n",
       "    }\n",
       "\n",
       "    .dataframe thead th {\n",
       "        text-align: right;\n",
       "    }\n",
       "</style>\n",
       "<table border=\"1\" class=\"dataframe\">\n",
       "  <thead>\n",
       "    <tr style=\"text-align: right;\">\n",
       "      <th></th>\n",
       "      <th>paper_id</th>\n",
       "      <th>author_id</th>\n",
       "    </tr>\n",
       "  </thead>\n",
       "  <tbody>\n",
       "    <tr>\n",
       "      <th>6346</th>\n",
       "      <td>2958</td>\n",
       "      <td>4241</td>\n",
       "    </tr>\n",
       "    <tr>\n",
       "      <th>6543</th>\n",
       "      <td>3051</td>\n",
       "      <td>4241</td>\n",
       "    </tr>\n",
       "    <tr>\n",
       "      <th>6575</th>\n",
       "      <td>3062</td>\n",
       "      <td>4241</td>\n",
       "    </tr>\n",
       "    <tr>\n",
       "      <th>6614</th>\n",
       "      <td>3074</td>\n",
       "      <td>4241</td>\n",
       "    </tr>\n",
       "    <tr>\n",
       "      <th>6657</th>\n",
       "      <td>3086</td>\n",
       "      <td>4241</td>\n",
       "    </tr>\n",
       "    <tr>\n",
       "      <th>...</th>\n",
       "      <td>...</td>\n",
       "      <td>...</td>\n",
       "    </tr>\n",
       "    <tr>\n",
       "      <th>10117</th>\n",
       "      <td>4488</td>\n",
       "      <td>4241</td>\n",
       "    </tr>\n",
       "    <tr>\n",
       "      <th>10127</th>\n",
       "      <td>4495</td>\n",
       "      <td>4241</td>\n",
       "    </tr>\n",
       "    <tr>\n",
       "      <th>10137</th>\n",
       "      <td>4502</td>\n",
       "      <td>4241</td>\n",
       "    </tr>\n",
       "    <tr>\n",
       "      <th>10157</th>\n",
       "      <td>4514</td>\n",
       "      <td>4241</td>\n",
       "    </tr>\n",
       "    <tr>\n",
       "      <th>10164</th>\n",
       "      <td>4520</td>\n",
       "      <td>4241</td>\n",
       "    </tr>\n",
       "  </tbody>\n",
       "</table>\n",
       "<p>118 rows × 2 columns</p>\n",
       "</div>"
      ],
      "text/plain": [
       "       paper_id  author_id\n",
       "6346       2958       4241\n",
       "6543       3051       4241\n",
       "6575       3062       4241\n",
       "6614       3074       4241\n",
       "6657       3086       4241\n",
       "...         ...        ...\n",
       "10117      4488       4241\n",
       "10127      4495       4241\n",
       "10137      4502       4241\n",
       "10157      4514       4241\n",
       "10164      4520       4241\n",
       "\n",
       "[118 rows x 2 columns]"
      ]
     },
     "execution_count": 485,
     "metadata": {},
     "output_type": "execute_result"
    }
   ],
   "source": [
    "# confirm our conclusion: there are 118 papers related to Vladimir Zwass\n",
    "paper_author[paper_author['author_id']==4241]"
   ]
  },
  {
   "cell_type": "code",
   "execution_count": 486,
   "metadata": {},
   "outputs": [
    {
     "data": {
      "text/html": [
       "<div>\n",
       "<style scoped>\n",
       "    .dataframe tbody tr th:only-of-type {\n",
       "        vertical-align: middle;\n",
       "    }\n",
       "\n",
       "    .dataframe tbody tr th {\n",
       "        vertical-align: top;\n",
       "    }\n",
       "\n",
       "    .dataframe thead th {\n",
       "        text-align: right;\n",
       "    }\n",
       "</style>\n",
       "<table border=\"1\" class=\"dataframe\">\n",
       "  <thead>\n",
       "    <tr style=\"text-align: right;\">\n",
       "      <th></th>\n",
       "      <th>author_id</th>\n",
       "      <th>journal_title</th>\n",
       "      <th>counts</th>\n",
       "    </tr>\n",
       "  </thead>\n",
       "  <tbody>\n",
       "    <tr>\n",
       "      <th>62</th>\n",
       "      <td>48</td>\n",
       "      <td>MIS Quarterly</td>\n",
       "      <td>11</td>\n",
       "    </tr>\n",
       "    <tr>\n",
       "      <th>68</th>\n",
       "      <td>51</td>\n",
       "      <td>MIS Quarterly</td>\n",
       "      <td>28</td>\n",
       "    </tr>\n",
       "    <tr>\n",
       "      <th>80</th>\n",
       "      <td>58</td>\n",
       "      <td>MIS Quarterly</td>\n",
       "      <td>22</td>\n",
       "    </tr>\n",
       "    <tr>\n",
       "      <th>135</th>\n",
       "      <td>95</td>\n",
       "      <td>MIS Quarterly</td>\n",
       "      <td>11</td>\n",
       "    </tr>\n",
       "    <tr>\n",
       "      <th>218</th>\n",
       "      <td>157</td>\n",
       "      <td>Information Systems Research</td>\n",
       "      <td>12</td>\n",
       "    </tr>\n",
       "  </tbody>\n",
       "</table>\n",
       "</div>"
      ],
      "text/plain": [
       "     author_id                 journal_title  counts\n",
       "62          48                 MIS Quarterly      11\n",
       "68          51                 MIS Quarterly      28\n",
       "80          58                 MIS Quarterly      22\n",
       "135         95                 MIS Quarterly      11\n",
       "218        157  Information Systems Research      12"
      ]
     },
     "execution_count": 486,
     "metadata": {},
     "output_type": "execute_result"
    }
   ],
   "source": [
    "# authors have more than 10 publications in one journal\n",
    "paper_author_journal_count[paper_author_journal_count['counts']>10].head()"
   ]
  },
  {
   "cell_type": "code",
   "execution_count": 487,
   "metadata": {},
   "outputs": [
    {
     "name": "stdout",
     "output_type": "stream",
     "text": [
      "there are 30 authors have more than 10 publications in one journal\n"
     ]
    }
   ],
   "source": [
    "print(f\"there are {len(paper_author_journal_count[paper_author_journal_count['counts']>10])} authors have more than 10 publications in one journal\")"
   ]
  },
  {
   "cell_type": "code",
   "execution_count": 488,
   "metadata": {},
   "outputs": [
    {
     "data": {
      "text/html": [
       "<div>\n",
       "<style scoped>\n",
       "    .dataframe tbody tr th:only-of-type {\n",
       "        vertical-align: middle;\n",
       "    }\n",
       "\n",
       "    .dataframe tbody tr th {\n",
       "        vertical-align: top;\n",
       "    }\n",
       "\n",
       "    .dataframe thead th {\n",
       "        text-align: right;\n",
       "    }\n",
       "</style>\n",
       "<table border=\"1\" class=\"dataframe\">\n",
       "  <thead>\n",
       "    <tr style=\"text-align: right;\">\n",
       "      <th></th>\n",
       "      <th>author_id</th>\n",
       "      <th>journal_title</th>\n",
       "      <th>counts</th>\n",
       "    </tr>\n",
       "  </thead>\n",
       "  <tbody>\n",
       "    <tr>\n",
       "      <th>68</th>\n",
       "      <td>51</td>\n",
       "      <td>MIS Quarterly</td>\n",
       "      <td>28</td>\n",
       "    </tr>\n",
       "    <tr>\n",
       "      <th>80</th>\n",
       "      <td>58</td>\n",
       "      <td>MIS Quarterly</td>\n",
       "      <td>22</td>\n",
       "    </tr>\n",
       "    <tr>\n",
       "      <th>868</th>\n",
       "      <td>656</td>\n",
       "      <td>Information Systems Research</td>\n",
       "      <td>27</td>\n",
       "    </tr>\n",
       "    <tr>\n",
       "      <th>2014</th>\n",
       "      <td>1611</td>\n",
       "      <td>MIS Quarterly</td>\n",
       "      <td>33</td>\n",
       "    </tr>\n",
       "    <tr>\n",
       "      <th>2768</th>\n",
       "      <td>2241</td>\n",
       "      <td>Journal of Management Information Systems</td>\n",
       "      <td>44</td>\n",
       "    </tr>\n",
       "  </tbody>\n",
       "</table>\n",
       "</div>"
      ],
      "text/plain": [
       "      author_id                              journal_title  counts\n",
       "68           51                              MIS Quarterly      28\n",
       "80           58                              MIS Quarterly      22\n",
       "868         656               Information Systems Research      27\n",
       "2014       1611                              MIS Quarterly      33\n",
       "2768       2241  Journal of Management Information Systems      44"
      ]
     },
     "execution_count": 488,
     "metadata": {},
     "output_type": "execute_result"
    }
   ],
   "source": [
    "# authors have more than 20 publications in one journal\n",
    "paper_author_journal_count[paper_author_journal_count['counts']>20].head()"
   ]
  },
  {
   "cell_type": "code",
   "execution_count": 489,
   "metadata": {},
   "outputs": [
    {
     "name": "stdout",
     "output_type": "stream",
     "text": [
      "there are 10 authors have more than 20 publications in one journal\n"
     ]
    }
   ],
   "source": [
    "print(f\"there are {len(paper_author_journal_count[paper_author_journal_count['counts']>20])} authors have more than 20 publications in one journal\")"
   ]
  },
  {
   "cell_type": "code",
   "execution_count": 490,
   "metadata": {},
   "outputs": [
    {
     "data": {
      "text/html": [
       "<div>\n",
       "<style scoped>\n",
       "    .dataframe tbody tr th:only-of-type {\n",
       "        vertical-align: middle;\n",
       "    }\n",
       "\n",
       "    .dataframe tbody tr th {\n",
       "        vertical-align: top;\n",
       "    }\n",
       "\n",
       "    .dataframe thead th {\n",
       "        text-align: right;\n",
       "    }\n",
       "</style>\n",
       "<table border=\"1\" class=\"dataframe\">\n",
       "  <thead>\n",
       "    <tr style=\"text-align: right;\">\n",
       "      <th></th>\n",
       "      <th>author_id</th>\n",
       "      <th># of journals</th>\n",
       "    </tr>\n",
       "  </thead>\n",
       "  <tbody>\n",
       "    <tr>\n",
       "      <th>0</th>\n",
       "      <td>1</td>\n",
       "      <td>2</td>\n",
       "    </tr>\n",
       "    <tr>\n",
       "      <th>1</th>\n",
       "      <td>2</td>\n",
       "      <td>1</td>\n",
       "    </tr>\n",
       "    <tr>\n",
       "      <th>2</th>\n",
       "      <td>3</td>\n",
       "      <td>1</td>\n",
       "    </tr>\n",
       "    <tr>\n",
       "      <th>3</th>\n",
       "      <td>4</td>\n",
       "      <td>1</td>\n",
       "    </tr>\n",
       "    <tr>\n",
       "      <th>4</th>\n",
       "      <td>5</td>\n",
       "      <td>1</td>\n",
       "    </tr>\n",
       "  </tbody>\n",
       "</table>\n",
       "</div>"
      ],
      "text/plain": [
       "   author_id  # of journals\n",
       "0          1              2\n",
       "1          2              1\n",
       "2          3              1\n",
       "3          4              1\n",
       "4          5              1"
      ]
     },
     "execution_count": 490,
     "metadata": {},
     "output_type": "execute_result"
    }
   ],
   "source": [
    "# count the journal only in this cell\n",
    "journal_per_author_count = []\n",
    "for i in range(len(author)):\n",
    "    journal_per_author = len(list(set(paper_author_journal[paper_author_journal['author_id'] == author['id'][i]].journal_title.values.tolist())))\n",
    "    journal_per_author_count.append([author['id'][i], journal_per_author])\n",
    "journal_per_author_count = pd.DataFrame(journal_per_author_count, columns = ['author_id', '# of journals'])\n",
    "journal_per_author_count.head()"
   ]
  },
  {
   "cell_type": "code",
   "execution_count": 491,
   "metadata": {},
   "outputs": [
    {
     "data": {
      "text/plain": [
       "count    6366.000000\n",
       "mean        1.131951\n",
       "std         0.375017\n",
       "min         1.000000\n",
       "25%         1.000000\n",
       "50%         1.000000\n",
       "75%         1.000000\n",
       "max         3.000000\n",
       "Name: # of journals, dtype: float64"
      ]
     },
     "execution_count": 491,
     "metadata": {},
     "output_type": "execute_result"
    }
   ],
   "source": [
    "# stat info for '# of journals'\n",
    "# mean: 1.13\n",
    "# on average, each author publishes on 1.13 journals among 3 selected journals in this dataset\n",
    "journal_per_author_count['# of journals'].describe()"
   ]
  },
  {
   "cell_type": "code",
   "execution_count": 492,
   "metadata": {},
   "outputs": [
    {
     "data": {
      "text/html": [
       "<div>\n",
       "<style scoped>\n",
       "    .dataframe tbody tr th:only-of-type {\n",
       "        vertical-align: middle;\n",
       "    }\n",
       "\n",
       "    .dataframe tbody tr th {\n",
       "        vertical-align: top;\n",
       "    }\n",
       "\n",
       "    .dataframe thead th {\n",
       "        text-align: right;\n",
       "    }\n",
       "</style>\n",
       "<table border=\"1\" class=\"dataframe\">\n",
       "  <thead>\n",
       "    <tr style=\"text-align: right;\">\n",
       "      <th></th>\n",
       "      <th>author_id</th>\n",
       "      <th># of journals</th>\n",
       "    </tr>\n",
       "  </thead>\n",
       "  <tbody>\n",
       "    <tr>\n",
       "      <th>37</th>\n",
       "      <td>38</td>\n",
       "      <td>3</td>\n",
       "    </tr>\n",
       "    <tr>\n",
       "      <th>47</th>\n",
       "      <td>48</td>\n",
       "      <td>3</td>\n",
       "    </tr>\n",
       "    <tr>\n",
       "      <th>50</th>\n",
       "      <td>51</td>\n",
       "      <td>3</td>\n",
       "    </tr>\n",
       "    <tr>\n",
       "      <th>57</th>\n",
       "      <td>58</td>\n",
       "      <td>3</td>\n",
       "    </tr>\n",
       "    <tr>\n",
       "      <th>62</th>\n",
       "      <td>63</td>\n",
       "      <td>3</td>\n",
       "    </tr>\n",
       "    <tr>\n",
       "      <th>...</th>\n",
       "      <td>...</td>\n",
       "      <td>...</td>\n",
       "    </tr>\n",
       "    <tr>\n",
       "      <th>2528</th>\n",
       "      <td>2529</td>\n",
       "      <td>3</td>\n",
       "    </tr>\n",
       "    <tr>\n",
       "      <th>2541</th>\n",
       "      <td>2542</td>\n",
       "      <td>3</td>\n",
       "    </tr>\n",
       "    <tr>\n",
       "      <th>2562</th>\n",
       "      <td>2563</td>\n",
       "      <td>3</td>\n",
       "    </tr>\n",
       "    <tr>\n",
       "      <th>2563</th>\n",
       "      <td>2564</td>\n",
       "      <td>3</td>\n",
       "    </tr>\n",
       "    <tr>\n",
       "      <th>2611</th>\n",
       "      <td>2612</td>\n",
       "      <td>3</td>\n",
       "    </tr>\n",
       "  </tbody>\n",
       "</table>\n",
       "<p>83 rows × 2 columns</p>\n",
       "</div>"
      ],
      "text/plain": [
       "      author_id  # of journals\n",
       "37           38              3\n",
       "47           48              3\n",
       "50           51              3\n",
       "57           58              3\n",
       "62           63              3\n",
       "...         ...            ...\n",
       "2528       2529              3\n",
       "2541       2542              3\n",
       "2562       2563              3\n",
       "2563       2564              3\n",
       "2611       2612              3\n",
       "\n",
       "[83 rows x 2 columns]"
      ]
     },
     "execution_count": 492,
     "metadata": {},
     "output_type": "execute_result"
    }
   ],
   "source": [
    "# max = 3\n",
    "# these authors have publications on all 3 selected journals\n",
    "journal_per_author_count[journal_per_author_count['# of journals'] == 3]"
   ]
  },
  {
   "cell_type": "code",
   "execution_count": 493,
   "metadata": {},
   "outputs": [
    {
     "data": {
      "text/html": [
       "<div>\n",
       "<style scoped>\n",
       "    .dataframe tbody tr th:only-of-type {\n",
       "        vertical-align: middle;\n",
       "    }\n",
       "\n",
       "    .dataframe tbody tr th {\n",
       "        vertical-align: top;\n",
       "    }\n",
       "\n",
       "    .dataframe thead th {\n",
       "        text-align: right;\n",
       "    }\n",
       "</style>\n",
       "<table border=\"1\" class=\"dataframe\">\n",
       "  <thead>\n",
       "    <tr style=\"text-align: right;\">\n",
       "      <th></th>\n",
       "      <th>paper_id</th>\n",
       "      <th>author_id</th>\n",
       "      <th>journal_id</th>\n",
       "      <th>journal_title</th>\n",
       "    </tr>\n",
       "  </thead>\n",
       "  <tbody>\n",
       "    <tr>\n",
       "      <th>38</th>\n",
       "      <td>12</td>\n",
       "      <td>38</td>\n",
       "      <td>1</td>\n",
       "      <td>MIS Quarterly</td>\n",
       "    </tr>\n",
       "    <tr>\n",
       "      <th>636</th>\n",
       "      <td>210</td>\n",
       "      <td>38</td>\n",
       "      <td>14</td>\n",
       "      <td>MIS Quarterly</td>\n",
       "    </tr>\n",
       "    <tr>\n",
       "      <th>5169</th>\n",
       "      <td>2462</td>\n",
       "      <td>38</td>\n",
       "      <td>206</td>\n",
       "      <td>Information Systems Research</td>\n",
       "    </tr>\n",
       "    <tr>\n",
       "      <th>6671</th>\n",
       "      <td>3091</td>\n",
       "      <td>38</td>\n",
       "      <td>298</td>\n",
       "      <td>Journal of Management Information Systems</td>\n",
       "    </tr>\n",
       "  </tbody>\n",
       "</table>\n",
       "</div>"
      ],
      "text/plain": [
       "      paper_id  author_id  journal_id  \\\n",
       "38          12         38           1   \n",
       "636        210         38          14   \n",
       "5169      2462         38         206   \n",
       "6671      3091         38         298   \n",
       "\n",
       "                                  journal_title  \n",
       "38                                MIS Quarterly  \n",
       "636                               MIS Quarterly  \n",
       "5169               Information Systems Research  \n",
       "6671  Journal of Management Information Systems  "
      ]
     },
     "execution_count": 493,
     "metadata": {},
     "output_type": "execute_result"
    }
   ],
   "source": [
    "# author_id = 38\n",
    "# using an example here, author C (id=38) published on all 3 selected journals\n",
    "paper_author_journal[paper_author_journal['author_id'] == 38]"
   ]
  },
  {
   "cell_type": "markdown",
   "metadata": {},
   "source": [
    "## PART 3: Analyze **'paper'**"
   ]
  },
  {
   "cell_type": "code",
   "execution_count": 494,
   "metadata": {},
   "outputs": [
    {
     "name": "stdout",
     "output_type": "stream",
     "text": [
      "totally there are 4526 papers covered in this dataset\n"
     ]
    }
   ],
   "source": [
    "# there are 4 datasets related to the paper: paper, paper_author, paper_keyword, paper_subject\n",
    "print(f\"totally there are {len(paper)} papers covered in this dataset\")"
   ]
  },
  {
   "cell_type": "code",
   "execution_count": 495,
   "metadata": {},
   "outputs": [
    {
     "name": "stdout",
     "output_type": "stream",
     "text": [
      "totally there are 4368 papers covered in this dataset\n"
     ]
    }
   ],
   "source": [
    "# if we exclude the manually checked paper\n",
    "paper_exclude = paper.loc[~paper['manually_check'].isin(['yes'])]\n",
    "print(f\"totally there are {len(paper_exclude)} papers covered in this dataset\")"
   ]
  },
  {
   "cell_type": "code",
   "execution_count": 496,
   "metadata": {},
   "outputs": [
    {
     "name": "stdout",
     "output_type": "stream",
     "text": [
      "there are 158 papers are marked as manually checked\n"
     ]
    }
   ],
   "source": [
    "print(f\"there are {len(paper) - len(paper_exclude)} papers are marked as manually checked\")"
   ]
  },
  {
   "cell_type": "code",
   "execution_count": 497,
   "metadata": {},
   "outputs": [
    {
     "data": {
      "text/plain": [
       "204    26\n",
       "211    25\n",
       "176    24\n",
       "178    23\n",
       "129    22\n",
       "       ..\n",
       "289     3\n",
       "278     3\n",
       "290     3\n",
       "288     3\n",
       "287     3\n",
       "Name: journal_id, Length: 439, dtype: int64"
      ]
     },
     "execution_count": 497,
     "metadata": {},
     "output_type": "execute_result"
    }
   ],
   "source": [
    "paper['journal_id'].value_counts()"
   ]
  },
  {
   "cell_type": "code",
   "execution_count": 498,
   "metadata": {},
   "outputs": [
    {
     "data": {
      "text/html": [
       "<div>\n",
       "<style scoped>\n",
       "    .dataframe tbody tr th:only-of-type {\n",
       "        vertical-align: middle;\n",
       "    }\n",
       "\n",
       "    .dataframe tbody tr th {\n",
       "        vertical-align: top;\n",
       "    }\n",
       "\n",
       "    .dataframe thead th {\n",
       "        text-align: right;\n",
       "    }\n",
       "</style>\n",
       "<table border=\"1\" class=\"dataframe\">\n",
       "  <thead>\n",
       "    <tr style=\"text-align: right;\">\n",
       "      <th></th>\n",
       "      <th>id</th>\n",
       "      <th>title</th>\n",
       "      <th>abstract</th>\n",
       "      <th>publication_date</th>\n",
       "      <th>submission_date</th>\n",
       "      <th>online_date</th>\n",
       "      <th>revision_date</th>\n",
       "      <th>accepted_date</th>\n",
       "      <th>cover_url</th>\n",
       "      <th>full_url</th>\n",
       "      <th>accession_number</th>\n",
       "      <th>document_type</th>\n",
       "      <th>doi</th>\n",
       "      <th>manually_check</th>\n",
       "      <th>journal_id</th>\n",
       "    </tr>\n",
       "  </thead>\n",
       "  <tbody>\n",
       "    <tr>\n",
       "      <th>0</th>\n",
       "      <td>1</td>\n",
       "      <td>complexity and information systems research in...</td>\n",
       "      <td>Complexity is all around us in this increasing...</td>\n",
       "      <td>None</td>\n",
       "      <td>None</td>\n",
       "      <td>None</td>\n",
       "      <td>None</td>\n",
       "      <td>None</td>\n",
       "      <td>None</td>\n",
       "      <td>None</td>\n",
       "      <td>141995164</td>\n",
       "      <td>Article</td>\n",
       "      <td>10.25300/MISQ/2020/13304</td>\n",
       "      <td>None</td>\n",
       "      <td>1</td>\n",
       "    </tr>\n",
       "    <tr>\n",
       "      <th>1</th>\n",
       "      <td>2</td>\n",
       "      <td>the dynamics of drift in digitized processes.</td>\n",
       "      <td>This paper uses a simulation to build new theo...</td>\n",
       "      <td>None</td>\n",
       "      <td>None</td>\n",
       "      <td>None</td>\n",
       "      <td>None</td>\n",
       "      <td>None</td>\n",
       "      <td>None</td>\n",
       "      <td>None</td>\n",
       "      <td>141995165</td>\n",
       "      <td>Article</td>\n",
       "      <td>10.25300/MISQ/2020/14458</td>\n",
       "      <td>None</td>\n",
       "      <td>1</td>\n",
       "    </tr>\n",
       "    <tr>\n",
       "      <th>2</th>\n",
       "      <td>3</td>\n",
       "      <td>taming complexity in search matching: two-side...</td>\n",
       "      <td>We study digital multisided platforms as compl...</td>\n",
       "      <td>None</td>\n",
       "      <td>None</td>\n",
       "      <td>None</td>\n",
       "      <td>None</td>\n",
       "      <td>None</td>\n",
       "      <td>None</td>\n",
       "      <td>None</td>\n",
       "      <td>141995166</td>\n",
       "      <td>Article</td>\n",
       "      <td>10.25300/MISQ/2020/14424</td>\n",
       "      <td>None</td>\n",
       "      <td>1</td>\n",
       "    </tr>\n",
       "    <tr>\n",
       "      <th>3</th>\n",
       "      <td>4</td>\n",
       "      <td>organized complexity of digital business strat...</td>\n",
       "      <td>How should firms configure organizational capa...</td>\n",
       "      <td>None</td>\n",
       "      <td>None</td>\n",
       "      <td>None</td>\n",
       "      <td>None</td>\n",
       "      <td>None</td>\n",
       "      <td>None</td>\n",
       "      <td>None</td>\n",
       "      <td>141995167</td>\n",
       "      <td>Article</td>\n",
       "      <td>10.25300/MISQ/2020/14477</td>\n",
       "      <td>None</td>\n",
       "      <td>1</td>\n",
       "    </tr>\n",
       "    <tr>\n",
       "      <th>4</th>\n",
       "      <td>5</td>\n",
       "      <td>digitization and phase transitions in platform...</td>\n",
       "      <td>This paper draws on complex adaptive systems (...</td>\n",
       "      <td>None</td>\n",
       "      <td>None</td>\n",
       "      <td>None</td>\n",
       "      <td>None</td>\n",
       "      <td>None</td>\n",
       "      <td>None</td>\n",
       "      <td>None</td>\n",
       "      <td>141995168</td>\n",
       "      <td>Article</td>\n",
       "      <td>10.25300/MISQ/2020/14520</td>\n",
       "      <td>None</td>\n",
       "      <td>1</td>\n",
       "    </tr>\n",
       "  </tbody>\n",
       "</table>\n",
       "</div>"
      ],
      "text/plain": [
       "   id                                              title  \\\n",
       "0   1  complexity and information systems research in...   \n",
       "1   2      the dynamics of drift in digitized processes.   \n",
       "2   3  taming complexity in search matching: two-side...   \n",
       "3   4  organized complexity of digital business strat...   \n",
       "4   5  digitization and phase transitions in platform...   \n",
       "\n",
       "                                            abstract publication_date  \\\n",
       "0  Complexity is all around us in this increasing...             None   \n",
       "1  This paper uses a simulation to build new theo...             None   \n",
       "2  We study digital multisided platforms as compl...             None   \n",
       "3  How should firms configure organizational capa...             None   \n",
       "4  This paper draws on complex adaptive systems (...             None   \n",
       "\n",
       "  submission_date online_date revision_date accepted_date cover_url full_url  \\\n",
       "0            None        None          None          None      None     None   \n",
       "1            None        None          None          None      None     None   \n",
       "2            None        None          None          None      None     None   \n",
       "3            None        None          None          None      None     None   \n",
       "4            None        None          None          None      None     None   \n",
       "\n",
       "  accession_number document_type                       doi manually_check  \\\n",
       "0        141995164       Article  10.25300/MISQ/2020/13304           None   \n",
       "1        141995165       Article  10.25300/MISQ/2020/14458           None   \n",
       "2        141995166       Article  10.25300/MISQ/2020/14424           None   \n",
       "3        141995167       Article  10.25300/MISQ/2020/14477           None   \n",
       "4        141995168       Article  10.25300/MISQ/2020/14520           None   \n",
       "\n",
       "   journal_id  \n",
       "0           1  \n",
       "1           1  \n",
       "2           1  \n",
       "3           1  \n",
       "4           1  "
      ]
     },
     "execution_count": 498,
     "metadata": {},
     "output_type": "execute_result"
    }
   ],
   "source": [
    "paper.head()"
   ]
  },
  {
   "cell_type": "code",
   "execution_count": 499,
   "metadata": {},
   "outputs": [],
   "source": [
    "# analyze the length of title/abstract\n",
    "title_length, abstract_length = [], []\n",
    "for i in range(len(paper)):\n",
    "    title_length.append(len(paper['title'][i]))\n",
    "    abstract_length.append(len(paper['abstract'][i]))"
   ]
  },
  {
   "cell_type": "code",
   "execution_count": 500,
   "metadata": {},
   "outputs": [],
   "source": [
    "title_length = pd.DataFrame(title_length, columns = ['title_length'])\n",
    "abstract_length = pd.DataFrame(abstract_length, columns = ['abstract_length'])"
   ]
  },
  {
   "cell_type": "code",
   "execution_count": 501,
   "metadata": {},
   "outputs": [
    {
     "data": {
      "text/html": [
       "<div>\n",
       "<style scoped>\n",
       "    .dataframe tbody tr th:only-of-type {\n",
       "        vertical-align: middle;\n",
       "    }\n",
       "\n",
       "    .dataframe tbody tr th {\n",
       "        vertical-align: top;\n",
       "    }\n",
       "\n",
       "    .dataframe thead th {\n",
       "        text-align: right;\n",
       "    }\n",
       "</style>\n",
       "<table border=\"1\" class=\"dataframe\">\n",
       "  <thead>\n",
       "    <tr style=\"text-align: right;\">\n",
       "      <th></th>\n",
       "      <th>id</th>\n",
       "      <th>title</th>\n",
       "      <th>abstract</th>\n",
       "      <th>publication_date</th>\n",
       "      <th>submission_date</th>\n",
       "      <th>online_date</th>\n",
       "      <th>revision_date</th>\n",
       "      <th>accepted_date</th>\n",
       "      <th>cover_url</th>\n",
       "      <th>full_url</th>\n",
       "      <th>accession_number</th>\n",
       "      <th>document_type</th>\n",
       "      <th>doi</th>\n",
       "      <th>manually_check</th>\n",
       "      <th>journal_id</th>\n",
       "      <th>title_length</th>\n",
       "      <th>abstract_length</th>\n",
       "    </tr>\n",
       "  </thead>\n",
       "  <tbody>\n",
       "    <tr>\n",
       "      <th>0</th>\n",
       "      <td>1</td>\n",
       "      <td>complexity and information systems research in...</td>\n",
       "      <td>Complexity is all around us in this increasing...</td>\n",
       "      <td>None</td>\n",
       "      <td>None</td>\n",
       "      <td>None</td>\n",
       "      <td>None</td>\n",
       "      <td>None</td>\n",
       "      <td>None</td>\n",
       "      <td>None</td>\n",
       "      <td>141995164</td>\n",
       "      <td>Article</td>\n",
       "      <td>10.25300/MISQ/2020/13304</td>\n",
       "      <td>None</td>\n",
       "      <td>1</td>\n",
       "      <td>74</td>\n",
       "      <td>1506</td>\n",
       "    </tr>\n",
       "    <tr>\n",
       "      <th>1</th>\n",
       "      <td>2</td>\n",
       "      <td>the dynamics of drift in digitized processes.</td>\n",
       "      <td>This paper uses a simulation to build new theo...</td>\n",
       "      <td>None</td>\n",
       "      <td>None</td>\n",
       "      <td>None</td>\n",
       "      <td>None</td>\n",
       "      <td>None</td>\n",
       "      <td>None</td>\n",
       "      <td>None</td>\n",
       "      <td>141995165</td>\n",
       "      <td>Article</td>\n",
       "      <td>10.25300/MISQ/2020/14458</td>\n",
       "      <td>None</td>\n",
       "      <td>1</td>\n",
       "      <td>45</td>\n",
       "      <td>1030</td>\n",
       "    </tr>\n",
       "    <tr>\n",
       "      <th>2</th>\n",
       "      <td>3</td>\n",
       "      <td>taming complexity in search matching: two-side...</td>\n",
       "      <td>We study digital multisided platforms as compl...</td>\n",
       "      <td>None</td>\n",
       "      <td>None</td>\n",
       "      <td>None</td>\n",
       "      <td>None</td>\n",
       "      <td>None</td>\n",
       "      <td>None</td>\n",
       "      <td>None</td>\n",
       "      <td>141995166</td>\n",
       "      <td>Article</td>\n",
       "      <td>10.25300/MISQ/2020/14424</td>\n",
       "      <td>None</td>\n",
       "      <td>1</td>\n",
       "      <td>89</td>\n",
       "      <td>1102</td>\n",
       "    </tr>\n",
       "    <tr>\n",
       "      <th>3</th>\n",
       "      <td>4</td>\n",
       "      <td>organized complexity of digital business strat...</td>\n",
       "      <td>How should firms configure organizational capa...</td>\n",
       "      <td>None</td>\n",
       "      <td>None</td>\n",
       "      <td>None</td>\n",
       "      <td>None</td>\n",
       "      <td>None</td>\n",
       "      <td>None</td>\n",
       "      <td>None</td>\n",
       "      <td>141995167</td>\n",
       "      <td>Article</td>\n",
       "      <td>10.25300/MISQ/2020/14477</td>\n",
       "      <td>None</td>\n",
       "      <td>1</td>\n",
       "      <td>81</td>\n",
       "      <td>2004</td>\n",
       "    </tr>\n",
       "    <tr>\n",
       "      <th>4</th>\n",
       "      <td>5</td>\n",
       "      <td>digitization and phase transitions in platform...</td>\n",
       "      <td>This paper draws on complex adaptive systems (...</td>\n",
       "      <td>None</td>\n",
       "      <td>None</td>\n",
       "      <td>None</td>\n",
       "      <td>None</td>\n",
       "      <td>None</td>\n",
       "      <td>None</td>\n",
       "      <td>None</td>\n",
       "      <td>141995168</td>\n",
       "      <td>Article</td>\n",
       "      <td>10.25300/MISQ/2020/14520</td>\n",
       "      <td>None</td>\n",
       "      <td>1</td>\n",
       "      <td>112</td>\n",
       "      <td>1235</td>\n",
       "    </tr>\n",
       "  </tbody>\n",
       "</table>\n",
       "</div>"
      ],
      "text/plain": [
       "   id                                              title  \\\n",
       "0   1  complexity and information systems research in...   \n",
       "1   2      the dynamics of drift in digitized processes.   \n",
       "2   3  taming complexity in search matching: two-side...   \n",
       "3   4  organized complexity of digital business strat...   \n",
       "4   5  digitization and phase transitions in platform...   \n",
       "\n",
       "                                            abstract publication_date  \\\n",
       "0  Complexity is all around us in this increasing...             None   \n",
       "1  This paper uses a simulation to build new theo...             None   \n",
       "2  We study digital multisided platforms as compl...             None   \n",
       "3  How should firms configure organizational capa...             None   \n",
       "4  This paper draws on complex adaptive systems (...             None   \n",
       "\n",
       "  submission_date online_date revision_date accepted_date cover_url full_url  \\\n",
       "0            None        None          None          None      None     None   \n",
       "1            None        None          None          None      None     None   \n",
       "2            None        None          None          None      None     None   \n",
       "3            None        None          None          None      None     None   \n",
       "4            None        None          None          None      None     None   \n",
       "\n",
       "  accession_number document_type                       doi manually_check  \\\n",
       "0        141995164       Article  10.25300/MISQ/2020/13304           None   \n",
       "1        141995165       Article  10.25300/MISQ/2020/14458           None   \n",
       "2        141995166       Article  10.25300/MISQ/2020/14424           None   \n",
       "3        141995167       Article  10.25300/MISQ/2020/14477           None   \n",
       "4        141995168       Article  10.25300/MISQ/2020/14520           None   \n",
       "\n",
       "   journal_id  title_length  abstract_length  \n",
       "0           1            74             1506  \n",
       "1           1            45             1030  \n",
       "2           1            89             1102  \n",
       "3           1            81             2004  \n",
       "4           1           112             1235  "
      ]
     },
     "execution_count": 501,
     "metadata": {},
     "output_type": "execute_result"
    }
   ],
   "source": [
    "# create a new dataframe within the length of title/abstract\n",
    "paper_length = pd.concat([paper, title_length, abstract_length], axis=1)\n",
    "paper_length.head()"
   ]
  },
  {
   "cell_type": "code",
   "execution_count": 502,
   "metadata": {},
   "outputs": [
    {
     "data": {
      "text/plain": [
       "count    4526.000000\n",
       "mean       76.997570\n",
       "std        32.822715\n",
       "min         4.000000\n",
       "25%        56.000000\n",
       "50%        79.000000\n",
       "75%        99.000000\n",
       "max       238.000000\n",
       "Name: title_length, dtype: float64"
      ]
     },
     "execution_count": 502,
     "metadata": {},
     "output_type": "execute_result"
    }
   ],
   "source": [
    "# title length for papers\n",
    "# mean: 77\n",
    "# min: 4\n",
    "# max: 238\n",
    "paper_length['title_length'].describe()"
   ]
  },
  {
   "cell_type": "code",
   "execution_count": 503,
   "metadata": {},
   "outputs": [
    {
     "data": {
      "text/html": [
       "<div>\n",
       "<style scoped>\n",
       "    .dataframe tbody tr th:only-of-type {\n",
       "        vertical-align: middle;\n",
       "    }\n",
       "\n",
       "    .dataframe tbody tr th {\n",
       "        vertical-align: top;\n",
       "    }\n",
       "\n",
       "    .dataframe thead th {\n",
       "        text-align: right;\n",
       "    }\n",
       "</style>\n",
       "<table border=\"1\" class=\"dataframe\">\n",
       "  <thead>\n",
       "    <tr style=\"text-align: right;\">\n",
       "      <th></th>\n",
       "      <th>id</th>\n",
       "      <th>title</th>\n",
       "      <th>abstract</th>\n",
       "      <th>publication_date</th>\n",
       "      <th>submission_date</th>\n",
       "      <th>online_date</th>\n",
       "      <th>revision_date</th>\n",
       "      <th>accepted_date</th>\n",
       "      <th>cover_url</th>\n",
       "      <th>full_url</th>\n",
       "      <th>accession_number</th>\n",
       "      <th>document_type</th>\n",
       "      <th>doi</th>\n",
       "      <th>manually_check</th>\n",
       "      <th>journal_id</th>\n",
       "      <th>title_length</th>\n",
       "      <th>abstract_length</th>\n",
       "    </tr>\n",
       "  </thead>\n",
       "  <tbody>\n",
       "    <tr>\n",
       "      <th>439</th>\n",
       "      <td>440</td>\n",
       "      <td>use.</td>\n",
       "      <td>The article presents the authors' opinion that...</td>\n",
       "      <td>None</td>\n",
       "      <td>None</td>\n",
       "      <td>None</td>\n",
       "      <td>None</td>\n",
       "      <td>None</td>\n",
       "      <td>None</td>\n",
       "      <td>None</td>\n",
       "      <td>83465872</td>\n",
       "      <td>Opinion</td>\n",
       "      <td>nan</td>\n",
       "      <td>None</td>\n",
       "      <td>30</td>\n",
       "      <td>4</td>\n",
       "      <td>376</td>\n",
       "    </tr>\n",
       "  </tbody>\n",
       "</table>\n",
       "</div>"
      ],
      "text/plain": [
       "      id title                                           abstract  \\\n",
       "439  440  use.  The article presents the authors' opinion that...   \n",
       "\n",
       "    publication_date submission_date online_date revision_date accepted_date  \\\n",
       "439             None            None        None          None          None   \n",
       "\n",
       "    cover_url full_url accession_number document_type  doi manually_check  \\\n",
       "439      None     None         83465872       Opinion  nan           None   \n",
       "\n",
       "     journal_id  title_length  abstract_length  \n",
       "439          30             4              376  "
      ]
     },
     "execution_count": 503,
     "metadata": {},
     "output_type": "execute_result"
    }
   ],
   "source": [
    "# min title length = 4\n",
    "# this should be a wrong entry\n",
    "paper_length[paper_length['title_length']==4]"
   ]
  },
  {
   "cell_type": "code",
   "execution_count": 504,
   "metadata": {},
   "outputs": [
    {
     "data": {
      "text/html": [
       "<div>\n",
       "<style scoped>\n",
       "    .dataframe tbody tr th:only-of-type {\n",
       "        vertical-align: middle;\n",
       "    }\n",
       "\n",
       "    .dataframe tbody tr th {\n",
       "        vertical-align: top;\n",
       "    }\n",
       "\n",
       "    .dataframe thead th {\n",
       "        text-align: right;\n",
       "    }\n",
       "</style>\n",
       "<table border=\"1\" class=\"dataframe\">\n",
       "  <thead>\n",
       "    <tr style=\"text-align: right;\">\n",
       "      <th></th>\n",
       "      <th>id</th>\n",
       "      <th>title</th>\n",
       "      <th>abstract</th>\n",
       "      <th>publication_date</th>\n",
       "      <th>submission_date</th>\n",
       "      <th>online_date</th>\n",
       "      <th>revision_date</th>\n",
       "      <th>accepted_date</th>\n",
       "      <th>cover_url</th>\n",
       "      <th>full_url</th>\n",
       "      <th>accession_number</th>\n",
       "      <th>document_type</th>\n",
       "      <th>doi</th>\n",
       "      <th>manually_check</th>\n",
       "      <th>journal_id</th>\n",
       "      <th>title_length</th>\n",
       "      <th>abstract_length</th>\n",
       "    </tr>\n",
       "  </thead>\n",
       "  <tbody>\n",
       "    <tr>\n",
       "      <th>17</th>\n",
       "      <td>18</td>\n",
       "      <td>editor’s comments.</td>\n",
       "      <td>The article discuss the design of the Reviewer...</td>\n",
       "      <td>None</td>\n",
       "      <td>None</td>\n",
       "      <td>None</td>\n",
       "      <td>None</td>\n",
       "      <td>None</td>\n",
       "      <td>None</td>\n",
       "      <td>None</td>\n",
       "      <td>141906422</td>\n",
       "      <td>Article</td>\n",
       "      <td>nan</td>\n",
       "      <td>None</td>\n",
       "      <td>2</td>\n",
       "      <td>18</td>\n",
       "      <td>478</td>\n",
       "    </tr>\n",
       "    <tr>\n",
       "      <th>206</th>\n",
       "      <td>207</td>\n",
       "      <td>editor’s comments.</td>\n",
       "      <td>The article presents several perspectives on s...</td>\n",
       "      <td>None</td>\n",
       "      <td>None</td>\n",
       "      <td>None</td>\n",
       "      <td>None</td>\n",
       "      <td>None</td>\n",
       "      <td>None</td>\n",
       "      <td>None</td>\n",
       "      <td>121204218</td>\n",
       "      <td>Article</td>\n",
       "      <td>nan</td>\n",
       "      <td>None</td>\n",
       "      <td>13</td>\n",
       "      <td>18</td>\n",
       "      <td>315</td>\n",
       "    </tr>\n",
       "    <tr>\n",
       "      <th>216</th>\n",
       "      <td>217</td>\n",
       "      <td>editor’s comments.</td>\n",
       "      <td>An introduction discusses the forty year histo...</td>\n",
       "      <td>None</td>\n",
       "      <td>None</td>\n",
       "      <td>None</td>\n",
       "      <td>None</td>\n",
       "      <td>None</td>\n",
       "      <td>None</td>\n",
       "      <td>None</td>\n",
       "      <td>119473684</td>\n",
       "      <td>Article</td>\n",
       "      <td>nan</td>\n",
       "      <td>None</td>\n",
       "      <td>14</td>\n",
       "      <td>18</td>\n",
       "      <td>53</td>\n",
       "    </tr>\n",
       "    <tr>\n",
       "      <th>233</th>\n",
       "      <td>234</td>\n",
       "      <td>editor’s comments.</td>\n",
       "      <td>The article offers advice on the academic peer...</td>\n",
       "      <td>None</td>\n",
       "      <td>None</td>\n",
       "      <td>None</td>\n",
       "      <td>None</td>\n",
       "      <td>None</td>\n",
       "      <td>None</td>\n",
       "      <td>None</td>\n",
       "      <td>117951006</td>\n",
       "      <td>Article</td>\n",
       "      <td>nan</td>\n",
       "      <td>None</td>\n",
       "      <td>15</td>\n",
       "      <td>18</td>\n",
       "      <td>346</td>\n",
       "    </tr>\n",
       "    <tr>\n",
       "      <th>249</th>\n",
       "      <td>250</td>\n",
       "      <td>editor’s comments.</td>\n",
       "      <td>The author shares his thoughts on changes in t...</td>\n",
       "      <td>None</td>\n",
       "      <td>None</td>\n",
       "      <td>None</td>\n",
       "      <td>None</td>\n",
       "      <td>None</td>\n",
       "      <td>None</td>\n",
       "      <td>None</td>\n",
       "      <td>115296634</td>\n",
       "      <td>Editorial</td>\n",
       "      <td>nan</td>\n",
       "      <td>None</td>\n",
       "      <td>16</td>\n",
       "      <td>18</td>\n",
       "      <td>471</td>\n",
       "    </tr>\n",
       "  </tbody>\n",
       "</table>\n",
       "</div>"
      ],
      "text/plain": [
       "      id               title  \\\n",
       "17    18  editor’s comments.   \n",
       "206  207  editor’s comments.   \n",
       "216  217  editor’s comments.   \n",
       "233  234  editor’s comments.   \n",
       "249  250  editor’s comments.   \n",
       "\n",
       "                                              abstract publication_date  \\\n",
       "17   The article discuss the design of the Reviewer...             None   \n",
       "206  The article presents several perspectives on s...             None   \n",
       "216  An introduction discusses the forty year histo...             None   \n",
       "233  The article offers advice on the academic peer...             None   \n",
       "249  The author shares his thoughts on changes in t...             None   \n",
       "\n",
       "    submission_date online_date revision_date accepted_date cover_url  \\\n",
       "17             None        None          None          None      None   \n",
       "206            None        None          None          None      None   \n",
       "216            None        None          None          None      None   \n",
       "233            None        None          None          None      None   \n",
       "249            None        None          None          None      None   \n",
       "\n",
       "    full_url accession_number document_type  doi manually_check  journal_id  \\\n",
       "17      None        141906422       Article  nan           None           2   \n",
       "206     None        121204218       Article  nan           None          13   \n",
       "216     None        119473684       Article  nan           None          14   \n",
       "233     None        117951006       Article  nan           None          15   \n",
       "249     None        115296634     Editorial  nan           None          16   \n",
       "\n",
       "     title_length  abstract_length  \n",
       "17             18              478  \n",
       "206            18              315  \n",
       "216            18               53  \n",
       "233            18              346  \n",
       "249            18              471  "
      ]
     },
     "execution_count": 504,
     "metadata": {},
     "output_type": "execute_result"
    }
   ],
   "source": [
    "# title length < 50\n",
    "paper_length[paper_length['title_length']<20].head()"
   ]
  },
  {
   "cell_type": "code",
   "execution_count": 505,
   "metadata": {},
   "outputs": [
    {
     "data": {
      "text/html": [
       "<div>\n",
       "<style scoped>\n",
       "    .dataframe tbody tr th:only-of-type {\n",
       "        vertical-align: middle;\n",
       "    }\n",
       "\n",
       "    .dataframe tbody tr th {\n",
       "        vertical-align: top;\n",
       "    }\n",
       "\n",
       "    .dataframe thead th {\n",
       "        text-align: right;\n",
       "    }\n",
       "</style>\n",
       "<table border=\"1\" class=\"dataframe\">\n",
       "  <thead>\n",
       "    <tr style=\"text-align: right;\">\n",
       "      <th></th>\n",
       "      <th>id</th>\n",
       "      <th>title</th>\n",
       "      <th>abstract</th>\n",
       "      <th>publication_date</th>\n",
       "      <th>submission_date</th>\n",
       "      <th>online_date</th>\n",
       "      <th>revision_date</th>\n",
       "      <th>accepted_date</th>\n",
       "      <th>cover_url</th>\n",
       "      <th>full_url</th>\n",
       "      <th>accession_number</th>\n",
       "      <th>document_type</th>\n",
       "      <th>doi</th>\n",
       "      <th>manually_check</th>\n",
       "      <th>journal_id</th>\n",
       "      <th>title_length</th>\n",
       "      <th>abstract_length</th>\n",
       "    </tr>\n",
       "  </thead>\n",
       "  <tbody>\n",
       "    <tr>\n",
       "      <th>17</th>\n",
       "      <td>18</td>\n",
       "      <td>editor’s comments.</td>\n",
       "      <td>The article discuss the design of the Reviewer...</td>\n",
       "      <td>None</td>\n",
       "      <td>None</td>\n",
       "      <td>None</td>\n",
       "      <td>None</td>\n",
       "      <td>None</td>\n",
       "      <td>None</td>\n",
       "      <td>None</td>\n",
       "      <td>141906422</td>\n",
       "      <td>Article</td>\n",
       "      <td>nan</td>\n",
       "      <td>None</td>\n",
       "      <td>2</td>\n",
       "      <td>18</td>\n",
       "      <td>478</td>\n",
       "    </tr>\n",
       "    <tr>\n",
       "      <th>206</th>\n",
       "      <td>207</td>\n",
       "      <td>editor’s comments.</td>\n",
       "      <td>The article presents several perspectives on s...</td>\n",
       "      <td>None</td>\n",
       "      <td>None</td>\n",
       "      <td>None</td>\n",
       "      <td>None</td>\n",
       "      <td>None</td>\n",
       "      <td>None</td>\n",
       "      <td>None</td>\n",
       "      <td>121204218</td>\n",
       "      <td>Article</td>\n",
       "      <td>nan</td>\n",
       "      <td>None</td>\n",
       "      <td>13</td>\n",
       "      <td>18</td>\n",
       "      <td>315</td>\n",
       "    </tr>\n",
       "    <tr>\n",
       "      <th>216</th>\n",
       "      <td>217</td>\n",
       "      <td>editor’s comments.</td>\n",
       "      <td>An introduction discusses the forty year histo...</td>\n",
       "      <td>None</td>\n",
       "      <td>None</td>\n",
       "      <td>None</td>\n",
       "      <td>None</td>\n",
       "      <td>None</td>\n",
       "      <td>None</td>\n",
       "      <td>None</td>\n",
       "      <td>119473684</td>\n",
       "      <td>Article</td>\n",
       "      <td>nan</td>\n",
       "      <td>None</td>\n",
       "      <td>14</td>\n",
       "      <td>18</td>\n",
       "      <td>53</td>\n",
       "    </tr>\n",
       "    <tr>\n",
       "      <th>233</th>\n",
       "      <td>234</td>\n",
       "      <td>editor’s comments.</td>\n",
       "      <td>The article offers advice on the academic peer...</td>\n",
       "      <td>None</td>\n",
       "      <td>None</td>\n",
       "      <td>None</td>\n",
       "      <td>None</td>\n",
       "      <td>None</td>\n",
       "      <td>None</td>\n",
       "      <td>None</td>\n",
       "      <td>117951006</td>\n",
       "      <td>Article</td>\n",
       "      <td>nan</td>\n",
       "      <td>None</td>\n",
       "      <td>15</td>\n",
       "      <td>18</td>\n",
       "      <td>346</td>\n",
       "    </tr>\n",
       "    <tr>\n",
       "      <th>249</th>\n",
       "      <td>250</td>\n",
       "      <td>editor’s comments.</td>\n",
       "      <td>The author shares his thoughts on changes in t...</td>\n",
       "      <td>None</td>\n",
       "      <td>None</td>\n",
       "      <td>None</td>\n",
       "      <td>None</td>\n",
       "      <td>None</td>\n",
       "      <td>None</td>\n",
       "      <td>None</td>\n",
       "      <td>115296634</td>\n",
       "      <td>Editorial</td>\n",
       "      <td>nan</td>\n",
       "      <td>None</td>\n",
       "      <td>16</td>\n",
       "      <td>18</td>\n",
       "      <td>471</td>\n",
       "    </tr>\n",
       "    <tr>\n",
       "      <th>261</th>\n",
       "      <td>262</td>\n",
       "      <td>editor’s comments.</td>\n",
       "      <td>In this article, the author focuses on joining...</td>\n",
       "      <td>None</td>\n",
       "      <td>None</td>\n",
       "      <td>None</td>\n",
       "      <td>None</td>\n",
       "      <td>None</td>\n",
       "      <td>None</td>\n",
       "      <td>None</td>\n",
       "      <td>112750554</td>\n",
       "      <td>Article</td>\n",
       "      <td>nan</td>\n",
       "      <td>None</td>\n",
       "      <td>17</td>\n",
       "      <td>18</td>\n",
       "      <td>407</td>\n",
       "    </tr>\n",
       "  </tbody>\n",
       "</table>\n",
       "</div>"
      ],
      "text/plain": [
       "      id               title  \\\n",
       "17    18  editor’s comments.   \n",
       "206  207  editor’s comments.   \n",
       "216  217  editor’s comments.   \n",
       "233  234  editor’s comments.   \n",
       "249  250  editor’s comments.   \n",
       "261  262  editor’s comments.   \n",
       "\n",
       "                                              abstract publication_date  \\\n",
       "17   The article discuss the design of the Reviewer...             None   \n",
       "206  The article presents several perspectives on s...             None   \n",
       "216  An introduction discusses the forty year histo...             None   \n",
       "233  The article offers advice on the academic peer...             None   \n",
       "249  The author shares his thoughts on changes in t...             None   \n",
       "261  In this article, the author focuses on joining...             None   \n",
       "\n",
       "    submission_date online_date revision_date accepted_date cover_url  \\\n",
       "17             None        None          None          None      None   \n",
       "206            None        None          None          None      None   \n",
       "216            None        None          None          None      None   \n",
       "233            None        None          None          None      None   \n",
       "249            None        None          None          None      None   \n",
       "261            None        None          None          None      None   \n",
       "\n",
       "    full_url accession_number document_type  doi manually_check  journal_id  \\\n",
       "17      None        141906422       Article  nan           None           2   \n",
       "206     None        121204218       Article  nan           None          13   \n",
       "216     None        119473684       Article  nan           None          14   \n",
       "233     None        117951006       Article  nan           None          15   \n",
       "249     None        115296634     Editorial  nan           None          16   \n",
       "261     None        112750554       Article  nan           None          17   \n",
       "\n",
       "     title_length  abstract_length  \n",
       "17             18              478  \n",
       "206            18              315  \n",
       "216            18               53  \n",
       "233            18              346  \n",
       "249            18              471  \n",
       "261            18              407  "
      ]
     },
     "execution_count": 505,
     "metadata": {},
     "output_type": "execute_result"
    }
   ],
   "source": [
    "# some observations should be removed with the title 'editor’s comments.'\n",
    "paper_length[paper_length['title'] == 'editor’s comments.']"
   ]
  },
  {
   "cell_type": "code",
   "execution_count": 506,
   "metadata": {},
   "outputs": [
    {
     "data": {
      "text/html": [
       "<div>\n",
       "<style scoped>\n",
       "    .dataframe tbody tr th:only-of-type {\n",
       "        vertical-align: middle;\n",
       "    }\n",
       "\n",
       "    .dataframe tbody tr th {\n",
       "        vertical-align: top;\n",
       "    }\n",
       "\n",
       "    .dataframe thead th {\n",
       "        text-align: right;\n",
       "    }\n",
       "</style>\n",
       "<table border=\"1\" class=\"dataframe\">\n",
       "  <thead>\n",
       "    <tr style=\"text-align: right;\">\n",
       "      <th></th>\n",
       "      <th>id</th>\n",
       "      <th>title</th>\n",
       "      <th>abstract</th>\n",
       "      <th>publication_date</th>\n",
       "      <th>submission_date</th>\n",
       "      <th>online_date</th>\n",
       "      <th>revision_date</th>\n",
       "      <th>accepted_date</th>\n",
       "      <th>cover_url</th>\n",
       "      <th>full_url</th>\n",
       "      <th>accession_number</th>\n",
       "      <th>document_type</th>\n",
       "      <th>doi</th>\n",
       "      <th>manually_check</th>\n",
       "      <th>journal_id</th>\n",
       "      <th>title_length</th>\n",
       "      <th>abstract_length</th>\n",
       "    </tr>\n",
       "  </thead>\n",
       "  <tbody>\n",
       "    <tr>\n",
       "      <th>4494</th>\n",
       "      <td>4495</td>\n",
       "      <td>about this issue.</td>\n",
       "      <td>nan</td>\n",
       "      <td>None</td>\n",
       "      <td>None</td>\n",
       "      <td>None</td>\n",
       "      <td>None</td>\n",
       "      <td>None</td>\n",
       "      <td>None</td>\n",
       "      <td>None</td>\n",
       "      <td>27245540</td>\n",
       "      <td>Article</td>\n",
       "      <td>10.1080/07421222.1985.11517719</td>\n",
       "      <td>None</td>\n",
       "      <td>436</td>\n",
       "      <td>17</td>\n",
       "      <td>3</td>\n",
       "    </tr>\n",
       "    <tr>\n",
       "      <th>4501</th>\n",
       "      <td>4502</td>\n",
       "      <td>about this issue.</td>\n",
       "      <td>nan</td>\n",
       "      <td>None</td>\n",
       "      <td>None</td>\n",
       "      <td>None</td>\n",
       "      <td>None</td>\n",
       "      <td>None</td>\n",
       "      <td>None</td>\n",
       "      <td>None</td>\n",
       "      <td>27245565</td>\n",
       "      <td>Article</td>\n",
       "      <td>10.1080/07421222.1985.11517711</td>\n",
       "      <td>None</td>\n",
       "      <td>437</td>\n",
       "      <td>17</td>\n",
       "      <td>3</td>\n",
       "    </tr>\n",
       "    <tr>\n",
       "      <th>4513</th>\n",
       "      <td>4514</td>\n",
       "      <td>about this issue.</td>\n",
       "      <td>nan</td>\n",
       "      <td>None</td>\n",
       "      <td>None</td>\n",
       "      <td>None</td>\n",
       "      <td>None</td>\n",
       "      <td>None</td>\n",
       "      <td>None</td>\n",
       "      <td>None</td>\n",
       "      <td>27251369</td>\n",
       "      <td>Article</td>\n",
       "      <td>10.1080/07421222.1984.11517700</td>\n",
       "      <td>None</td>\n",
       "      <td>439</td>\n",
       "      <td>17</td>\n",
       "      <td>3</td>\n",
       "    </tr>\n",
       "  </tbody>\n",
       "</table>\n",
       "</div>"
      ],
      "text/plain": [
       "        id              title abstract publication_date submission_date  \\\n",
       "4494  4495  about this issue.      nan             None            None   \n",
       "4501  4502  about this issue.      nan             None            None   \n",
       "4513  4514  about this issue.      nan             None            None   \n",
       "\n",
       "     online_date revision_date accepted_date cover_url full_url  \\\n",
       "4494        None          None          None      None     None   \n",
       "4501        None          None          None      None     None   \n",
       "4513        None          None          None      None     None   \n",
       "\n",
       "     accession_number document_type                             doi  \\\n",
       "4494         27245540       Article  10.1080/07421222.1985.11517719   \n",
       "4501         27245565       Article  10.1080/07421222.1985.11517711   \n",
       "4513         27251369       Article  10.1080/07421222.1984.11517700   \n",
       "\n",
       "     manually_check  journal_id  title_length  abstract_length  \n",
       "4494           None         436            17                3  \n",
       "4501           None         437            17                3  \n",
       "4513           None         439            17                3  "
      ]
     },
     "execution_count": 506,
     "metadata": {},
     "output_type": "execute_result"
    }
   ],
   "source": [
    "# # some observations should be removed with the title 'about this issue.'\n",
    "paper_length[paper_length['title'] == 'about this issue.']"
   ]
  },
  {
   "cell_type": "code",
   "execution_count": 507,
   "metadata": {},
   "outputs": [
    {
     "data": {
      "text/plain": [
       "executive overview.    176\n",
       "editorial notes.        45\n",
       "editor's comments.      36\n",
       "editorial preview.      24\n",
       "about our authors.      15\n",
       "editor's comment.       12\n",
       "from our readers.        9\n",
       "editor’s comments.       6\n",
       "correction.              6\n",
       "erratum.                 5\n",
       "errata notes.            4\n",
       "index to                 4\n",
       "editorial note.          4\n",
       "editorial board.         3\n",
       "about this issue.        3\n",
       "to the editor.           2\n",
       "prelude.                 1\n",
       "stabilizing an mis.      1\n",
       "editors' preface.        1\n",
       "senior editor note.      1\n",
       "reach and grasp.         1\n",
       "colonial systems.        1\n",
       "the alliance.            1\n",
       "what can the             1\n",
       "use.                     1\n",
       "editor's notes.          1\n",
       "ceos and their pcs.      1\n",
       "errata note.             1\n",
       "corrigendum.             1\n",
       "generalizability of      1\n",
       "Name: title, dtype: int64"
      ]
     },
     "execution_count": 507,
     "metadata": {},
     "output_type": "execute_result"
    }
   ],
   "source": [
    "# check the duplicated titles\n",
    "a = paper_length[paper_length['title_length']<20]\n",
    "a['title'].value_counts()"
   ]
  },
  {
   "cell_type": "code",
   "execution_count": 508,
   "metadata": {},
   "outputs": [
    {
     "data": {
      "text/plain": [
       "['executive overview.',\n",
       " 'editorial notes.',\n",
       " \"editor's comments.\",\n",
       " 'editorial preview.',\n",
       " 'about our authors.',\n",
       " \"editor's comment.\",\n",
       " 'from our readers.',\n",
       " 'editor’s comments.',\n",
       " 'correction.',\n",
       " 'erratum.',\n",
       " 'errata notes.',\n",
       " 'index to',\n",
       " 'editorial note.',\n",
       " 'editorial board.',\n",
       " 'about this issue.',\n",
       " 'to the editor.',\n",
       " 'prelude.',\n",
       " 'stabilizing an mis.',\n",
       " \"editors' preface.\",\n",
       " 'senior editor note.',\n",
       " 'reach and grasp.',\n",
       " 'colonial systems.',\n",
       " 'the alliance.',\n",
       " 'what can the',\n",
       " 'use.',\n",
       " \"editor's notes.\",\n",
       " 'ceos and their pcs.',\n",
       " 'errata note.',\n",
       " 'corrigendum.',\n",
       " 'generalizability of']"
      ]
     },
     "execution_count": 508,
     "metadata": {},
     "output_type": "execute_result"
    }
   ],
   "source": [
    "# title should be removed\n",
    "title_remove = a['title'].value_counts().index.tolist()\n",
    "title_remove"
   ]
  },
  {
   "cell_type": "code",
   "execution_count": 509,
   "metadata": {},
   "outputs": [
    {
     "data": {
      "text/html": [
       "<div>\n",
       "<style scoped>\n",
       "    .dataframe tbody tr th:only-of-type {\n",
       "        vertical-align: middle;\n",
       "    }\n",
       "\n",
       "    .dataframe tbody tr th {\n",
       "        vertical-align: top;\n",
       "    }\n",
       "\n",
       "    .dataframe thead th {\n",
       "        text-align: right;\n",
       "    }\n",
       "</style>\n",
       "<table border=\"1\" class=\"dataframe\">\n",
       "  <thead>\n",
       "    <tr style=\"text-align: right;\">\n",
       "      <th></th>\n",
       "      <th>id</th>\n",
       "      <th>title</th>\n",
       "      <th>abstract</th>\n",
       "      <th>publication_date</th>\n",
       "      <th>submission_date</th>\n",
       "      <th>online_date</th>\n",
       "      <th>revision_date</th>\n",
       "      <th>accepted_date</th>\n",
       "      <th>cover_url</th>\n",
       "      <th>full_url</th>\n",
       "      <th>accession_number</th>\n",
       "      <th>document_type</th>\n",
       "      <th>doi</th>\n",
       "      <th>manually_check</th>\n",
       "      <th>journal_id</th>\n",
       "      <th>title_length</th>\n",
       "      <th>abstract_length</th>\n",
       "    </tr>\n",
       "  </thead>\n",
       "  <tbody>\n",
       "    <tr>\n",
       "      <th>3130</th>\n",
       "      <td>3131</td>\n",
       "      <td>corrigendum.</td>\n",
       "      <td>A correction is presented to the article \"A Vi...</td>\n",
       "      <td>None</td>\n",
       "      <td>None</td>\n",
       "      <td>None</td>\n",
       "      <td>None</td>\n",
       "      <td>None</td>\n",
       "      <td>None</td>\n",
       "      <td>None</td>\n",
       "      <td>132664860</td>\n",
       "      <td>Correction Notice</td>\n",
       "      <td>10.1080/07421222.2018.1491254</td>\n",
       "      <td>None</td>\n",
       "      <td>301</td>\n",
       "      <td>12</td>\n",
       "      <td>147</td>\n",
       "    </tr>\n",
       "  </tbody>\n",
       "</table>\n",
       "</div>"
      ],
      "text/plain": [
       "        id         title                                           abstract  \\\n",
       "3130  3131  corrigendum.  A correction is presented to the article \"A Vi...   \n",
       "\n",
       "     publication_date submission_date online_date revision_date accepted_date  \\\n",
       "3130             None            None        None          None          None   \n",
       "\n",
       "     cover_url full_url accession_number      document_type  \\\n",
       "3130      None     None        132664860  Correction Notice   \n",
       "\n",
       "                                doi manually_check  journal_id  title_length  \\\n",
       "3130  10.1080/07421222.2018.1491254           None         301            12   \n",
       "\n",
       "      abstract_length  \n",
       "3130              147  "
      ]
     },
     "execution_count": 509,
     "metadata": {},
     "output_type": "execute_result"
    }
   ],
   "source": [
    "# some titles should be acceptable\n",
    "# for 'corrigendum.': should be dropped\n",
    "paper_length[paper_length['title'] == 'corrigendum.']"
   ]
  },
  {
   "cell_type": "code",
   "execution_count": 510,
   "metadata": {},
   "outputs": [
    {
     "data": {
      "text/html": [
       "<div>\n",
       "<style scoped>\n",
       "    .dataframe tbody tr th:only-of-type {\n",
       "        vertical-align: middle;\n",
       "    }\n",
       "\n",
       "    .dataframe tbody tr th {\n",
       "        vertical-align: top;\n",
       "    }\n",
       "\n",
       "    .dataframe thead th {\n",
       "        text-align: right;\n",
       "    }\n",
       "</style>\n",
       "<table border=\"1\" class=\"dataframe\">\n",
       "  <thead>\n",
       "    <tr style=\"text-align: right;\">\n",
       "      <th></th>\n",
       "      <th>id</th>\n",
       "      <th>title</th>\n",
       "      <th>abstract</th>\n",
       "      <th>publication_date</th>\n",
       "      <th>submission_date</th>\n",
       "      <th>online_date</th>\n",
       "      <th>revision_date</th>\n",
       "      <th>accepted_date</th>\n",
       "      <th>cover_url</th>\n",
       "      <th>full_url</th>\n",
       "      <th>accession_number</th>\n",
       "      <th>document_type</th>\n",
       "      <th>doi</th>\n",
       "      <th>manually_check</th>\n",
       "      <th>journal_id</th>\n",
       "      <th>title_length</th>\n",
       "      <th>abstract_length</th>\n",
       "    </tr>\n",
       "  </thead>\n",
       "  <tbody>\n",
       "    <tr>\n",
       "      <th>1370</th>\n",
       "      <td>1371</td>\n",
       "      <td>what can the</td>\n",
       "      <td>nan</td>\n",
       "      <td>None</td>\n",
       "      <td>None</td>\n",
       "      <td>None</td>\n",
       "      <td>None</td>\n",
       "      <td>None</td>\n",
       "      <td>None</td>\n",
       "      <td>None</td>\n",
       "      <td>19327031</td>\n",
       "      <td>Article</td>\n",
       "      <td>nan</td>\n",
       "      <td>None</td>\n",
       "      <td>119</td>\n",
       "      <td>12</td>\n",
       "      <td>3</td>\n",
       "    </tr>\n",
       "  </tbody>\n",
       "</table>\n",
       "</div>"
      ],
      "text/plain": [
       "        id         title abstract publication_date submission_date  \\\n",
       "1370  1371  what can the      nan             None            None   \n",
       "\n",
       "     online_date revision_date accepted_date cover_url full_url  \\\n",
       "1370        None          None          None      None     None   \n",
       "\n",
       "     accession_number document_type  doi manually_check  journal_id  \\\n",
       "1370         19327031       Article  nan           None         119   \n",
       "\n",
       "      title_length  abstract_length  \n",
       "1370            12                3  "
      ]
     },
     "execution_count": 510,
     "metadata": {},
     "output_type": "execute_result"
    }
   ],
   "source": [
    "# for 'what can the': should be dropped\n",
    "paper_length[paper_length['title'] == 'what can the']"
   ]
  },
  {
   "cell_type": "code",
   "execution_count": 511,
   "metadata": {},
   "outputs": [
    {
     "data": {
      "text/html": [
       "<div>\n",
       "<style scoped>\n",
       "    .dataframe tbody tr th:only-of-type {\n",
       "        vertical-align: middle;\n",
       "    }\n",
       "\n",
       "    .dataframe tbody tr th {\n",
       "        vertical-align: top;\n",
       "    }\n",
       "\n",
       "    .dataframe thead th {\n",
       "        text-align: right;\n",
       "    }\n",
       "</style>\n",
       "<table border=\"1\" class=\"dataframe\">\n",
       "  <thead>\n",
       "    <tr style=\"text-align: right;\">\n",
       "      <th></th>\n",
       "      <th>id</th>\n",
       "      <th>title</th>\n",
       "      <th>abstract</th>\n",
       "      <th>publication_date</th>\n",
       "      <th>submission_date</th>\n",
       "      <th>online_date</th>\n",
       "      <th>revision_date</th>\n",
       "      <th>accepted_date</th>\n",
       "      <th>cover_url</th>\n",
       "      <th>full_url</th>\n",
       "      <th>accession_number</th>\n",
       "      <th>document_type</th>\n",
       "      <th>doi</th>\n",
       "      <th>manually_check</th>\n",
       "      <th>journal_id</th>\n",
       "      <th>title_length</th>\n",
       "      <th>abstract_length</th>\n",
       "    </tr>\n",
       "  </thead>\n",
       "  <tbody>\n",
       "    <tr>\n",
       "      <th>712</th>\n",
       "      <td>713</td>\n",
       "      <td>prelude.</td>\n",
       "      <td>This article offers an introduction to this is...</td>\n",
       "      <td>None</td>\n",
       "      <td>None</td>\n",
       "      <td>None</td>\n",
       "      <td>None</td>\n",
       "      <td>None</td>\n",
       "      <td>None</td>\n",
       "      <td>None</td>\n",
       "      <td>25980850</td>\n",
       "      <td>Article</td>\n",
       "      <td>nan</td>\n",
       "      <td>None</td>\n",
       "      <td>51</td>\n",
       "      <td>8</td>\n",
       "      <td>53</td>\n",
       "    </tr>\n",
       "  </tbody>\n",
       "</table>\n",
       "</div>"
      ],
      "text/plain": [
       "      id     title                                           abstract  \\\n",
       "712  713  prelude.  This article offers an introduction to this is...   \n",
       "\n",
       "    publication_date submission_date online_date revision_date accepted_date  \\\n",
       "712             None            None        None          None          None   \n",
       "\n",
       "    cover_url full_url accession_number document_type  doi manually_check  \\\n",
       "712      None     None         25980850       Article  nan           None   \n",
       "\n",
       "     journal_id  title_length  abstract_length  \n",
       "712          51             8               53  "
      ]
     },
     "execution_count": 511,
     "metadata": {},
     "output_type": "execute_result"
    }
   ],
   "source": [
    "# prelude.: should be kept\n",
    "paper_length[paper_length['title'] == 'prelude.']"
   ]
  },
  {
   "cell_type": "code",
   "execution_count": 512,
   "metadata": {},
   "outputs": [],
   "source": [
    "title_remove.remove('prelude.')"
   ]
  },
  {
   "cell_type": "code",
   "execution_count": 513,
   "metadata": {},
   "outputs": [
    {
     "data": {
      "text/html": [
       "<div>\n",
       "<style scoped>\n",
       "    .dataframe tbody tr th:only-of-type {\n",
       "        vertical-align: middle;\n",
       "    }\n",
       "\n",
       "    .dataframe tbody tr th {\n",
       "        vertical-align: top;\n",
       "    }\n",
       "\n",
       "    .dataframe thead th {\n",
       "        text-align: right;\n",
       "    }\n",
       "</style>\n",
       "<table border=\"1\" class=\"dataframe\">\n",
       "  <thead>\n",
       "    <tr style=\"text-align: right;\">\n",
       "      <th></th>\n",
       "      <th>id</th>\n",
       "      <th>title</th>\n",
       "      <th>abstract</th>\n",
       "      <th>publication_date</th>\n",
       "      <th>submission_date</th>\n",
       "      <th>online_date</th>\n",
       "      <th>revision_date</th>\n",
       "      <th>accepted_date</th>\n",
       "      <th>cover_url</th>\n",
       "      <th>full_url</th>\n",
       "      <th>accession_number</th>\n",
       "      <th>document_type</th>\n",
       "      <th>doi</th>\n",
       "      <th>manually_check</th>\n",
       "      <th>journal_id</th>\n",
       "      <th>title_length</th>\n",
       "      <th>abstract_length</th>\n",
       "    </tr>\n",
       "  </thead>\n",
       "  <tbody>\n",
       "    <tr>\n",
       "      <th>1882</th>\n",
       "      <td>1883</td>\n",
       "      <td>stabilizing an mis.</td>\n",
       "      <td>Technical managers of MIS appear to have only ...</td>\n",
       "      <td>None</td>\n",
       "      <td>None</td>\n",
       "      <td>None</td>\n",
       "      <td>None</td>\n",
       "      <td>None</td>\n",
       "      <td>None</td>\n",
       "      <td>None</td>\n",
       "      <td>4679125</td>\n",
       "      <td>Article</td>\n",
       "      <td>10.2307/249046</td>\n",
       "      <td>None</td>\n",
       "      <td>163</td>\n",
       "      <td>19</td>\n",
       "      <td>1422</td>\n",
       "    </tr>\n",
       "  </tbody>\n",
       "</table>\n",
       "</div>"
      ],
      "text/plain": [
       "        id                title  \\\n",
       "1882  1883  stabilizing an mis.   \n",
       "\n",
       "                                               abstract publication_date  \\\n",
       "1882  Technical managers of MIS appear to have only ...             None   \n",
       "\n",
       "     submission_date online_date revision_date accepted_date cover_url  \\\n",
       "1882            None        None          None          None      None   \n",
       "\n",
       "     full_url accession_number document_type             doi manually_check  \\\n",
       "1882     None          4679125       Article  10.2307/249046           None   \n",
       "\n",
       "      journal_id  title_length  abstract_length  \n",
       "1882         163            19             1422  "
      ]
     },
     "execution_count": 513,
     "metadata": {},
     "output_type": "execute_result"
    }
   ],
   "source": [
    "# stabilizing an mis.: should be kept\n",
    "paper_length[paper_length['title'] == 'stabilizing an mis.']"
   ]
  },
  {
   "cell_type": "code",
   "execution_count": 514,
   "metadata": {},
   "outputs": [],
   "source": [
    "title_remove.remove('stabilizing an mis.')"
   ]
  },
  {
   "cell_type": "code",
   "execution_count": 515,
   "metadata": {},
   "outputs": [
    {
     "data": {
      "text/html": [
       "<div>\n",
       "<style scoped>\n",
       "    .dataframe tbody tr th:only-of-type {\n",
       "        vertical-align: middle;\n",
       "    }\n",
       "\n",
       "    .dataframe tbody tr th {\n",
       "        vertical-align: top;\n",
       "    }\n",
       "\n",
       "    .dataframe thead th {\n",
       "        text-align: right;\n",
       "    }\n",
       "</style>\n",
       "<table border=\"1\" class=\"dataframe\">\n",
       "  <thead>\n",
       "    <tr style=\"text-align: right;\">\n",
       "      <th></th>\n",
       "      <th>id</th>\n",
       "      <th>title</th>\n",
       "      <th>abstract</th>\n",
       "      <th>publication_date</th>\n",
       "      <th>submission_date</th>\n",
       "      <th>online_date</th>\n",
       "      <th>revision_date</th>\n",
       "      <th>accepted_date</th>\n",
       "      <th>cover_url</th>\n",
       "      <th>full_url</th>\n",
       "      <th>accession_number</th>\n",
       "      <th>document_type</th>\n",
       "      <th>doi</th>\n",
       "      <th>manually_check</th>\n",
       "      <th>journal_id</th>\n",
       "      <th>title_length</th>\n",
       "      <th>abstract_length</th>\n",
       "    </tr>\n",
       "  </thead>\n",
       "  <tbody>\n",
       "    <tr>\n",
       "      <th>439</th>\n",
       "      <td>440</td>\n",
       "      <td>use.</td>\n",
       "      <td>The article presents the authors' opinion that...</td>\n",
       "      <td>None</td>\n",
       "      <td>None</td>\n",
       "      <td>None</td>\n",
       "      <td>None</td>\n",
       "      <td>None</td>\n",
       "      <td>None</td>\n",
       "      <td>None</td>\n",
       "      <td>83465872</td>\n",
       "      <td>Opinion</td>\n",
       "      <td>nan</td>\n",
       "      <td>None</td>\n",
       "      <td>30</td>\n",
       "      <td>4</td>\n",
       "      <td>376</td>\n",
       "    </tr>\n",
       "  </tbody>\n",
       "</table>\n",
       "</div>"
      ],
      "text/plain": [
       "      id title                                           abstract  \\\n",
       "439  440  use.  The article presents the authors' opinion that...   \n",
       "\n",
       "    publication_date submission_date online_date revision_date accepted_date  \\\n",
       "439             None            None        None          None          None   \n",
       "\n",
       "    cover_url full_url accession_number document_type  doi manually_check  \\\n",
       "439      None     None         83465872       Opinion  nan           None   \n",
       "\n",
       "     journal_id  title_length  abstract_length  \n",
       "439          30             4              376  "
      ]
     },
     "execution_count": 515,
     "metadata": {},
     "output_type": "execute_result"
    }
   ],
   "source": [
    "# use.: should be kept\n",
    "paper_length[paper_length['title'] == 'use.']"
   ]
  },
  {
   "cell_type": "code",
   "execution_count": 516,
   "metadata": {},
   "outputs": [],
   "source": [
    "title_remove.remove('use.')"
   ]
  },
  {
   "cell_type": "code",
   "execution_count": 517,
   "metadata": {},
   "outputs": [
    {
     "data": {
      "text/html": [
       "<div>\n",
       "<style scoped>\n",
       "    .dataframe tbody tr th:only-of-type {\n",
       "        vertical-align: middle;\n",
       "    }\n",
       "\n",
       "    .dataframe tbody tr th {\n",
       "        vertical-align: top;\n",
       "    }\n",
       "\n",
       "    .dataframe thead th {\n",
       "        text-align: right;\n",
       "    }\n",
       "</style>\n",
       "<table border=\"1\" class=\"dataframe\">\n",
       "  <thead>\n",
       "    <tr style=\"text-align: right;\">\n",
       "      <th></th>\n",
       "      <th>id</th>\n",
       "      <th>title</th>\n",
       "      <th>abstract</th>\n",
       "      <th>publication_date</th>\n",
       "      <th>submission_date</th>\n",
       "      <th>online_date</th>\n",
       "      <th>revision_date</th>\n",
       "      <th>accepted_date</th>\n",
       "      <th>cover_url</th>\n",
       "      <th>full_url</th>\n",
       "      <th>accession_number</th>\n",
       "      <th>document_type</th>\n",
       "      <th>doi</th>\n",
       "      <th>manually_check</th>\n",
       "      <th>journal_id</th>\n",
       "      <th>title_length</th>\n",
       "      <th>abstract_length</th>\n",
       "    </tr>\n",
       "  </thead>\n",
       "  <tbody>\n",
       "    <tr>\n",
       "      <th>295</th>\n",
       "      <td>296</td>\n",
       "      <td>errata note.</td>\n",
       "      <td>A correction is offered for a figure illustrat...</td>\n",
       "      <td>None</td>\n",
       "      <td>None</td>\n",
       "      <td>None</td>\n",
       "      <td>None</td>\n",
       "      <td>None</td>\n",
       "      <td>None</td>\n",
       "      <td>None</td>\n",
       "      <td>102375762</td>\n",
       "      <td>Correction Notice</td>\n",
       "      <td>nan</td>\n",
       "      <td>None</td>\n",
       "      <td>20</td>\n",
       "      <td>12</td>\n",
       "      <td>260</td>\n",
       "    </tr>\n",
       "  </tbody>\n",
       "</table>\n",
       "</div>"
      ],
      "text/plain": [
       "      id         title                                           abstract  \\\n",
       "295  296  errata note.  A correction is offered for a figure illustrat...   \n",
       "\n",
       "    publication_date submission_date online_date revision_date accepted_date  \\\n",
       "295             None            None        None          None          None   \n",
       "\n",
       "    cover_url full_url accession_number      document_type  doi  \\\n",
       "295      None     None        102375762  Correction Notice  nan   \n",
       "\n",
       "    manually_check  journal_id  title_length  abstract_length  \n",
       "295           None          20            12              260  "
      ]
     },
     "execution_count": 517,
     "metadata": {},
     "output_type": "execute_result"
    }
   ],
   "source": [
    "# errata note.: should be dropped\n",
    "paper_length[paper_length['title'] == 'errata note.']"
   ]
  },
  {
   "cell_type": "code",
   "execution_count": 518,
   "metadata": {},
   "outputs": [
    {
     "data": {
      "text/html": [
       "<div>\n",
       "<style scoped>\n",
       "    .dataframe tbody tr th:only-of-type {\n",
       "        vertical-align: middle;\n",
       "    }\n",
       "\n",
       "    .dataframe tbody tr th {\n",
       "        vertical-align: top;\n",
       "    }\n",
       "\n",
       "    .dataframe thead th {\n",
       "        text-align: right;\n",
       "    }\n",
       "</style>\n",
       "<table border=\"1\" class=\"dataframe\">\n",
       "  <thead>\n",
       "    <tr style=\"text-align: right;\">\n",
       "      <th></th>\n",
       "      <th>id</th>\n",
       "      <th>title</th>\n",
       "      <th>abstract</th>\n",
       "      <th>publication_date</th>\n",
       "      <th>submission_date</th>\n",
       "      <th>online_date</th>\n",
       "      <th>revision_date</th>\n",
       "      <th>accepted_date</th>\n",
       "      <th>cover_url</th>\n",
       "      <th>full_url</th>\n",
       "      <th>accession_number</th>\n",
       "      <th>document_type</th>\n",
       "      <th>doi</th>\n",
       "      <th>manually_check</th>\n",
       "      <th>journal_id</th>\n",
       "      <th>title_length</th>\n",
       "      <th>abstract_length</th>\n",
       "    </tr>\n",
       "  </thead>\n",
       "  <tbody>\n",
       "    <tr>\n",
       "      <th>2397</th>\n",
       "      <td>2398</td>\n",
       "      <td>generalizability of</td>\n",
       "      <td>Information systems researchers, like those in...</td>\n",
       "      <td>None</td>\n",
       "      <td>None</td>\n",
       "      <td>None</td>\n",
       "      <td>None</td>\n",
       "      <td>None</td>\n",
       "      <td>None</td>\n",
       "      <td>None</td>\n",
       "      <td>84380598</td>\n",
       "      <td>Opinion</td>\n",
       "      <td>10.1287/isre.1120.0423</td>\n",
       "      <td>None</td>\n",
       "      <td>203</td>\n",
       "      <td>19</td>\n",
       "      <td>1759</td>\n",
       "    </tr>\n",
       "  </tbody>\n",
       "</table>\n",
       "</div>"
      ],
      "text/plain": [
       "        id                title  \\\n",
       "2397  2398  generalizability of   \n",
       "\n",
       "                                               abstract publication_date  \\\n",
       "2397  Information systems researchers, like those in...             None   \n",
       "\n",
       "     submission_date online_date revision_date accepted_date cover_url  \\\n",
       "2397            None        None          None          None      None   \n",
       "\n",
       "     full_url accession_number document_type                     doi  \\\n",
       "2397     None         84380598       Opinion  10.1287/isre.1120.0423   \n",
       "\n",
       "     manually_check  journal_id  title_length  abstract_length  \n",
       "2397           None         203            19             1759  "
      ]
     },
     "execution_count": 518,
     "metadata": {},
     "output_type": "execute_result"
    }
   ],
   "source": [
    "# 'generalizability of': should be kept\n",
    "paper_length[paper_length['title'] == 'generalizability of']"
   ]
  },
  {
   "cell_type": "code",
   "execution_count": 519,
   "metadata": {},
   "outputs": [],
   "source": [
    "title_remove.remove('generalizability of')"
   ]
  },
  {
   "cell_type": "code",
   "execution_count": 520,
   "metadata": {},
   "outputs": [
    {
     "data": {
      "text/html": [
       "<div>\n",
       "<style scoped>\n",
       "    .dataframe tbody tr th:only-of-type {\n",
       "        vertical-align: middle;\n",
       "    }\n",
       "\n",
       "    .dataframe tbody tr th {\n",
       "        vertical-align: top;\n",
       "    }\n",
       "\n",
       "    .dataframe thead th {\n",
       "        text-align: right;\n",
       "    }\n",
       "</style>\n",
       "<table border=\"1\" class=\"dataframe\">\n",
       "  <thead>\n",
       "    <tr style=\"text-align: right;\">\n",
       "      <th></th>\n",
       "      <th>id</th>\n",
       "      <th>title</th>\n",
       "      <th>abstract</th>\n",
       "      <th>publication_date</th>\n",
       "      <th>submission_date</th>\n",
       "      <th>online_date</th>\n",
       "      <th>revision_date</th>\n",
       "      <th>accepted_date</th>\n",
       "      <th>cover_url</th>\n",
       "      <th>full_url</th>\n",
       "      <th>accession_number</th>\n",
       "      <th>document_type</th>\n",
       "      <th>doi</th>\n",
       "      <th>manually_check</th>\n",
       "      <th>journal_id</th>\n",
       "      <th>title_length</th>\n",
       "      <th>abstract_length</th>\n",
       "    </tr>\n",
       "  </thead>\n",
       "  <tbody>\n",
       "    <tr>\n",
       "      <th>1717</th>\n",
       "      <td>1718</td>\n",
       "      <td>ceos and their pcs.</td>\n",
       "      <td>This article presents the editor's views on th...</td>\n",
       "      <td>None</td>\n",
       "      <td>None</td>\n",
       "      <td>None</td>\n",
       "      <td>None</td>\n",
       "      <td>None</td>\n",
       "      <td>None</td>\n",
       "      <td>None</td>\n",
       "      <td>28032750</td>\n",
       "      <td>Article</td>\n",
       "      <td>nan</td>\n",
       "      <td>None</td>\n",
       "      <td>140</td>\n",
       "      <td>19</td>\n",
       "      <td>385</td>\n",
       "    </tr>\n",
       "  </tbody>\n",
       "</table>\n",
       "</div>"
      ],
      "text/plain": [
       "        id                title  \\\n",
       "1717  1718  ceos and their pcs.   \n",
       "\n",
       "                                               abstract publication_date  \\\n",
       "1717  This article presents the editor's views on th...             None   \n",
       "\n",
       "     submission_date online_date revision_date accepted_date cover_url  \\\n",
       "1717            None        None          None          None      None   \n",
       "\n",
       "     full_url accession_number document_type  doi manually_check  journal_id  \\\n",
       "1717     None         28032750       Article  nan           None         140   \n",
       "\n",
       "      title_length  abstract_length  \n",
       "1717            19              385  "
      ]
     },
     "execution_count": 520,
     "metadata": {},
     "output_type": "execute_result"
    }
   ],
   "source": [
    "# 'ceos and their pcs.'\n",
    "# this is the editor's views, so I remove it\n",
    "paper_length[paper_length['title'] == 'ceos and their pcs.']"
   ]
  },
  {
   "cell_type": "code",
   "execution_count": 521,
   "metadata": {},
   "outputs": [
    {
     "data": {
      "text/html": [
       "<div>\n",
       "<style scoped>\n",
       "    .dataframe tbody tr th:only-of-type {\n",
       "        vertical-align: middle;\n",
       "    }\n",
       "\n",
       "    .dataframe tbody tr th {\n",
       "        vertical-align: top;\n",
       "    }\n",
       "\n",
       "    .dataframe thead th {\n",
       "        text-align: right;\n",
       "    }\n",
       "</style>\n",
       "<table border=\"1\" class=\"dataframe\">\n",
       "  <thead>\n",
       "    <tr style=\"text-align: right;\">\n",
       "      <th></th>\n",
       "      <th>id</th>\n",
       "      <th>title</th>\n",
       "      <th>abstract</th>\n",
       "      <th>publication_date</th>\n",
       "      <th>submission_date</th>\n",
       "      <th>online_date</th>\n",
       "      <th>revision_date</th>\n",
       "      <th>accepted_date</th>\n",
       "      <th>cover_url</th>\n",
       "      <th>full_url</th>\n",
       "      <th>accession_number</th>\n",
       "      <th>document_type</th>\n",
       "      <th>doi</th>\n",
       "      <th>manually_check</th>\n",
       "      <th>journal_id</th>\n",
       "      <th>title_length</th>\n",
       "      <th>abstract_length</th>\n",
       "    </tr>\n",
       "  </thead>\n",
       "  <tbody>\n",
       "    <tr>\n",
       "      <th>816</th>\n",
       "      <td>817</td>\n",
       "      <td>reach and grasp.</td>\n",
       "      <td>The short history of Information Systems sugge...</td>\n",
       "      <td>None</td>\n",
       "      <td>None</td>\n",
       "      <td>None</td>\n",
       "      <td>None</td>\n",
       "      <td>None</td>\n",
       "      <td>None</td>\n",
       "      <td>None</td>\n",
       "      <td>15493925</td>\n",
       "      <td>Article</td>\n",
       "      <td>10.2307/25148654</td>\n",
       "      <td>None</td>\n",
       "      <td>63</td>\n",
       "      <td>16</td>\n",
       "      <td>963</td>\n",
       "    </tr>\n",
       "  </tbody>\n",
       "</table>\n",
       "</div>"
      ],
      "text/plain": [
       "      id             title                                           abstract  \\\n",
       "816  817  reach and grasp.  The short history of Information Systems sugge...   \n",
       "\n",
       "    publication_date submission_date online_date revision_date accepted_date  \\\n",
       "816             None            None        None          None          None   \n",
       "\n",
       "    cover_url full_url accession_number document_type               doi  \\\n",
       "816      None     None         15493925       Article  10.2307/25148654   \n",
       "\n",
       "    manually_check  journal_id  title_length  abstract_length  \n",
       "816           None          63            16              963  "
      ]
     },
     "execution_count": 521,
     "metadata": {},
     "output_type": "execute_result"
    }
   ],
   "source": [
    "# 'reach and grasp.',: should be kept\n",
    "paper_length[paper_length['title'] == 'reach and grasp.']"
   ]
  },
  {
   "cell_type": "code",
   "execution_count": 522,
   "metadata": {},
   "outputs": [],
   "source": [
    "title_remove.remove('reach and grasp.')"
   ]
  },
  {
   "cell_type": "code",
   "execution_count": 523,
   "metadata": {},
   "outputs": [
    {
     "data": {
      "text/html": [
       "<div>\n",
       "<style scoped>\n",
       "    .dataframe tbody tr th:only-of-type {\n",
       "        vertical-align: middle;\n",
       "    }\n",
       "\n",
       "    .dataframe tbody tr th {\n",
       "        vertical-align: top;\n",
       "    }\n",
       "\n",
       "    .dataframe thead th {\n",
       "        text-align: right;\n",
       "    }\n",
       "</style>\n",
       "<table border=\"1\" class=\"dataframe\">\n",
       "  <thead>\n",
       "    <tr style=\"text-align: right;\">\n",
       "      <th></th>\n",
       "      <th>id</th>\n",
       "      <th>title</th>\n",
       "      <th>abstract</th>\n",
       "      <th>publication_date</th>\n",
       "      <th>submission_date</th>\n",
       "      <th>online_date</th>\n",
       "      <th>revision_date</th>\n",
       "      <th>accepted_date</th>\n",
       "      <th>cover_url</th>\n",
       "      <th>full_url</th>\n",
       "      <th>accession_number</th>\n",
       "      <th>document_type</th>\n",
       "      <th>doi</th>\n",
       "      <th>manually_check</th>\n",
       "      <th>journal_id</th>\n",
       "      <th>title_length</th>\n",
       "      <th>abstract_length</th>\n",
       "    </tr>\n",
       "  </thead>\n",
       "  <tbody>\n",
       "    <tr>\n",
       "      <th>881</th>\n",
       "      <td>882</td>\n",
       "      <td>the alliance.</td>\n",
       "      <td>The article presents an introduction to the Se...</td>\n",
       "      <td>None</td>\n",
       "      <td>None</td>\n",
       "      <td>None</td>\n",
       "      <td>None</td>\n",
       "      <td>None</td>\n",
       "      <td>None</td>\n",
       "      <td>None</td>\n",
       "      <td>18157278</td>\n",
       "      <td>Article</td>\n",
       "      <td>nan</td>\n",
       "      <td>None</td>\n",
       "      <td>72</td>\n",
       "      <td>13</td>\n",
       "      <td>69</td>\n",
       "    </tr>\n",
       "  </tbody>\n",
       "</table>\n",
       "</div>"
      ],
      "text/plain": [
       "      id          title                                           abstract  \\\n",
       "881  882  the alliance.  The article presents an introduction to the Se...   \n",
       "\n",
       "    publication_date submission_date online_date revision_date accepted_date  \\\n",
       "881             None            None        None          None          None   \n",
       "\n",
       "    cover_url full_url accession_number document_type  doi manually_check  \\\n",
       "881      None     None         18157278       Article  nan           None   \n",
       "\n",
       "     journal_id  title_length  abstract_length  \n",
       "881          72            13               69  "
      ]
     },
     "execution_count": 523,
     "metadata": {},
     "output_type": "execute_result"
    }
   ],
   "source": [
    "# 'the alliance.': should be kept\n",
    "paper_length[paper_length['title'] == 'the alliance.']"
   ]
  },
  {
   "cell_type": "code",
   "execution_count": 524,
   "metadata": {},
   "outputs": [],
   "source": [
    "title_remove.remove('the alliance.')"
   ]
  },
  {
   "cell_type": "code",
   "execution_count": 525,
   "metadata": {},
   "outputs": [
    {
     "data": {
      "text/html": [
       "<div>\n",
       "<style scoped>\n",
       "    .dataframe tbody tr th:only-of-type {\n",
       "        vertical-align: middle;\n",
       "    }\n",
       "\n",
       "    .dataframe tbody tr th {\n",
       "        vertical-align: top;\n",
       "    }\n",
       "\n",
       "    .dataframe thead th {\n",
       "        text-align: right;\n",
       "    }\n",
       "</style>\n",
       "<table border=\"1\" class=\"dataframe\">\n",
       "  <thead>\n",
       "    <tr style=\"text-align: right;\">\n",
       "      <th></th>\n",
       "      <th>id</th>\n",
       "      <th>title</th>\n",
       "      <th>abstract</th>\n",
       "      <th>publication_date</th>\n",
       "      <th>submission_date</th>\n",
       "      <th>online_date</th>\n",
       "      <th>revision_date</th>\n",
       "      <th>accepted_date</th>\n",
       "      <th>cover_url</th>\n",
       "      <th>full_url</th>\n",
       "      <th>accession_number</th>\n",
       "      <th>document_type</th>\n",
       "      <th>doi</th>\n",
       "      <th>manually_check</th>\n",
       "      <th>journal_id</th>\n",
       "      <th>title_length</th>\n",
       "      <th>abstract_length</th>\n",
       "    </tr>\n",
       "  </thead>\n",
       "  <tbody>\n",
       "    <tr>\n",
       "      <th>2285</th>\n",
       "      <td>2286</td>\n",
       "      <td>editors' preface.</td>\n",
       "      <td>A preface to the periodical \"</td>\n",
       "      <td>None</td>\n",
       "      <td>None</td>\n",
       "      <td>None</td>\n",
       "      <td>None</td>\n",
       "      <td>None</td>\n",
       "      <td>None</td>\n",
       "      <td>None</td>\n",
       "      <td>103101330</td>\n",
       "      <td>Article</td>\n",
       "      <td>10.1287/isre.2014.0561</td>\n",
       "      <td>None</td>\n",
       "      <td>195</td>\n",
       "      <td>17</td>\n",
       "      <td>29</td>\n",
       "    </tr>\n",
       "  </tbody>\n",
       "</table>\n",
       "</div>"
      ],
      "text/plain": [
       "        id              title                       abstract publication_date  \\\n",
       "2285  2286  editors' preface.  A preface to the periodical \"             None   \n",
       "\n",
       "     submission_date online_date revision_date accepted_date cover_url  \\\n",
       "2285            None        None          None          None      None   \n",
       "\n",
       "     full_url accession_number document_type                     doi  \\\n",
       "2285     None        103101330       Article  10.1287/isre.2014.0561   \n",
       "\n",
       "     manually_check  journal_id  title_length  abstract_length  \n",
       "2285           None         195            17               29  "
      ]
     },
     "execution_count": 525,
     "metadata": {},
     "output_type": "execute_result"
    }
   ],
   "source": [
    "# \"editors' preface.\": should be removed\n",
    "paper_length[paper_length['title'] == \"editors' preface.\"]"
   ]
  },
  {
   "cell_type": "code",
   "execution_count": 526,
   "metadata": {},
   "outputs": [
    {
     "data": {
      "text/html": [
       "<div>\n",
       "<style scoped>\n",
       "    .dataframe tbody tr th:only-of-type {\n",
       "        vertical-align: middle;\n",
       "    }\n",
       "\n",
       "    .dataframe tbody tr th {\n",
       "        vertical-align: top;\n",
       "    }\n",
       "\n",
       "    .dataframe thead th {\n",
       "        text-align: right;\n",
       "    }\n",
       "</style>\n",
       "<table border=\"1\" class=\"dataframe\">\n",
       "  <thead>\n",
       "    <tr style=\"text-align: right;\">\n",
       "      <th></th>\n",
       "      <th>id</th>\n",
       "      <th>title</th>\n",
       "      <th>abstract</th>\n",
       "      <th>publication_date</th>\n",
       "      <th>submission_date</th>\n",
       "      <th>online_date</th>\n",
       "      <th>revision_date</th>\n",
       "      <th>accepted_date</th>\n",
       "      <th>cover_url</th>\n",
       "      <th>full_url</th>\n",
       "      <th>accession_number</th>\n",
       "      <th>document_type</th>\n",
       "      <th>doi</th>\n",
       "      <th>manually_check</th>\n",
       "      <th>journal_id</th>\n",
       "      <th>title_length</th>\n",
       "      <th>abstract_length</th>\n",
       "    </tr>\n",
       "  </thead>\n",
       "  <tbody>\n",
       "    <tr>\n",
       "      <th>2868</th>\n",
       "      <td>2869</td>\n",
       "      <td>colonial systems.</td>\n",
       "      <td>Colonial systems are presented as an alternati...</td>\n",
       "      <td>None</td>\n",
       "      <td>None</td>\n",
       "      <td>None</td>\n",
       "      <td>None</td>\n",
       "      <td>None</td>\n",
       "      <td>None</td>\n",
       "      <td>None</td>\n",
       "      <td>1939603</td>\n",
       "      <td>Article</td>\n",
       "      <td>10.1287/isre.10.1.38</td>\n",
       "      <td>None</td>\n",
       "      <td>258</td>\n",
       "      <td>17</td>\n",
       "      <td>1215</td>\n",
       "    </tr>\n",
       "  </tbody>\n",
       "</table>\n",
       "</div>"
      ],
      "text/plain": [
       "        id              title  \\\n",
       "2868  2869  colonial systems.   \n",
       "\n",
       "                                               abstract publication_date  \\\n",
       "2868  Colonial systems are presented as an alternati...             None   \n",
       "\n",
       "     submission_date online_date revision_date accepted_date cover_url  \\\n",
       "2868            None        None          None          None      None   \n",
       "\n",
       "     full_url accession_number document_type                   doi  \\\n",
       "2868     None          1939603       Article  10.1287/isre.10.1.38   \n",
       "\n",
       "     manually_check  journal_id  title_length  abstract_length  \n",
       "2868           None         258            17             1215  "
      ]
     },
     "execution_count": 526,
     "metadata": {},
     "output_type": "execute_result"
    }
   ],
   "source": [
    "# 'colonial systems.': should be kept\n",
    "paper_length[paper_length['title'] == \"colonial systems.\"]"
   ]
  },
  {
   "cell_type": "code",
   "execution_count": 527,
   "metadata": {},
   "outputs": [],
   "source": [
    "title_remove.remove('colonial systems.')"
   ]
  },
  {
   "cell_type": "code",
   "execution_count": 528,
   "metadata": {},
   "outputs": [],
   "source": [
    "# remove the paper whose title is in 'title_remove'\n",
    "paper_length = paper_length[~paper_length['title'].isin(title_remove)].reset_index()"
   ]
  },
  {
   "cell_type": "code",
   "execution_count": 529,
   "metadata": {},
   "outputs": [
    {
     "data": {
      "text/html": [
       "<div>\n",
       "<style scoped>\n",
       "    .dataframe tbody tr th:only-of-type {\n",
       "        vertical-align: middle;\n",
       "    }\n",
       "\n",
       "    .dataframe tbody tr th {\n",
       "        vertical-align: top;\n",
       "    }\n",
       "\n",
       "    .dataframe thead th {\n",
       "        text-align: right;\n",
       "    }\n",
       "</style>\n",
       "<table border=\"1\" class=\"dataframe\">\n",
       "  <thead>\n",
       "    <tr style=\"text-align: right;\">\n",
       "      <th></th>\n",
       "      <th>id</th>\n",
       "      <th>title</th>\n",
       "      <th>abstract</th>\n",
       "      <th>publication_date</th>\n",
       "      <th>submission_date</th>\n",
       "      <th>online_date</th>\n",
       "      <th>revision_date</th>\n",
       "      <th>accepted_date</th>\n",
       "      <th>cover_url</th>\n",
       "      <th>full_url</th>\n",
       "      <th>accession_number</th>\n",
       "      <th>document_type</th>\n",
       "      <th>doi</th>\n",
       "      <th>manually_check</th>\n",
       "      <th>journal_id</th>\n",
       "      <th>title_length</th>\n",
       "      <th>abstract_length</th>\n",
       "    </tr>\n",
       "  </thead>\n",
       "  <tbody>\n",
       "    <tr>\n",
       "      <th>0</th>\n",
       "      <td>1</td>\n",
       "      <td>complexity and information systems research in...</td>\n",
       "      <td>Complexity is all around us in this increasing...</td>\n",
       "      <td>None</td>\n",
       "      <td>None</td>\n",
       "      <td>None</td>\n",
       "      <td>None</td>\n",
       "      <td>None</td>\n",
       "      <td>None</td>\n",
       "      <td>None</td>\n",
       "      <td>141995164</td>\n",
       "      <td>Article</td>\n",
       "      <td>10.25300/MISQ/2020/13304</td>\n",
       "      <td>None</td>\n",
       "      <td>1</td>\n",
       "      <td>74</td>\n",
       "      <td>1506</td>\n",
       "    </tr>\n",
       "    <tr>\n",
       "      <th>1</th>\n",
       "      <td>2</td>\n",
       "      <td>the dynamics of drift in digitized processes.</td>\n",
       "      <td>This paper uses a simulation to build new theo...</td>\n",
       "      <td>None</td>\n",
       "      <td>None</td>\n",
       "      <td>None</td>\n",
       "      <td>None</td>\n",
       "      <td>None</td>\n",
       "      <td>None</td>\n",
       "      <td>None</td>\n",
       "      <td>141995165</td>\n",
       "      <td>Article</td>\n",
       "      <td>10.25300/MISQ/2020/14458</td>\n",
       "      <td>None</td>\n",
       "      <td>1</td>\n",
       "      <td>45</td>\n",
       "      <td>1030</td>\n",
       "    </tr>\n",
       "    <tr>\n",
       "      <th>2</th>\n",
       "      <td>3</td>\n",
       "      <td>taming complexity in search matching: two-side...</td>\n",
       "      <td>We study digital multisided platforms as compl...</td>\n",
       "      <td>None</td>\n",
       "      <td>None</td>\n",
       "      <td>None</td>\n",
       "      <td>None</td>\n",
       "      <td>None</td>\n",
       "      <td>None</td>\n",
       "      <td>None</td>\n",
       "      <td>141995166</td>\n",
       "      <td>Article</td>\n",
       "      <td>10.25300/MISQ/2020/14424</td>\n",
       "      <td>None</td>\n",
       "      <td>1</td>\n",
       "      <td>89</td>\n",
       "      <td>1102</td>\n",
       "    </tr>\n",
       "    <tr>\n",
       "      <th>3</th>\n",
       "      <td>4</td>\n",
       "      <td>organized complexity of digital business strat...</td>\n",
       "      <td>How should firms configure organizational capa...</td>\n",
       "      <td>None</td>\n",
       "      <td>None</td>\n",
       "      <td>None</td>\n",
       "      <td>None</td>\n",
       "      <td>None</td>\n",
       "      <td>None</td>\n",
       "      <td>None</td>\n",
       "      <td>141995167</td>\n",
       "      <td>Article</td>\n",
       "      <td>10.25300/MISQ/2020/14477</td>\n",
       "      <td>None</td>\n",
       "      <td>1</td>\n",
       "      <td>81</td>\n",
       "      <td>2004</td>\n",
       "    </tr>\n",
       "    <tr>\n",
       "      <th>4</th>\n",
       "      <td>5</td>\n",
       "      <td>digitization and phase transitions in platform...</td>\n",
       "      <td>This paper draws on complex adaptive systems (...</td>\n",
       "      <td>None</td>\n",
       "      <td>None</td>\n",
       "      <td>None</td>\n",
       "      <td>None</td>\n",
       "      <td>None</td>\n",
       "      <td>None</td>\n",
       "      <td>None</td>\n",
       "      <td>141995168</td>\n",
       "      <td>Article</td>\n",
       "      <td>10.25300/MISQ/2020/14520</td>\n",
       "      <td>None</td>\n",
       "      <td>1</td>\n",
       "      <td>112</td>\n",
       "      <td>1235</td>\n",
       "    </tr>\n",
       "  </tbody>\n",
       "</table>\n",
       "</div>"
      ],
      "text/plain": [
       "   id                                              title  \\\n",
       "0   1  complexity and information systems research in...   \n",
       "1   2      the dynamics of drift in digitized processes.   \n",
       "2   3  taming complexity in search matching: two-side...   \n",
       "3   4  organized complexity of digital business strat...   \n",
       "4   5  digitization and phase transitions in platform...   \n",
       "\n",
       "                                            abstract publication_date  \\\n",
       "0  Complexity is all around us in this increasing...             None   \n",
       "1  This paper uses a simulation to build new theo...             None   \n",
       "2  We study digital multisided platforms as compl...             None   \n",
       "3  How should firms configure organizational capa...             None   \n",
       "4  This paper draws on complex adaptive systems (...             None   \n",
       "\n",
       "  submission_date online_date revision_date accepted_date cover_url full_url  \\\n",
       "0            None        None          None          None      None     None   \n",
       "1            None        None          None          None      None     None   \n",
       "2            None        None          None          None      None     None   \n",
       "3            None        None          None          None      None     None   \n",
       "4            None        None          None          None      None     None   \n",
       "\n",
       "  accession_number document_type                       doi manually_check  \\\n",
       "0        141995164       Article  10.25300/MISQ/2020/13304           None   \n",
       "1        141995165       Article  10.25300/MISQ/2020/14458           None   \n",
       "2        141995166       Article  10.25300/MISQ/2020/14424           None   \n",
       "3        141995167       Article  10.25300/MISQ/2020/14477           None   \n",
       "4        141995168       Article  10.25300/MISQ/2020/14520           None   \n",
       "\n",
       "   journal_id  title_length  abstract_length  \n",
       "0           1            74             1506  \n",
       "1           1            45             1030  \n",
       "2           1            89             1102  \n",
       "3           1            81             2004  \n",
       "4           1           112             1235  "
      ]
     },
     "execution_count": 529,
     "metadata": {},
     "output_type": "execute_result"
    }
   ],
   "source": [
    "paper_length.drop(['index'], axis=1, inplace=True)\n",
    "paper_length.head()"
   ]
  },
  {
   "cell_type": "code",
   "execution_count": 530,
   "metadata": {},
   "outputs": [
    {
     "data": {
      "text/plain": [
       "count    4165.000000\n",
       "mean       82.143818\n",
       "std        28.951236\n",
       "min         4.000000\n",
       "25%        62.000000\n",
       "50%        82.000000\n",
       "75%       101.000000\n",
       "max       238.000000\n",
       "Name: title_length, dtype: float64"
      ]
     },
     "execution_count": 530,
     "metadata": {},
     "output_type": "execute_result"
    }
   ],
   "source": [
    "# measure the title length again\n",
    "paper_length['title_length'].describe()"
   ]
  },
  {
   "cell_type": "code",
   "execution_count": 531,
   "metadata": {},
   "outputs": [
    {
     "data": {
      "text/plain": [
       "<matplotlib.axes._subplots.AxesSubplot at 0x7f892abcc190>"
      ]
     },
     "execution_count": 531,
     "metadata": {},
     "output_type": "execute_result"
    },
    {
     "data": {
      "image/png": "[encoded data removed]",
      "text/plain": [
       "<Figure size 432x288 with 1 Axes>"
      ]
     },
     "metadata": {
      "needs_background": "light"
     },
     "output_type": "display_data"
    }
   ],
   "source": [
    "# hist for 'title_length'\n",
    "paper_length['title_length'].hist()"
   ]
  },
  {
   "cell_type": "code",
   "execution_count": 532,
   "metadata": {},
   "outputs": [
    {
     "data": {
      "text/plain": [
       "<matplotlib.axes._subplots.AxesSubplot at 0x7f892aae6790>"
      ]
     },
     "execution_count": 532,
     "metadata": {},
     "output_type": "execute_result"
    },
    {
     "data": {
      "image/png": "[encoded data removed]",
      "text/plain": [
       "<Figure size 432x288 with 1 Axes>"
      ]
     },
     "metadata": {
      "needs_background": "light"
     },
     "output_type": "display_data"
    }
   ],
   "source": [
    "# box plot for title length\n",
    "paper_length['title_length'].plot.box()"
   ]
  },
  {
   "cell_type": "code",
   "execution_count": 533,
   "metadata": {},
   "outputs": [
    {
     "data": {
      "text/plain": [
       "count    4165.000000\n",
       "mean     1124.406723\n",
       "std       583.813519\n",
       "min         3.000000\n",
       "25%       752.000000\n",
       "50%      1142.000000\n",
       "75%      1486.000000\n",
       "max      3915.000000\n",
       "Name: abstract_length, dtype: float64"
      ]
     },
     "execution_count": 533,
     "metadata": {},
     "output_type": "execute_result"
    }
   ],
   "source": [
    "# length of the abstract\n",
    "paper_length['abstract_length'].describe()"
   ]
  },
  {
   "cell_type": "code",
   "execution_count": 534,
   "metadata": {},
   "outputs": [
    {
     "data": {
      "text/html": [
       "<div>\n",
       "<style scoped>\n",
       "    .dataframe tbody tr th:only-of-type {\n",
       "        vertical-align: middle;\n",
       "    }\n",
       "\n",
       "    .dataframe tbody tr th {\n",
       "        vertical-align: top;\n",
       "    }\n",
       "\n",
       "    .dataframe thead th {\n",
       "        text-align: right;\n",
       "    }\n",
       "</style>\n",
       "<table border=\"1\" class=\"dataframe\">\n",
       "  <thead>\n",
       "    <tr style=\"text-align: right;\">\n",
       "      <th></th>\n",
       "      <th>id</th>\n",
       "      <th>title</th>\n",
       "      <th>abstract</th>\n",
       "      <th>publication_date</th>\n",
       "      <th>submission_date</th>\n",
       "      <th>online_date</th>\n",
       "      <th>revision_date</th>\n",
       "      <th>accepted_date</th>\n",
       "      <th>cover_url</th>\n",
       "      <th>full_url</th>\n",
       "      <th>accession_number</th>\n",
       "      <th>document_type</th>\n",
       "      <th>doi</th>\n",
       "      <th>manually_check</th>\n",
       "      <th>journal_id</th>\n",
       "      <th>title_length</th>\n",
       "      <th>abstract_length</th>\n",
       "    </tr>\n",
       "  </thead>\n",
       "  <tbody>\n",
       "    <tr>\n",
       "      <th>77</th>\n",
       "      <td>79</td>\n",
       "      <td>next-generation digital platforms: toward huma...</td>\n",
       "      <td>nan</td>\n",
       "      <td>None</td>\n",
       "      <td>None</td>\n",
       "      <td>None</td>\n",
       "      <td>None</td>\n",
       "      <td>None</td>\n",
       "      <td>None</td>\n",
       "      <td>None</td>\n",
       "      <td>134555820</td>\n",
       "      <td>Letter to the Editor</td>\n",
       "      <td>nan</td>\n",
       "      <td>None</td>\n",
       "      <td>5</td>\n",
       "      <td>59</td>\n",
       "      <td>3</td>\n",
       "    </tr>\n",
       "    <tr>\n",
       "      <th>724</th>\n",
       "      <td>743</td>\n",
       "      <td>what does it take for a journal to be global?</td>\n",
       "      <td>nan</td>\n",
       "      <td>None</td>\n",
       "      <td>None</td>\n",
       "      <td>None</td>\n",
       "      <td>None</td>\n",
       "      <td>None</td>\n",
       "      <td>None</td>\n",
       "      <td>None</td>\n",
       "      <td>21940321</td>\n",
       "      <td>Editorial</td>\n",
       "      <td>nan</td>\n",
       "      <td>None</td>\n",
       "      <td>55</td>\n",
       "      <td>45</td>\n",
       "      <td>3</td>\n",
       "    </tr>\n",
       "    <tr>\n",
       "      <th>856</th>\n",
       "      <td>883</td>\n",
       "      <td>special issue on redefining the oranizational ...</td>\n",
       "      <td>nan</td>\n",
       "      <td>None</td>\n",
       "      <td>None</td>\n",
       "      <td>None</td>\n",
       "      <td>None</td>\n",
       "      <td>None</td>\n",
       "      <td>None</td>\n",
       "      <td>None</td>\n",
       "      <td>27094673</td>\n",
       "      <td>Article</td>\n",
       "      <td>nan</td>\n",
       "      <td>None</td>\n",
       "      <td>72</td>\n",
       "      <td>101</td>\n",
       "      <td>3</td>\n",
       "    </tr>\n",
       "    <tr>\n",
       "      <th>857</th>\n",
       "      <td>884</td>\n",
       "      <td>executive overviews.</td>\n",
       "      <td>nan</td>\n",
       "      <td>None</td>\n",
       "      <td>None</td>\n",
       "      <td>None</td>\n",
       "      <td>None</td>\n",
       "      <td>None</td>\n",
       "      <td>None</td>\n",
       "      <td>None</td>\n",
       "      <td>28351730</td>\n",
       "      <td>Article</td>\n",
       "      <td>nan</td>\n",
       "      <td>None</td>\n",
       "      <td>72</td>\n",
       "      <td>20</td>\n",
       "      <td>3</td>\n",
       "    </tr>\n",
       "    <tr>\n",
       "      <th>879</th>\n",
       "      <td>907</td>\n",
       "      <td>research in information systems: what we haven...</td>\n",
       "      <td>nan</td>\n",
       "      <td>None</td>\n",
       "      <td>None</td>\n",
       "      <td>None</td>\n",
       "      <td>None</td>\n",
       "      <td>None</td>\n",
       "      <td>None</td>\n",
       "      <td>None</td>\n",
       "      <td>27156499</td>\n",
       "      <td>Article</td>\n",
       "      <td>nan</td>\n",
       "      <td>None</td>\n",
       "      <td>75</td>\n",
       "      <td>57</td>\n",
       "      <td>3</td>\n",
       "    </tr>\n",
       "  </tbody>\n",
       "</table>\n",
       "</div>"
      ],
      "text/plain": [
       "      id                                              title abstract  \\\n",
       "77    79  next-generation digital platforms: toward huma...      nan   \n",
       "724  743      what does it take for a journal to be global?      nan   \n",
       "856  883  special issue on redefining the oranizational ...      nan   \n",
       "857  884                               executive overviews.      nan   \n",
       "879  907  research in information systems: what we haven...      nan   \n",
       "\n",
       "    publication_date submission_date online_date revision_date accepted_date  \\\n",
       "77              None            None        None          None          None   \n",
       "724             None            None        None          None          None   \n",
       "856             None            None        None          None          None   \n",
       "857             None            None        None          None          None   \n",
       "879             None            None        None          None          None   \n",
       "\n",
       "    cover_url full_url accession_number         document_type  doi  \\\n",
       "77       None     None        134555820  Letter to the Editor  nan   \n",
       "724      None     None         21940321             Editorial  nan   \n",
       "856      None     None         27094673               Article  nan   \n",
       "857      None     None         28351730               Article  nan   \n",
       "879      None     None         27156499               Article  nan   \n",
       "\n",
       "    manually_check  journal_id  title_length  abstract_length  \n",
       "77            None           5            59                3  \n",
       "724           None          55            45                3  \n",
       "856           None          72           101                3  \n",
       "857           None          72            20                3  \n",
       "879           None          75            57                3  "
      ]
     },
     "execution_count": 534,
     "metadata": {},
     "output_type": "execute_result"
    }
   ],
   "source": [
    "# min abstract length = 3\n",
    "# it responds to 'nan'\n",
    "paper_length[paper_length['abstract_length']==3].head()"
   ]
  },
  {
   "cell_type": "code",
   "execution_count": 535,
   "metadata": {},
   "outputs": [],
   "source": [
    "# remove these rows\n",
    "paper_length = paper_length[paper_length['abstract_length']>3]"
   ]
  },
  {
   "cell_type": "code",
   "execution_count": 536,
   "metadata": {},
   "outputs": [
    {
     "data": {
      "text/plain": [
       "count    4040.000000\n",
       "mean     1159.103713\n",
       "std       557.909779\n",
       "min         5.000000\n",
       "25%       804.000000\n",
       "50%      1166.500000\n",
       "75%      1495.250000\n",
       "max      3915.000000\n",
       "Name: abstract_length, dtype: float64"
      ]
     },
     "execution_count": 536,
     "metadata": {},
     "output_type": "execute_result"
    }
   ],
   "source": [
    "# check the abstract length again\n",
    "paper_length['abstract_length'].describe()"
   ]
  },
  {
   "cell_type": "code",
   "execution_count": 537,
   "metadata": {},
   "outputs": [
    {
     "data": {
      "text/plain": [
       "<matplotlib.axes._subplots.AxesSubplot at 0x7f892afdab50>"
      ]
     },
     "execution_count": 537,
     "metadata": {},
     "output_type": "execute_result"
    },
    {
     "data": {
      "image/png": "[encoded data removed]",
      "text/plain": [
       "<Figure size 432x288 with 1 Axes>"
      ]
     },
     "metadata": {
      "needs_background": "light"
     },
     "output_type": "display_data"
    }
   ],
   "source": [
    "# hist for abstract length\n",
    "paper_length['abstract_length'].hist(bins=50)"
   ]
  },
  {
   "cell_type": "code",
   "execution_count": 538,
   "metadata": {},
   "outputs": [
    {
     "data": {
      "text/plain": [
       "<matplotlib.axes._subplots.AxesSubplot at 0x7f892b2f2150>"
      ]
     },
     "execution_count": 538,
     "metadata": {},
     "output_type": "execute_result"
    },
    {
     "data": {
      "image/png": "[encoded data removed]",
      "text/plain": [
       "<Figure size 432x288 with 1 Axes>"
      ]
     },
     "metadata": {
      "needs_background": "light"
     },
     "output_type": "display_data"
    }
   ],
   "source": [
    "# hist for abstract length\n",
    "paper_length['abstract_length'].plot.box()"
   ]
  },
  {
   "cell_type": "code",
   "execution_count": 539,
   "metadata": {},
   "outputs": [
    {
     "data": {
      "text/html": [
       "<div>\n",
       "<style scoped>\n",
       "    .dataframe tbody tr th:only-of-type {\n",
       "        vertical-align: middle;\n",
       "    }\n",
       "\n",
       "    .dataframe tbody tr th {\n",
       "        vertical-align: top;\n",
       "    }\n",
       "\n",
       "    .dataframe thead th {\n",
       "        text-align: right;\n",
       "    }\n",
       "</style>\n",
       "<table border=\"1\" class=\"dataframe\">\n",
       "  <thead>\n",
       "    <tr style=\"text-align: right;\">\n",
       "      <th></th>\n",
       "      <th>id</th>\n",
       "      <th>title</th>\n",
       "      <th>abstract</th>\n",
       "      <th>publication_date</th>\n",
       "      <th>submission_date</th>\n",
       "      <th>online_date</th>\n",
       "      <th>revision_date</th>\n",
       "      <th>accepted_date</th>\n",
       "      <th>cover_url</th>\n",
       "      <th>full_url</th>\n",
       "      <th>accession_number</th>\n",
       "      <th>document_type</th>\n",
       "      <th>doi</th>\n",
       "      <th>manually_check</th>\n",
       "      <th>journal_id</th>\n",
       "      <th>title_length</th>\n",
       "      <th>abstract_length</th>\n",
       "    </tr>\n",
       "  </thead>\n",
       "  <tbody>\n",
       "    <tr>\n",
       "      <th>2220</th>\n",
       "      <td>2528</td>\n",
       "      <td>digital natives and ubiquitous information sys...</td>\n",
       "      <td>Most</td>\n",
       "      <td>None</td>\n",
       "      <td>None</td>\n",
       "      <td>None</td>\n",
       "      <td>None</td>\n",
       "      <td>None</td>\n",
       "      <td>None</td>\n",
       "      <td>None</td>\n",
       "      <td>57155473</td>\n",
       "      <td>Article</td>\n",
       "      <td>10.1287/isre.1100.0324</td>\n",
       "      <td>None</td>\n",
       "      <td>211</td>\n",
       "      <td>51</td>\n",
       "      <td>5</td>\n",
       "    </tr>\n",
       "  </tbody>\n",
       "</table>\n",
       "</div>"
      ],
      "text/plain": [
       "        id                                              title abstract  \\\n",
       "2220  2528  digital natives and ubiquitous information sys...    Most    \n",
       "\n",
       "     publication_date submission_date online_date revision_date accepted_date  \\\n",
       "2220             None            None        None          None          None   \n",
       "\n",
       "     cover_url full_url accession_number document_type  \\\n",
       "2220      None     None         57155473       Article   \n",
       "\n",
       "                         doi manually_check  journal_id  title_length  \\\n",
       "2220  10.1287/isre.1100.0324           None         211            51   \n",
       "\n",
       "      abstract_length  \n",
       "2220                5  "
      ]
     },
     "execution_count": 539,
     "metadata": {},
     "output_type": "execute_result"
    }
   ],
   "source": [
    "# min abstract length = 5\n",
    "# it corresponds to length\n",
    "paper_length[paper_length['abstract_length']==5]"
   ]
  },
  {
   "cell_type": "code",
   "execution_count": 540,
   "metadata": {},
   "outputs": [
    {
     "data": {
      "text/html": [
       "<div>\n",
       "<style scoped>\n",
       "    .dataframe tbody tr th:only-of-type {\n",
       "        vertical-align: middle;\n",
       "    }\n",
       "\n",
       "    .dataframe tbody tr th {\n",
       "        vertical-align: top;\n",
       "    }\n",
       "\n",
       "    .dataframe thead th {\n",
       "        text-align: right;\n",
       "    }\n",
       "</style>\n",
       "<table border=\"1\" class=\"dataframe\">\n",
       "  <thead>\n",
       "    <tr style=\"text-align: right;\">\n",
       "      <th></th>\n",
       "      <th>id</th>\n",
       "      <th>title</th>\n",
       "      <th>abstract</th>\n",
       "      <th>publication_date</th>\n",
       "      <th>submission_date</th>\n",
       "      <th>online_date</th>\n",
       "      <th>revision_date</th>\n",
       "      <th>accepted_date</th>\n",
       "      <th>cover_url</th>\n",
       "      <th>full_url</th>\n",
       "      <th>accession_number</th>\n",
       "      <th>document_type</th>\n",
       "      <th>doi</th>\n",
       "      <th>manually_check</th>\n",
       "      <th>journal_id</th>\n",
       "      <th>title_length</th>\n",
       "      <th>abstract_length</th>\n",
       "    </tr>\n",
       "  </thead>\n",
       "  <tbody>\n",
       "    <tr>\n",
       "      <th>448</th>\n",
       "      <td>459</td>\n",
       "      <td>comparing pls to regression and lisrel: a resp...</td>\n",
       "      <td>In the Foreword to an</td>\n",
       "      <td>None</td>\n",
       "      <td>None</td>\n",
       "      <td>None</td>\n",
       "      <td>None</td>\n",
       "      <td>None</td>\n",
       "      <td>None</td>\n",
       "      <td>None</td>\n",
       "      <td>78167557</td>\n",
       "      <td>Article</td>\n",
       "      <td>10.2307/41703476</td>\n",
       "      <td>yes</td>\n",
       "      <td>31</td>\n",
       "      <td>86</td>\n",
       "      <td>22</td>\n",
       "    </tr>\n",
       "    <tr>\n",
       "      <th>463</th>\n",
       "      <td>475</td>\n",
       "      <td>assessing common method bias: problems with th...</td>\n",
       "      <td>Recent work, in journals such as</td>\n",
       "      <td>None</td>\n",
       "      <td>None</td>\n",
       "      <td>None</td>\n",
       "      <td>None</td>\n",
       "      <td>None</td>\n",
       "      <td>None</td>\n",
       "      <td>None</td>\n",
       "      <td>78164866</td>\n",
       "      <td>Article</td>\n",
       "      <td>10.2307/41703491</td>\n",
       "      <td>None</td>\n",
       "      <td>31</td>\n",
       "      <td>63</td>\n",
       "      <td>33</td>\n",
       "    </tr>\n",
       "    <tr>\n",
       "      <th>696</th>\n",
       "      <td>714</td>\n",
       "      <td>2006 best paper award.</td>\n",
       "      <td>This article presents the winners of the</td>\n",
       "      <td>None</td>\n",
       "      <td>None</td>\n",
       "      <td>None</td>\n",
       "      <td>None</td>\n",
       "      <td>None</td>\n",
       "      <td>None</td>\n",
       "      <td>None</td>\n",
       "      <td>25980852</td>\n",
       "      <td>Article</td>\n",
       "      <td>nan</td>\n",
       "      <td>None</td>\n",
       "      <td>51</td>\n",
       "      <td>22</td>\n",
       "      <td>41</td>\n",
       "    </tr>\n",
       "    <tr>\n",
       "      <th>1004</th>\n",
       "      <td>1032</td>\n",
       "      <td>rigor and relevance: careers on the line.</td>\n",
       "      <td>In this issue of</td>\n",
       "      <td>None</td>\n",
       "      <td>None</td>\n",
       "      <td>None</td>\n",
       "      <td>None</td>\n",
       "      <td>None</td>\n",
       "      <td>None</td>\n",
       "      <td>None</td>\n",
       "      <td>1852780</td>\n",
       "      <td>Article</td>\n",
       "      <td>10.2307/249404</td>\n",
       "      <td>None</td>\n",
       "      <td>86</td>\n",
       "      <td>41</td>\n",
       "      <td>17</td>\n",
       "    </tr>\n",
       "    <tr>\n",
       "      <th>1070</th>\n",
       "      <td>1102</td>\n",
       "      <td>measuring information systems service quality:...</td>\n",
       "      <td>A recent</td>\n",
       "      <td>None</td>\n",
       "      <td>None</td>\n",
       "      <td>None</td>\n",
       "      <td>None</td>\n",
       "      <td>None</td>\n",
       "      <td>None</td>\n",
       "      <td>None</td>\n",
       "      <td>9708156178</td>\n",
       "      <td>Article</td>\n",
       "      <td>10.2307/249419</td>\n",
       "      <td>yes</td>\n",
       "      <td>93</td>\n",
       "      <td>97</td>\n",
       "      <td>9</td>\n",
       "    </tr>\n",
       "  </tbody>\n",
       "</table>\n",
       "</div>"
      ],
      "text/plain": [
       "        id                                              title  \\\n",
       "448    459  comparing pls to regression and lisrel: a resp...   \n",
       "463    475  assessing common method bias: problems with th...   \n",
       "696    714                             2006 best paper award.   \n",
       "1004  1032          rigor and relevance: careers on the line.   \n",
       "1070  1102  measuring information systems service quality:...   \n",
       "\n",
       "                                       abstract publication_date  \\\n",
       "448                      In the Foreword to an              None   \n",
       "463           Recent work, in journals such as              None   \n",
       "696   This article presents the winners of the              None   \n",
       "1004                          In this issue of              None   \n",
       "1070                                  A recent              None   \n",
       "\n",
       "     submission_date online_date revision_date accepted_date cover_url  \\\n",
       "448             None        None          None          None      None   \n",
       "463             None        None          None          None      None   \n",
       "696             None        None          None          None      None   \n",
       "1004            None        None          None          None      None   \n",
       "1070            None        None          None          None      None   \n",
       "\n",
       "     full_url accession_number document_type               doi manually_check  \\\n",
       "448      None         78167557       Article  10.2307/41703476            yes   \n",
       "463      None         78164866       Article  10.2307/41703491           None   \n",
       "696      None         25980852       Article               nan           None   \n",
       "1004     None          1852780       Article    10.2307/249404           None   \n",
       "1070     None       9708156178       Article    10.2307/249419            yes   \n",
       "\n",
       "      journal_id  title_length  abstract_length  \n",
       "448           31            86               22  \n",
       "463           31            63               33  \n",
       "696           51            22               41  \n",
       "1004          86            41               17  \n",
       "1070          93            97                9  "
      ]
     },
     "execution_count": 540,
     "metadata": {},
     "output_type": "execute_result"
    }
   ],
   "source": [
    "# when 'abstract_length'<50, it usually represents a wrong observation\n",
    "paper_length[paper_length['abstract_length']<50].head()"
   ]
  },
  {
   "cell_type": "code",
   "execution_count": 541,
   "metadata": {},
   "outputs": [],
   "source": [
    "# remove these observations from the dataset\n",
    "paper_length = paper_length[paper_length['abstract_length']>50]"
   ]
  },
  {
   "cell_type": "code",
   "execution_count": 542,
   "metadata": {},
   "outputs": [
    {
     "data": {
      "text/plain": [
       "count    4024.000000\n",
       "mean     1163.605865\n",
       "std       554.419906\n",
       "min        51.000000\n",
       "25%       812.750000\n",
       "50%      1168.500000\n",
       "75%      1498.000000\n",
       "max      3915.000000\n",
       "Name: abstract_length, dtype: float64"
      ]
     },
     "execution_count": 542,
     "metadata": {},
     "output_type": "execute_result"
    }
   ],
   "source": [
    "# stat info for 'abstract length'\n",
    "paper_length['abstract_length'].describe()"
   ]
  },
  {
   "cell_type": "code",
   "execution_count": 543,
   "metadata": {},
   "outputs": [
    {
     "data": {
      "text/plain": [
       "<matplotlib.axes._subplots.AxesSubplot at 0x7f892b1813d0>"
      ]
     },
     "execution_count": 543,
     "metadata": {},
     "output_type": "execute_result"
    },
    {
     "data": {
      "image/png": "[encoded data removed]",
      "text/plain": [
       "<Figure size 432x288 with 1 Axes>"
      ]
     },
     "metadata": {
      "needs_background": "light"
     },
     "output_type": "display_data"
    }
   ],
   "source": [
    "# hist for abstract length\n",
    "paper_length['abstract_length'].hist(bins=50)"
   ]
  },
  {
   "cell_type": "code",
   "execution_count": 544,
   "metadata": {},
   "outputs": [
    {
     "data": {
      "text/plain": [
       "<matplotlib.axes._subplots.AxesSubplot at 0x7f892b1b1f90>"
      ]
     },
     "execution_count": 544,
     "metadata": {},
     "output_type": "execute_result"
    },
    {
     "data": {
      "image/png": "[encoded data removed]",
      "text/plain": [
       "<Figure size 432x288 with 1 Axes>"
      ]
     },
     "metadata": {
      "needs_background": "light"
     },
     "output_type": "display_data"
    }
   ],
   "source": [
    "# box plot for 'abstract_length'\n",
    "paper_length['abstract_length'].plot.box()"
   ]
  },
  {
   "cell_type": "code",
   "execution_count": 545,
   "metadata": {},
   "outputs": [
    {
     "data": {
      "text/plain": [
       "\"Recent work has shown that a firm's plural sourcing strategy, which determines how much it chooses to make versus how much it chooses to buy, requires consideration of the complementarities and constraints that affect the differential advantages of making and buying. Elaborating on this perspective, we theorize how (mis)fit between a firm's plural sourcing strategy of simultaneously making and buying and its development of information technology (IT) enabled interfirm and intrafirm process integration capabilities influences firm performance in deregulated markets. We position our theory development and empirical tests in the context of the power-generation segment of the U.S. electric utility industry (EUI), an asset-intensive industry that has been deregulated to promote the separation of key value chain activities (i.e., generation, transmission, and distribution) and the development of wholesale energy markets. We draw on the transaction cost economics, coordination costs, and IT capabilities perspectives to theorize that a firm achieves fit (realizing performance benefits) by increasing market sourcing intensity (MSI)—or, how much it buys relative to how much it makes— and developing IT-enabled interfirm process integration capability for external coordination with the market, or misfit (realizing performance penalties) by increasing MSI and developing IT-enabled intrafirm process integration capability for coordinating internal production. We collated data from archival sources for 342 utility firms in the power-generation segment to construct a panel dataset for the period 1994-2004 on (1) firms' MSI from wholesale electricity markets, (2) firms' IT investment decisions to develop interfirm and intrafirm process integration capabilities, (3) measures of firm performance, and (4) several control variables related to exogenous shocks (i.e., regulatory change, oil crisis), region of operation, and firm-level factors. Our results suggest that fit between MSI and the development of IT-enabled interfirm process integration capability improves firm profitability, assessed by return on assets, and misfit between MSI and the development of IT-enabled intrafirm process integration capability extracts penalties in firm profitability. We also find evidence that fit between MSI and the development of IT-enabled interfirm process integration capability improves market valuation, assessed by Tobin's Q, and asset turnover, assessed by operating revenue/total assets. We discuss the implications of our findings for the development of IT capabilities to accompany a firm's plural sourcing strategy and the literature on IT business value. \""
      ]
     },
     "execution_count": 545,
     "metadata": {},
     "output_type": "execute_result"
    }
   ],
   "source": [
    "# for some observations, the 'abstract_length' is too long (>2500)\n",
    "# only display one example here\n",
    "paper_length[paper_length['abstract_length']>2500].abstract.tolist()[2]"
   ]
  },
  {
   "cell_type": "markdown",
   "metadata": {},
   "source": [
    "Analyze the length of title/abstract feature for each journal:"
   ]
  },
  {
   "cell_type": "code",
   "execution_count": 546,
   "metadata": {},
   "outputs": [
    {
     "name": "stdout",
     "output_type": "stream",
     "text": [
      "**************************************************************************************\n",
      "for MIS Quarterly, the average length of the title is: 82.34\n",
      "for MIS Quarterly, the average length of the abstract is: 1048.01\n",
      "**************************************************************************************\n",
      "for Journal of Management Information Systems, the average length of the title is: 82.35\n",
      "for Journal of Management Information Systems, the average length of the abstract is: 1107.45\n",
      "**************************************************************************************\n",
      "for Information Systems Research, the average length of the title is: 87.03\n",
      "for Information Systems Research, the average length of the abstract is: 1438.98\n"
     ]
    }
   ],
   "source": [
    "# 'journal_quantity': record the journal name\n",
    "# 'journal_issue_number': record the journal id related to each journal\n",
    "import numpy as np\n",
    "for i in range(len(journal_quantity)):\n",
    "    # journal title\n",
    "    journal_name = journal_quantity[i]\n",
    "    # find the id related to this journal\n",
    "    journal_id_list = journal_issue_number[journal_issue_number['journal']==journal_name].id.tolist()[0]\n",
    "    # find the papers related to this journal\n",
    "    a = paper_length[paper_length['journal_id'].isin(journal_id_list)]\n",
    "    # calculate the mean title length\n",
    "    title_mean = a['title_length'].mean()\n",
    "    print(\"**************************************************************************************\")\n",
    "    print(f\"for {journal_name}, the average length of the title is: {np.round(title_mean,2)}\")\n",
    "    # calculate the mean abstract length\n",
    "    abstract_mean = a['abstract_length'].mean()\n",
    "    print(f\"for {journal_name}, the average length of the abstract is: {np.round(abstract_mean, 2)}\")"
   ]
  },
  {
   "cell_type": "markdown",
   "metadata": {},
   "source": [
    "Analyze the relationship between 'paper' and 'keyword'"
   ]
  },
  {
   "cell_type": "code",
   "execution_count": 547,
   "metadata": {},
   "outputs": [
    {
     "name": "stdout",
     "output_type": "stream",
     "text": [
      "there are totally 10146 keywords appeared in the dataset\n"
     ]
    }
   ],
   "source": [
    "print(f\"there are totally {len(keyword)} keywords appeared in the dataset\")"
   ]
  },
  {
   "cell_type": "code",
   "execution_count": 548,
   "metadata": {},
   "outputs": [
    {
     "data": {
      "text/plain": [
       "3133    76\n",
       "539     73\n",
       "134     68\n",
       "151     60\n",
       "355     58\n",
       "        ..\n",
       "6986     1\n",
       "9037     1\n",
       "2904     1\n",
       "857      1\n",
       "4086     1\n",
       "Name: keyword_id, Length: 10146, dtype: int64"
      ]
     },
     "execution_count": 548,
     "metadata": {},
     "output_type": "execute_result"
    }
   ],
   "source": [
    "# which keywords are popular?\n",
    "paper_keyword['keyword_id'].value_counts()"
   ]
  },
  {
   "cell_type": "code",
   "execution_count": 549,
   "metadata": {},
   "outputs": [
    {
     "data": {
      "text/plain": [
       "'decision support systems'"
      ]
     },
     "execution_count": 549,
     "metadata": {},
     "output_type": "execute_result"
    }
   ],
   "source": [
    "# keyword 'decision support systems' has been used 76 times\n",
    "keyword[keyword['id']==3133].keyword.tolist()[0]"
   ]
  },
  {
   "cell_type": "code",
   "execution_count": 550,
   "metadata": {},
   "outputs": [
    {
     "data": {
      "text/plain": [
       "'electronic commerce'"
      ]
     },
     "execution_count": 550,
     "metadata": {},
     "output_type": "execute_result"
    }
   ],
   "source": [
    "# keyword 'electronic commerce' has been used 73 times\n",
    "keyword[keyword['id']==539].keyword.tolist()[0]"
   ]
  },
  {
   "cell_type": "code",
   "execution_count": 551,
   "metadata": {},
   "outputs": [],
   "source": [
    "keyword_popularity = pd.DataFrame(paper_keyword['keyword_id'].value_counts()).reset_index()\n",
    "keyword_popularity.columns = ['keyword_id', 'freq']"
   ]
  },
  {
   "cell_type": "code",
   "execution_count": 552,
   "metadata": {},
   "outputs": [
    {
     "data": {
      "text/html": [
       "<div>\n",
       "<style scoped>\n",
       "    .dataframe tbody tr th:only-of-type {\n",
       "        vertical-align: middle;\n",
       "    }\n",
       "\n",
       "    .dataframe tbody tr th {\n",
       "        vertical-align: top;\n",
       "    }\n",
       "\n",
       "    .dataframe thead th {\n",
       "        text-align: right;\n",
       "    }\n",
       "</style>\n",
       "<table border=\"1\" class=\"dataframe\">\n",
       "  <thead>\n",
       "    <tr style=\"text-align: right;\">\n",
       "      <th></th>\n",
       "      <th>keyword_id</th>\n",
       "      <th>freq</th>\n",
       "    </tr>\n",
       "  </thead>\n",
       "  <tbody>\n",
       "    <tr>\n",
       "      <th>0</th>\n",
       "      <td>3133</td>\n",
       "      <td>76</td>\n",
       "    </tr>\n",
       "    <tr>\n",
       "      <th>1</th>\n",
       "      <td>539</td>\n",
       "      <td>73</td>\n",
       "    </tr>\n",
       "    <tr>\n",
       "      <th>2</th>\n",
       "      <td>134</td>\n",
       "      <td>68</td>\n",
       "    </tr>\n",
       "    <tr>\n",
       "      <th>3</th>\n",
       "      <td>151</td>\n",
       "      <td>60</td>\n",
       "    </tr>\n",
       "    <tr>\n",
       "      <th>4</th>\n",
       "      <td>355</td>\n",
       "      <td>58</td>\n",
       "    </tr>\n",
       "  </tbody>\n",
       "</table>\n",
       "</div>"
      ],
      "text/plain": [
       "   keyword_id  freq\n",
       "0        3133    76\n",
       "1         539    73\n",
       "2         134    68\n",
       "3         151    60\n",
       "4         355    58"
      ]
     },
     "execution_count": 552,
     "metadata": {},
     "output_type": "execute_result"
    }
   ],
   "source": [
    "# 'keyword_popularity' counts the frequency for each keyword\n",
    "keyword_popularity.head()"
   ]
  },
  {
   "cell_type": "code",
   "execution_count": 553,
   "metadata": {},
   "outputs": [
    {
     "data": {
      "text/plain": [
       "count    10146.000000\n",
       "mean         1.803864\n",
       "std          3.106674\n",
       "min          1.000000\n",
       "25%          1.000000\n",
       "50%          1.000000\n",
       "75%          1.000000\n",
       "max         76.000000\n",
       "Name: freq, dtype: float64"
      ]
     },
     "execution_count": 553,
     "metadata": {},
     "output_type": "execute_result"
    }
   ],
   "source": [
    "# stat info for keyword frequency\n",
    "# on average, each keyword appears in 1.8 papers\n",
    "keyword_popularity['freq'].describe()"
   ]
  },
  {
   "cell_type": "code",
   "execution_count": 554,
   "metadata": {},
   "outputs": [
    {
     "data": {
      "text/plain": [
       "<matplotlib.axes._subplots.AxesSubplot at 0x7f892abd4390>"
      ]
     },
     "execution_count": 554,
     "metadata": {},
     "output_type": "execute_result"
    },
    {
     "data": {
      "image/png": "[encoded data removed]",
      "text/plain": [
       "<Figure size 432x288 with 1 Axes>"
      ]
     },
     "metadata": {
      "needs_background": "light"
     },
     "output_type": "display_data"
    }
   ],
   "source": [
    "# hist for keyword freq\n",
    "keyword_popularity['freq'].hist()"
   ]
  },
  {
   "cell_type": "code",
   "execution_count": 555,
   "metadata": {},
   "outputs": [
    {
     "data": {
      "text/plain": [
       "<matplotlib.axes._subplots.AxesSubplot at 0x7f892b72cd10>"
      ]
     },
     "execution_count": 555,
     "metadata": {},
     "output_type": "execute_result"
    },
    {
     "data": {
      "image/png": "[encoded data removed]",
      "text/plain": [
       "<Figure size 432x288 with 1 Axes>"
      ]
     },
     "metadata": {
      "needs_background": "light"
     },
     "output_type": "display_data"
    }
   ],
   "source": [
    "# box plot for keyword freq\n",
    "keyword_popularity['freq'].plot.box()"
   ]
  },
  {
   "cell_type": "code",
   "execution_count": 556,
   "metadata": {},
   "outputs": [
    {
     "data": {
      "text/html": [
       "<div>\n",
       "<style scoped>\n",
       "    .dataframe tbody tr th:only-of-type {\n",
       "        vertical-align: middle;\n",
       "    }\n",
       "\n",
       "    .dataframe tbody tr th {\n",
       "        vertical-align: top;\n",
       "    }\n",
       "\n",
       "    .dataframe thead th {\n",
       "        text-align: right;\n",
       "    }\n",
       "</style>\n",
       "<table border=\"1\" class=\"dataframe\">\n",
       "  <thead>\n",
       "    <tr style=\"text-align: right;\">\n",
       "      <th></th>\n",
       "      <th>keyword_id</th>\n",
       "      <th>freq</th>\n",
       "    </tr>\n",
       "  </thead>\n",
       "  <tbody>\n",
       "    <tr>\n",
       "      <th>0</th>\n",
       "      <td>3133</td>\n",
       "      <td>76</td>\n",
       "    </tr>\n",
       "    <tr>\n",
       "      <th>1</th>\n",
       "      <td>539</td>\n",
       "      <td>73</td>\n",
       "    </tr>\n",
       "    <tr>\n",
       "      <th>2</th>\n",
       "      <td>134</td>\n",
       "      <td>68</td>\n",
       "    </tr>\n",
       "    <tr>\n",
       "      <th>3</th>\n",
       "      <td>151</td>\n",
       "      <td>60</td>\n",
       "    </tr>\n",
       "    <tr>\n",
       "      <th>4</th>\n",
       "      <td>355</td>\n",
       "      <td>58</td>\n",
       "    </tr>\n",
       "  </tbody>\n",
       "</table>\n",
       "</div>"
      ],
      "text/plain": [
       "   keyword_id  freq\n",
       "0        3133    76\n",
       "1         539    73\n",
       "2         134    68\n",
       "3         151    60\n",
       "4         355    58"
      ]
     },
     "execution_count": 556,
     "metadata": {},
     "output_type": "execute_result"
    }
   ],
   "source": [
    "# there are 166 keywords appeared in more than 10 papers\n",
    "keyword_popularity[keyword_popularity['freq']>10].head()"
   ]
  },
  {
   "cell_type": "markdown",
   "metadata": {},
   "source": [
    "Analyze the relationship between 'paper' and 'subject'"
   ]
  },
  {
   "cell_type": "code",
   "execution_count": 557,
   "metadata": {},
   "outputs": [
    {
     "name": "stdout",
     "output_type": "stream",
     "text": [
      "there are totally 4754 subjects appeared in the dataset\n"
     ]
    }
   ],
   "source": [
    "print(f\"there are totally {len(subject)} subjects appeared in the dataset\")"
   ]
  },
  {
   "cell_type": "code",
   "execution_count": 558,
   "metadata": {},
   "outputs": [
    {
     "data": {
      "text/plain": [
       "29      1075\n",
       "219     1064\n",
       "973      814\n",
       "1        433\n",
       "723      387\n",
       "        ... \n",
       "3994       1\n",
       "3151       1\n",
       "3119       1\n",
       "1070       1\n",
       "2049       1\n",
       "Name: subject_id, Length: 4754, dtype: int64"
      ]
     },
     "execution_count": 558,
     "metadata": {},
     "output_type": "execute_result"
    }
   ],
   "source": [
    "# which subject frequently appears?\n",
    "paper_subject['subject_id'].value_counts()"
   ]
  },
  {
   "cell_type": "code",
   "execution_count": 559,
   "metadata": {},
   "outputs": [
    {
     "data": {
      "text/plain": [
       "'information technology'"
      ]
     },
     "execution_count": 559,
     "metadata": {},
     "output_type": "execute_result"
    }
   ],
   "source": [
    "# subject 'information technology' is the most popular one\n",
    "# it appears in 1075 papers\n",
    "subject[subject['id']==29].subject.tolist()[0]"
   ]
  },
  {
   "cell_type": "code",
   "execution_count": 560,
   "metadata": {},
   "outputs": [
    {
     "data": {
      "text/plain": [
       "'information resources management'"
      ]
     },
     "execution_count": 560,
     "metadata": {},
     "output_type": "execute_result"
    }
   ],
   "source": [
    "# subject 'information resources management' appears in 1064 papers\n",
    "subject[subject['id']==219].subject.tolist()[0]"
   ]
  },
  {
   "cell_type": "code",
   "execution_count": 561,
   "metadata": {},
   "outputs": [],
   "source": [
    "subject_popularity = pd.DataFrame(paper_subject['subject_id'].value_counts()).reset_index()\n",
    "subject_popularity.columns = ['subject_id', 'freq']"
   ]
  },
  {
   "cell_type": "code",
   "execution_count": 562,
   "metadata": {},
   "outputs": [
    {
     "data": {
      "text/html": [
       "<div>\n",
       "<style scoped>\n",
       "    .dataframe tbody tr th:only-of-type {\n",
       "        vertical-align: middle;\n",
       "    }\n",
       "\n",
       "    .dataframe tbody tr th {\n",
       "        vertical-align: top;\n",
       "    }\n",
       "\n",
       "    .dataframe thead th {\n",
       "        text-align: right;\n",
       "    }\n",
       "</style>\n",
       "<table border=\"1\" class=\"dataframe\">\n",
       "  <thead>\n",
       "    <tr style=\"text-align: right;\">\n",
       "      <th></th>\n",
       "      <th>subject_id</th>\n",
       "      <th>freq</th>\n",
       "    </tr>\n",
       "  </thead>\n",
       "  <tbody>\n",
       "    <tr>\n",
       "      <th>0</th>\n",
       "      <td>29</td>\n",
       "      <td>1075</td>\n",
       "    </tr>\n",
       "    <tr>\n",
       "      <th>1</th>\n",
       "      <td>219</td>\n",
       "      <td>1064</td>\n",
       "    </tr>\n",
       "    <tr>\n",
       "      <th>2</th>\n",
       "      <td>973</td>\n",
       "      <td>814</td>\n",
       "    </tr>\n",
       "    <tr>\n",
       "      <th>3</th>\n",
       "      <td>1</td>\n",
       "      <td>433</td>\n",
       "    </tr>\n",
       "    <tr>\n",
       "      <th>4</th>\n",
       "      <td>723</td>\n",
       "      <td>387</td>\n",
       "    </tr>\n",
       "  </tbody>\n",
       "</table>\n",
       "</div>"
      ],
      "text/plain": [
       "   subject_id  freq\n",
       "0          29  1075\n",
       "1         219  1064\n",
       "2         973   814\n",
       "3           1   433\n",
       "4         723   387"
      ]
     },
     "execution_count": 562,
     "metadata": {},
     "output_type": "execute_result"
    }
   ],
   "source": [
    "# 'subject_popularity' counts the frequency for each subject\n",
    "subject_popularity.head()"
   ]
  },
  {
   "cell_type": "code",
   "execution_count": 563,
   "metadata": {},
   "outputs": [
    {
     "data": {
      "text/plain": [
       "count    4754.000000\n",
       "mean        7.361801\n",
       "std        31.849569\n",
       "min         1.000000\n",
       "25%         1.000000\n",
       "50%         2.000000\n",
       "75%         5.000000\n",
       "max      1075.000000\n",
       "Name: freq, dtype: float64"
      ]
     },
     "execution_count": 563,
     "metadata": {},
     "output_type": "execute_result"
    }
   ],
   "source": [
    "# stat info for subject\n",
    "# on average each subject is chosen by 7.36 papers\n",
    "subject_popularity['freq'].describe()"
   ]
  },
  {
   "cell_type": "code",
   "execution_count": 564,
   "metadata": {},
   "outputs": [
    {
     "data": {
      "text/plain": [
       "<matplotlib.axes._subplots.AxesSubplot at 0x7f89299a7590>"
      ]
     },
     "execution_count": 564,
     "metadata": {},
     "output_type": "execute_result"
    },
    {
     "data": {
      "image/png": "[encoded data removed]",
      "text/plain": [
       "<Figure size 432x288 with 1 Axes>"
      ]
     },
     "metadata": {
      "needs_background": "light"
     },
     "output_type": "display_data"
    }
   ],
   "source": [
    "# hist for subject freq\n",
    "subject_popularity['freq'].hist()"
   ]
  },
  {
   "cell_type": "code",
   "execution_count": 565,
   "metadata": {},
   "outputs": [
    {
     "data": {
      "text/plain": [
       "<matplotlib.axes._subplots.AxesSubplot at 0x7f892abd4490>"
      ]
     },
     "execution_count": 565,
     "metadata": {},
     "output_type": "execute_result"
    },
    {
     "data": {
      "image/png": "[encoded data removed]",
      "text/plain": [
       "<Figure size 432x288 with 1 Axes>"
      ]
     },
     "metadata": {
      "needs_background": "light"
     },
     "output_type": "display_data"
    }
   ],
   "source": [
    "# box plot for subject freq\n",
    "subject_popularity['freq'].plot.box()"
   ]
  },
  {
   "cell_type": "code",
   "execution_count": 566,
   "metadata": {},
   "outputs": [
    {
     "data": {
      "text/html": [
       "<div>\n",
       "<style scoped>\n",
       "    .dataframe tbody tr th:only-of-type {\n",
       "        vertical-align: middle;\n",
       "    }\n",
       "\n",
       "    .dataframe tbody tr th {\n",
       "        vertical-align: top;\n",
       "    }\n",
       "\n",
       "    .dataframe thead th {\n",
       "        text-align: right;\n",
       "    }\n",
       "</style>\n",
       "<table border=\"1\" class=\"dataframe\">\n",
       "  <thead>\n",
       "    <tr style=\"text-align: right;\">\n",
       "      <th></th>\n",
       "      <th>subject_id</th>\n",
       "      <th>freq</th>\n",
       "    </tr>\n",
       "  </thead>\n",
       "  <tbody>\n",
       "    <tr>\n",
       "      <th>0</th>\n",
       "      <td>29</td>\n",
       "      <td>1075</td>\n",
       "    </tr>\n",
       "    <tr>\n",
       "      <th>1</th>\n",
       "      <td>219</td>\n",
       "      <td>1064</td>\n",
       "    </tr>\n",
       "    <tr>\n",
       "      <th>2</th>\n",
       "      <td>973</td>\n",
       "      <td>814</td>\n",
       "    </tr>\n",
       "    <tr>\n",
       "      <th>3</th>\n",
       "      <td>1</td>\n",
       "      <td>433</td>\n",
       "    </tr>\n",
       "    <tr>\n",
       "      <th>4</th>\n",
       "      <td>723</td>\n",
       "      <td>387</td>\n",
       "    </tr>\n",
       "    <tr>\n",
       "      <th>...</th>\n",
       "      <td>...</td>\n",
       "      <td>...</td>\n",
       "    </tr>\n",
       "    <tr>\n",
       "      <th>1051</th>\n",
       "      <td>2015</td>\n",
       "      <td>6</td>\n",
       "    </tr>\n",
       "    <tr>\n",
       "      <th>1052</th>\n",
       "      <td>2616</td>\n",
       "      <td>6</td>\n",
       "    </tr>\n",
       "    <tr>\n",
       "      <th>1053</th>\n",
       "      <td>444</td>\n",
       "      <td>6</td>\n",
       "    </tr>\n",
       "    <tr>\n",
       "      <th>1054</th>\n",
       "      <td>1278</td>\n",
       "      <td>6</td>\n",
       "    </tr>\n",
       "    <tr>\n",
       "      <th>1055</th>\n",
       "      <td>2648</td>\n",
       "      <td>6</td>\n",
       "    </tr>\n",
       "  </tbody>\n",
       "</table>\n",
       "<p>1056 rows × 2 columns</p>\n",
       "</div>"
      ],
      "text/plain": [
       "      subject_id  freq\n",
       "0             29  1075\n",
       "1            219  1064\n",
       "2            973   814\n",
       "3              1   433\n",
       "4            723   387\n",
       "...          ...   ...\n",
       "1051        2015     6\n",
       "1052        2616     6\n",
       "1053         444     6\n",
       "1054        1278     6\n",
       "1055        2648     6\n",
       "\n",
       "[1056 rows x 2 columns]"
      ]
     },
     "execution_count": 566,
     "metadata": {},
     "output_type": "execute_result"
    }
   ],
   "source": [
    "# 1056 subjects appears in more than 5 papers\n",
    "subject_popularity[subject_popularity['freq']>5]"
   ]
  },
  {
   "cell_type": "code",
   "execution_count": 567,
   "metadata": {},
   "outputs": [
    {
     "data": {
      "text/html": [
       "<div>\n",
       "<style scoped>\n",
       "    .dataframe tbody tr th:only-of-type {\n",
       "        vertical-align: middle;\n",
       "    }\n",
       "\n",
       "    .dataframe tbody tr th {\n",
       "        vertical-align: top;\n",
       "    }\n",
       "\n",
       "    .dataframe thead th {\n",
       "        text-align: right;\n",
       "    }\n",
       "</style>\n",
       "<table border=\"1\" class=\"dataframe\">\n",
       "  <thead>\n",
       "    <tr style=\"text-align: right;\">\n",
       "      <th></th>\n",
       "      <th>subject_id</th>\n",
       "      <th>freq</th>\n",
       "    </tr>\n",
       "  </thead>\n",
       "  <tbody>\n",
       "    <tr>\n",
       "      <th>0</th>\n",
       "      <td>29</td>\n",
       "      <td>1075</td>\n",
       "    </tr>\n",
       "    <tr>\n",
       "      <th>1</th>\n",
       "      <td>219</td>\n",
       "      <td>1064</td>\n",
       "    </tr>\n",
       "    <tr>\n",
       "      <th>2</th>\n",
       "      <td>973</td>\n",
       "      <td>814</td>\n",
       "    </tr>\n",
       "    <tr>\n",
       "      <th>3</th>\n",
       "      <td>1</td>\n",
       "      <td>433</td>\n",
       "    </tr>\n",
       "    <tr>\n",
       "      <th>4</th>\n",
       "      <td>723</td>\n",
       "      <td>387</td>\n",
       "    </tr>\n",
       "    <tr>\n",
       "      <th>...</th>\n",
       "      <td>...</td>\n",
       "      <td>...</td>\n",
       "    </tr>\n",
       "    <tr>\n",
       "      <th>614</th>\n",
       "      <td>1533</td>\n",
       "      <td>11</td>\n",
       "    </tr>\n",
       "    <tr>\n",
       "      <th>615</th>\n",
       "      <td>1597</td>\n",
       "      <td>11</td>\n",
       "    </tr>\n",
       "    <tr>\n",
       "      <th>616</th>\n",
       "      <td>494</td>\n",
       "      <td>11</td>\n",
       "    </tr>\n",
       "    <tr>\n",
       "      <th>617</th>\n",
       "      <td>1632</td>\n",
       "      <td>11</td>\n",
       "    </tr>\n",
       "    <tr>\n",
       "      <th>618</th>\n",
       "      <td>1408</td>\n",
       "      <td>11</td>\n",
       "    </tr>\n",
       "  </tbody>\n",
       "</table>\n",
       "<p>619 rows × 2 columns</p>\n",
       "</div>"
      ],
      "text/plain": [
       "     subject_id  freq\n",
       "0            29  1075\n",
       "1           219  1064\n",
       "2           973   814\n",
       "3             1   433\n",
       "4           723   387\n",
       "..          ...   ...\n",
       "614        1533    11\n",
       "615        1597    11\n",
       "616         494    11\n",
       "617        1632    11\n",
       "618        1408    11\n",
       "\n",
       "[619 rows x 2 columns]"
      ]
     },
     "execution_count": 567,
     "metadata": {},
     "output_type": "execute_result"
    }
   ],
   "source": [
    "# 619 subjects appears in more than 10 papers\n",
    "subject_popularity[subject_popularity['freq']>10]"
   ]
  }
 ],
 "metadata": {
  "kernelspec": {
   "display_name": "Python 3",
   "language": "python",
   "name": "python3"
  },
  "language_info": {
   "codemirror_mode": {
    "name": "ipython",
    "version": 3
   },
   "file_extension": ".py",
   "mimetype": "text/x-python",
   "name": "python",
   "nbconvert_exporter": "python",
   "pygments_lexer": "ipython3",
   "version": "3.7.6"
  }
 },
 "nbformat": 4,
 "nbformat_minor": 4
}
