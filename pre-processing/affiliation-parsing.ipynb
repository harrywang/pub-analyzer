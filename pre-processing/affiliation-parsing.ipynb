{
 "cells": [
  {
   "cell_type": "markdown",
   "metadata": {},
   "source": [
    "# Affiliation Parsing\n",
    "\n",
    "Our goal is to parse the affiliation text into country and insititution. For example, \"McCombs School of Business, The University of Texas at Austin Austin, TX 78712 U.S.A.\" should be parsed to \"University of Texas at Austin\" and \"USA\". We don't care too much about the department and address for now. \n",
    "\n",
    "All rule based methods.\n",
    "\n",
    "## Country Parsing\n",
    "\n",
    "- use name search via ISO country list + add additional country names, such as usa, uk, korea, etc.\n",
    "- handle special entities such as Georgia as a state and a country), etc: https://en.wikipedia.org/wiki/List_of_homonymous_states_and_regions\n",
    "- handle no country \n",
    "    - many affiliation with no country is actually usa\n",
    "    - special cases\n",
    "\n",
    "## Institution Parsing\n",
    "\n",
    "- split the string by comma and use keywords like \"university\", \"institute\" to search for organization \n"
   ]
  },
  {
   "cell_type": "markdown",
   "metadata": {},
   "source": [
    "## Data\n",
    "\n",
    "The input of this is the latest database and the latest processed affiliation csv. The program will generate a new csv only for the not processed data. Given the total database is only around 300m, this approach should work for the forseeable future. "
   ]
  },
  {
   "cell_type": "code",
   "execution_count": 1,
   "metadata": {},
   "outputs": [],
   "source": [
    "import sqlite3\n",
    "import numpy as np\n",
    "import pandas as pd\n",
    "# pd.set_option('max_colwidth', -1)  # set max pd column with to unlimited"
   ]
  },
  {
   "cell_type": "code",
   "execution_count": 2,
   "metadata": {
    "tags": []
   },
   "outputs": [
    {
     "output_type": "stream",
     "name": "stdout",
     "text": "../data/pubcrawler-05-30-2020.db ../data/affiliation-05-30-2020.csv\n"
    }
   ],
   "source": [
    "base_file_name = '05-30-2020'\n",
    "database_file_name = '../data/pubcrawler-' + base_file_name + '.db'\n",
    "aff_file_name = '../data/affiliation-' + base_file_name + '.csv'\n",
    "\n",
    "print(database_file_name, aff_file_name)"
   ]
  },
  {
   "cell_type": "code",
   "execution_count": 3,
   "metadata": {},
   "outputs": [],
   "source": [
    "# use the lastest database\n",
    "#conn = sqlite3.connect(\"../data/pubcrawler-05-30-2020.db\")\n",
    "\n",
    "# use the sample databse\n",
    "conn = sqlite3.connect(\"../data/pub_raw.db\")"
   ]
  },
  {
   "cell_type": "code",
   "execution_count": 4,
   "metadata": {
    "tags": []
   },
   "outputs": [
    {
     "output_type": "stream",
     "name": "stdout",
     "text": "<class 'pandas.core.frame.DataFrame'>\nRangeIndex: 500 entries, 0 to 499\nData columns (total 7 columns):\n #   Column       Non-Null Count  Dtype \n---  ------       --------------  ----- \n 0   id           500 non-null    int64 \n 1   full_name    500 non-null    object\n 2   first_name   500 non-null    object\n 3   last_name    500 non-null    object\n 4   middle_name  204 non-null    object\n 5   email        500 non-null    object\n 6   affiliation  500 non-null    object\ndtypes: int64(1), object(6)\nmemory usage: 27.5+ KB\n"
    }
   ],
   "source": [
    "# sample 500 rows for analysis\n",
    "authors = pd.read_sql_query(\"select * from author order by random() limit 500;\", conn)\n",
    "\n",
    "# the following retrieve all rows\n",
    "#authors = pd.read_sql_query(\"select * from author;\", conn)\n",
    "authors.info()"
   ]
  },
  {
   "cell_type": "code",
   "execution_count": 5,
   "metadata": {},
   "outputs": [
    {
     "output_type": "execute_result",
     "data": {
      "text/plain": "     id             full_name first_name     last_name middle_name  \\\n0  1736          Zigurs, Ilze       Ilze        Zigurs        None   \n1  2392  Ginzberg, Michael J.    Michael      Ginzberg          J.   \n2  1961       George, Joey F.       Joey        George          F.   \n3  1080       Ellen Moore, Jo         Jo   Ellen Moore        None   \n4   244      Lynne Markus, M.         M.  Lynne Markus        None   \n\n                  email                                        affiliation  \n0                   nan                                                nan  \n1                   nan  Weatherhead School of Management Case Western ...  \n2   jgeorge@cob.fsu.edu  Department of Information & Management Science...  \n3      joemoor@siue.edu  Southern Illinois University Edwardsville, Cam...  \n4  MLMarkus@bentley.edu  Information and Process Management Department,...  ",
      "text/html": "<div>\n<style scoped>\n    .dataframe tbody tr th:only-of-type {\n        vertical-align: middle;\n    }\n\n    .dataframe tbody tr th {\n        vertical-align: top;\n    }\n\n    .dataframe thead th {\n        text-align: right;\n    }\n</style>\n<table border=\"1\" class=\"dataframe\">\n  <thead>\n    <tr style=\"text-align: right;\">\n      <th></th>\n      <th>id</th>\n      <th>full_name</th>\n      <th>first_name</th>\n      <th>last_name</th>\n      <th>middle_name</th>\n      <th>email</th>\n      <th>affiliation</th>\n    </tr>\n  </thead>\n  <tbody>\n    <tr>\n      <th>0</th>\n      <td>1736</td>\n      <td>Zigurs, Ilze</td>\n      <td>Ilze</td>\n      <td>Zigurs</td>\n      <td>None</td>\n      <td>nan</td>\n      <td>nan</td>\n    </tr>\n    <tr>\n      <th>1</th>\n      <td>2392</td>\n      <td>Ginzberg, Michael J.</td>\n      <td>Michael</td>\n      <td>Ginzberg</td>\n      <td>J.</td>\n      <td>nan</td>\n      <td>Weatherhead School of Management Case Western ...</td>\n    </tr>\n    <tr>\n      <th>2</th>\n      <td>1961</td>\n      <td>George, Joey F.</td>\n      <td>Joey</td>\n      <td>George</td>\n      <td>F.</td>\n      <td>jgeorge@cob.fsu.edu</td>\n      <td>Department of Information &amp; Management Science...</td>\n    </tr>\n    <tr>\n      <th>3</th>\n      <td>1080</td>\n      <td>Ellen Moore, Jo</td>\n      <td>Jo</td>\n      <td>Ellen Moore</td>\n      <td>None</td>\n      <td>joemoor@siue.edu</td>\n      <td>Southern Illinois University Edwardsville, Cam...</td>\n    </tr>\n    <tr>\n      <th>4</th>\n      <td>244</td>\n      <td>Lynne Markus, M.</td>\n      <td>M.</td>\n      <td>Lynne Markus</td>\n      <td>None</td>\n      <td>MLMarkus@bentley.edu</td>\n      <td>Information and Process Management Department,...</td>\n    </tr>\n  </tbody>\n</table>\n</div>"
     },
     "metadata": {},
     "execution_count": 5
    }
   ],
   "source": [
    "authors.head()"
   ]
  },
  {
   "cell_type": "markdown",
   "metadata": {},
   "source": [
    "## Prepare Country and Insititution Lists\n",
    "\n",
    "- ISO country list is composed from pycountry package\n",
    "- Grid institution list is from https://www.grid.ac/ - processed using the `process-grid.ipynb`"
   ]
  },
  {
   "cell_type": "code",
   "execution_count": 6,
   "metadata": {
    "tags": []
   },
   "outputs": [
    {
     "output_type": "stream",
     "name": "stdout",
     "text": "['aruba', 'afghanistan', 'angola', 'anguilla', 'åland islands', 'albania', 'andorra', 'united arab emirates', 'argentina', 'armenia', 'american samoa', 'antarctica', 'french southern territories', 'antigua and barbuda', 'australia', 'austria', 'azerbaijan', 'burundi', 'belgium', 'benin', 'bonaire, sint eustatius and saba', 'burkina faso', 'bangladesh', 'bulgaria', 'bahrain', 'bahamas', 'bosnia and herzegovina', 'saint barthélemy', 'belarus', 'belize', 'bermuda', 'bolivia, plurinational state of', 'brazil', 'barbados', 'brunei darussalam', 'bhutan', 'bouvet island', 'botswana', 'central african republic', 'canada', 'cocos (keeling) islands', 'switzerland', 'chile', 'china', \"côte d'ivoire\", 'cameroon', 'congo, the democratic republic of the', 'congo', 'cook islands', 'colombia', 'comoros', 'cabo verde', 'costa rica', 'cuba', 'curaçao', 'christmas island', 'cayman islands', 'cyprus', 'czechia', 'germany', 'djibouti', 'dominica', 'denmark', 'dominican republic', 'algeria', 'ecuador', 'egypt', 'eritrea', 'western sahara', 'spain', 'estonia', 'ethiopia', 'finland', 'fiji', 'falkland islands (malvinas)', 'france', 'faroe islands', 'micronesia, federated states of', 'gabon', 'united kingdom', 'georgia', 'guernsey', 'ghana', 'gibraltar', 'guinea', 'guadeloupe', 'gambia', 'guinea-bissau', 'equatorial guinea', 'greece', 'grenada', 'greenland', 'guatemala', 'french guiana', 'guam', 'guyana', 'hong kong', 'heard island and mcdonald islands', 'honduras', 'croatia', 'haiti', 'hungary', 'indonesia', 'isle of man', 'india', 'british indian ocean territory', 'ireland', 'iran, islamic republic of', 'iraq', 'iceland', 'israel', 'italy', 'jamaica', 'jersey', 'jordan', 'japan', 'kazakhstan', 'kenya', 'kyrgyzstan', 'cambodia', 'kiribati', 'saint kitts and nevis', 'korea, republic of', 'kuwait', \"lao people's democratic republic\", 'lebanon', 'liberia', 'libya', 'saint lucia', 'liechtenstein', 'sri lanka', 'lesotho', 'lithuania', 'luxembourg', 'latvia', 'macao', 'saint martin (french part)', 'morocco', 'monaco', 'moldova, republic of', 'madagascar', 'maldives', 'mexico', 'marshall islands', 'north macedonia', 'mali', 'malta', 'myanmar', 'montenegro', 'mongolia', 'northern mariana islands', 'mozambique', 'mauritania', 'montserrat', 'martinique', 'mauritius', 'malawi', 'malaysia', 'mayotte', 'namibia', 'new caledonia', 'niger', 'norfolk island', 'nigeria', 'nicaragua', 'niue', 'netherlands', 'norway', 'nepal', 'nauru', 'new zealand', 'oman', 'pakistan', 'panama', 'pitcairn', 'peru', 'philippines', 'palau', 'papua new guinea', 'poland', 'puerto rico', \"korea, democratic people's republic of\", 'portugal', 'paraguay', 'palestine, state of', 'french polynesia', 'qatar', 'réunion', 'romania', 'russian federation', 'rwanda', 'saudi arabia', 'sudan', 'senegal', 'singapore', 'south georgia and the south sandwich islands', 'saint helena, ascension and tristan da cunha', 'svalbard and jan mayen', 'solomon islands', 'sierra leone', 'el salvador', 'san marino', 'somalia', 'saint pierre and miquelon', 'serbia', 'south sudan', 'sao tome and principe', 'suriname', 'slovakia', 'slovenia', 'sweden', 'eswatini', 'sint maarten (dutch part)', 'seychelles', 'syrian arab republic', 'turks and caicos islands', 'chad', 'togo', 'thailand', 'tajikistan', 'tokelau', 'turkmenistan', 'timor-leste', 'tonga', 'trinidad and tobago', 'tunisia', 'turkey', 'tuvalu', 'taiwan, province of china', 'tanzania, united republic of', 'uganda', 'ukraine', 'united states minor outlying islands', 'uruguay', 'united states', 'uzbekistan', 'holy see (vatican city state)', 'saint vincent and the grenadines', 'venezuela, bolivarian republic of', 'virgin islands, british', 'virgin islands, u.s.', 'viet nam', 'vanuatu', 'wallis and futuna', 'samoa', 'yemen', 'south africa', 'zambia', 'zimbabwe', 'usa', 'korea']\n"
    }
   ],
   "source": [
    "# compose the country name list from pycountry\n",
    "#pd.set_option('max_colwidth', 800) # enlarge the cell width if needed\n",
    "import pycountry\n",
    "\n",
    "country_list = []\n",
    "for c in pycountry.countries:\n",
    "    country_list.append(c.name.lower()) # change to all lowercase\n",
    "\n",
    "# add additional country spellings\n",
    "# all lower case\n",
    "\n",
    "additional_country_list = ['usa', 'korea'] # all lowercase\n",
    "country_list.extend(additional_country_list)\n",
    "\n",
    "print(country_list)"
   ]
  },
  {
   "cell_type": "code",
   "execution_count": 7,
   "metadata": {},
   "outputs": [],
   "source": [
    "# clean up the text\n",
    "def clean_text(aff_text):\n",
    "    aff_text = aff_text.lower() # change to lower case \n",
    "    aff_text = aff_text.replace('.', '')  # remove all dots\n",
    "    return aff_text"
   ]
  },
  {
   "cell_type": "code",
   "execution_count": 8,
   "metadata": {},
   "outputs": [],
   "source": [
    "# find country by matching the country name from a list\n",
    "def find_country(aff_text):\n",
    "    # Test if a string (aff_text) contains element e from a list (country_list)\n",
    "    result = [e for e in country_list if(e in aff_text)] \n",
    "    \n",
    "    if len(result) > 0: # found a country match\n",
    "        return result # return country list\n",
    "    else: \n",
    "        return 'no country found'"
   ]
  },
  {
   "cell_type": "code",
   "execution_count": 9,
   "metadata": {
    "tags": []
   },
   "outputs": [
    {
     "output_type": "stream",
     "name": "stdout",
     "text": "['united kingdom', 'usa']\n"
    }
   ],
   "source": [
    "# find country testing example\n",
    "country_example = 'Department of Design & Innovation, The Weatherhead School of Management, Case Western Reserve University, 10900 Euclid Avenue, Cleveland, Ohio 44106-7235 U.S.A. | Warwick Business School, University of Warwick, Coventry CV4 7RL UNITED KINGDOM'\n",
    "\n",
    "aff_text = clean_text(country_example)\n",
    "country = find_country(aff_text)\n",
    "\n",
    "if country == 'no country found':\n",
    "    print('no luck')\n",
    "else:\n",
    "    print(country)"
   ]
  },
  {
   "cell_type": "code",
   "execution_count": 10,
   "metadata": {
    "tags": []
   },
   "outputs": [
    {
     "output_type": "stream",
     "name": "stdout",
     "text": "<class 'pandas.core.frame.DataFrame'>\nRangeIndex: 97795 entries, 0 to 97794\nData columns (total 6 columns):\n #   Column         Non-Null Count  Dtype \n---  ------         --------------  ----- \n 0   name           97795 non-null  object\n 1   wikipedia_url  33274 non-null  object\n 2   links          97795 non-null  object\n 3   city           97795 non-null  object\n 4   state          36035 non-null  object\n 5   country        97795 non-null  object\ndtypes: object(6)\nmemory usage: 4.5+ MB\n"
    }
   ],
   "source": [
    "# grid\n",
    "grid = pd.read_csv('../data/grid-parsed.csv')\n",
    "grid.info()"
   ]
  },
  {
   "cell_type": "code",
   "execution_count": 11,
   "metadata": {},
   "outputs": [],
   "source": [
    "# change all to lowercase\n",
    "grid['name'] = grid['name'].str.lower()\n",
    "grid['city'] = grid['city'].str.lower()\n",
    "grid['state'] = grid['state'].str.lower()\n",
    "grid['country'] = grid['country'].str.lower()"
   ]
  },
  {
   "cell_type": "code",
   "execution_count": 12,
   "metadata": {},
   "outputs": [
    {
     "output_type": "execute_result",
     "data": {
      "text/plain": "['australian national university',\n 'monash university',\n 'university of queensland',\n 'macquarie university',\n 'unsw sydney']"
     },
     "metadata": {},
     "execution_count": 12
    }
   ],
   "source": [
    "# get name list\n",
    "grid_name_list = grid['name'].tolist()\n",
    "grid_name_list[0:5]"
   ]
  },
  {
   "cell_type": "code",
   "execution_count": 13,
   "metadata": {},
   "outputs": [
    {
     "output_type": "execute_result",
     "data": {
      "text/plain": "                             name  \\\n0  australian national university   \n1               monash university   \n2        university of queensland   \n3            macquarie university   \n4                     unsw sydney   \n\n                                       wikipedia_url  \\\n0  http://en.wikipedia.org/wiki/Australian_Nation...   \n1     http://en.wikipedia.org/wiki/Monash_University   \n2  http://en.wikipedia.org/wiki/University_of_Que...   \n3  http://en.wikipedia.org/wiki/Macquarie_University   \n4  http://en.wikipedia.org/wiki/University_of_New...   \n\n                          links       city                         state  \\\n0    ['http://www.anu.edu.au/']   canberra  australian capital territory   \n1    ['http://www.monash.edu/']  melbourne                      victoria   \n2     ['http://www.uq.edu.au/']   brisbane                    queensland   \n3         ['http://mq.edu.au/']     sydney               new south wales   \n4  ['https://www.unsw.edu.au/']     sydney               new south wales   \n\n     country  \n0  australia  \n1  australia  \n2  australia  \n3  australia  \n4  australia  ",
      "text/html": "<div>\n<style scoped>\n    .dataframe tbody tr th:only-of-type {\n        vertical-align: middle;\n    }\n\n    .dataframe tbody tr th {\n        vertical-align: top;\n    }\n\n    .dataframe thead th {\n        text-align: right;\n    }\n</style>\n<table border=\"1\" class=\"dataframe\">\n  <thead>\n    <tr style=\"text-align: right;\">\n      <th></th>\n      <th>name</th>\n      <th>wikipedia_url</th>\n      <th>links</th>\n      <th>city</th>\n      <th>state</th>\n      <th>country</th>\n    </tr>\n  </thead>\n  <tbody>\n    <tr>\n      <th>0</th>\n      <td>australian national university</td>\n      <td>http://en.wikipedia.org/wiki/Australian_Nation...</td>\n      <td>['http://www.anu.edu.au/']</td>\n      <td>canberra</td>\n      <td>australian capital territory</td>\n      <td>australia</td>\n    </tr>\n    <tr>\n      <th>1</th>\n      <td>monash university</td>\n      <td>http://en.wikipedia.org/wiki/Monash_University</td>\n      <td>['http://www.monash.edu/']</td>\n      <td>melbourne</td>\n      <td>victoria</td>\n      <td>australia</td>\n    </tr>\n    <tr>\n      <th>2</th>\n      <td>university of queensland</td>\n      <td>http://en.wikipedia.org/wiki/University_of_Que...</td>\n      <td>['http://www.uq.edu.au/']</td>\n      <td>brisbane</td>\n      <td>queensland</td>\n      <td>australia</td>\n    </tr>\n    <tr>\n      <th>3</th>\n      <td>macquarie university</td>\n      <td>http://en.wikipedia.org/wiki/Macquarie_University</td>\n      <td>['http://mq.edu.au/']</td>\n      <td>sydney</td>\n      <td>new south wales</td>\n      <td>australia</td>\n    </tr>\n    <tr>\n      <th>4</th>\n      <td>unsw sydney</td>\n      <td>http://en.wikipedia.org/wiki/University_of_New...</td>\n      <td>['https://www.unsw.edu.au/']</td>\n      <td>sydney</td>\n      <td>new south wales</td>\n      <td>australia</td>\n    </tr>\n  </tbody>\n</table>\n</div>"
     },
     "metadata": {},
     "execution_count": 13
    }
   ],
   "source": [
    "grid.head()"
   ]
  },
  {
   "cell_type": "code",
   "execution_count": 14,
   "metadata": {},
   "outputs": [
    {
     "output_type": "execute_result",
     "data": {
      "text/plain": "'australia'"
     },
     "metadata": {},
     "execution_count": 14
    }
   ],
   "source": [
    "# given a org name, get the country\n",
    "grid[grid['name']=='australian national university']['country'].tolist()[0]"
   ]
  },
  {
   "cell_type": "code",
   "execution_count": 15,
   "metadata": {},
   "outputs": [],
   "source": [
    "# find org by splitting the string and do a keyword based matching\n",
    "def find_org(aff_text):\n",
    "    aff_text = aff_text.replace('|', ',') # replace the pipe symbol with comma for splitting\n",
    "    phrases = aff_text.split(',') # split by comma\n",
    "    phrases = [p.strip().lower() for p in phrases] # strip and change to lower case\n",
    "\n",
    "    # org keywords\n",
    "    org_keywords = ['university', 'institute']\n",
    "\n",
    "    # p is a phrase after splitting such as \"case western reserve university\", k is a keyword in the list above\n",
    "    result = [p for p in phrases if any(k in p for k in org_keywords)]\n",
    "    result = list(set(result))  # remove duplicates if any\n",
    "\n",
    "    if len(result) > 0: # found a org match\n",
    "        return result # return org list\n",
    "    else:\n",
    "        return 'no org found'"
   ]
  },
  {
   "cell_type": "code",
   "execution_count": 16,
   "metadata": {},
   "outputs": [],
   "source": [
    "# find org by splitting the string and do a keyword based matching\n",
    "def find_org_grid(aff_text):\n",
    "    aff_text = aff_text.replace('|', ',') # replace the pipe symbol with comma for splitting\n",
    "    phrases = aff_text.split(',') # split by comma\n",
    "    phrases = [p.strip().lower() for p in phrases] # strip and change to lower case\n",
    "\n",
    "    # org keywords\n",
    "    #org_keywords = ['university', 'institute']\n",
    "    org_keywords = grid_name_list\n",
    "    # p is a phrase after splitting such as \"case western reserve university\", k is a keyword in the list above\n",
    "    result = [p for p in phrases if any(k == p for k in org_keywords)]\n",
    "    #result = [k for k in org_keywords if any(k in p for p in phrases)]\n",
    "    result = list(set(result))  # remove duplicates if any\n",
    "\n",
    "    if len(result) > 0: # found a org match\n",
    "        return result # return org list\n",
    "    else:\n",
    "        return 'no grid org found'"
   ]
  },
  {
   "cell_type": "code",
   "execution_count": 17,
   "metadata": {
    "tags": []
   },
   "outputs": [
    {
     "output_type": "stream",
     "name": "stdout",
     "text": "['case western reserve university', 'university of warwick'] ['case western reserve university', 'university of warwick']\n"
    }
   ],
   "source": [
    "# find institution example\n",
    "institute_example = 'Department of Design & Innovation, The Weatherhead School of Management, Case Western Reserve University, 10900 Euclid Avenue, Cleveland, Ohio 44106-7235 U.S.A. | Warwick Business School, University of Warwick, Coventry CV4 7RL UNITED KINGDOM'\n",
    "\n",
    "org = find_org(institute_example)\n",
    "org_grid = find_org_grid(institute_example)\n",
    "print(org, org_grid)"
   ]
  },
  {
   "cell_type": "code",
   "execution_count": 18,
   "metadata": {
    "tags": [
     "outputPrepend"
    ]
   },
   "outputs": [
    {
     "output_type": "stream",
     "name": "stdout",
     "text": "country:  no country found\nreturned org:  no grid org found\nreturned country:  no country found\nreturned org:  ['university of minnesota']\nreturned country:  ['germany']\nreturned org:  no grid org found\nmultiple org found: ['institute for marketing and media', 'university of hamburg']\nreturned country:  ['usa']\nreturned org:  no grid org found\nreturned country:  no country found\nreturned org:  no grid org found\nreturned country:  ['usa']\nreturned org:  no grid org found\nreturned country:  ['netherlands']\nreturned org:  ['erasmus university rotterdam']\nreturned country:  no country found\nreturned org:  no grid org found\nreturned country:  no country found\nreturned org:  no grid org found\nreturned country:  no country found\nreturned org:  ['college of business administration', 'oklahoma state university']\nmultiple org found: ['college of business administration', 'oklahoma state university']\nreturned country:  no country found\nreturned org:  no grid org found\nreturned country:  ['singapore']\nreturned org:  no grid org found\nreturned country:  no country found\nreturned org: ['university of south florida']\nreturned country:  ['usa']\nreturned org:  ['florida international university']\nreturned country:  ['korea']\nreturned org:  no grid org found\nreturned country:  no country found\nreturned org:  no grid org found\nreturned country:  ['usa']\nreturned org:  ['texas tech university']\nreturned country:  no country found\nreturned org:  no grid org found\nreturned country:  ['usa']\nreturned org:  ['the university of texas at austin']\nreturned country:  no country found\nreturned org: ['bradley university']\nreturned country:  ['israel']\nreturned org:  no grid org found\nreturned country:  no country found\nreturned org:  ['michigan state university']\nreturned country:  no country found\nreturned org:  no grid org found\nreturned country:  no country found\nreturned org:  no grid org found\nreturned country:  ['australia']\nreturned org:  ['queensland university of technology']\nreturned country:  no country found\nreturned org:  ['university of connecticut']\nreturned country:  no country found\nreturned org:  ['university of iowa']\nreturned country:  no country found\nreturned org:  ['university of baltimore']\nreturned country:  ['canada']\nreturned org:  ['university of pennsylvania']\nreturned country:  ['ireland']\nreturned org:  no grid org found\nreturned country:  ['india']\nreturned org:  ['indiana university']\nreturned country:  no country found\nreturned org:  no grid org found\nreturned country:  no country found\nreturned org:  no grid org found\nreturned country:  no country found\nreturned org:  ['tel aviv university']\nreturned country:  ['hong kong']\nreturned org:  no grid org found\nreturned country:  no country found\nreturned org:  ['north-west university']\nreturned country:  ['usa']\nreturned org:  no grid org found\nreturned country:  ['australia']\nreturned org:  ['monash university']\nreturned country:  ['germany']\nreturned org:  ['karlsruhe institute of technology']\nreturned country:  no country found\nreturned org:  no grid org found\nreturned country:  no country found\nreturned org:  no grid org found\nreturned country:  no country found\nreturned org:  ['syracuse university']\nreturned country:  no country found\nreturned org:  no grid org found\nreturned country:  no country found\nreturned org:  ['university of illinois at chicago']\nreturned country:  ['australia']\nreturned org:  no grid org found\nreturned country:  no country found\nreturned org:  no grid org found\nreturned country:  no country found\nreturned org:  ['louisiana state university']\nreturned country:  no country found\nreturned org:  ['university of north carolina at chapel hill']\nreturned country:  no country found\nreturned org:  no grid org found\nreturned country:  no country found\nreturned org:  no grid org found\nreturned country:  ['usa']\nreturned org:  no grid org found\nreturned country:  no country found\nreturned org:  no grid org found\nreturned country:  no country found\nreturned org:  ['oklahoma state university']\nreturned country:  ['australia']\nreturned org:  no grid org found\nreturned country:  no country found\nreturned org:  no grid org found\nreturned country:  ['new zealand']\nreturned org:  no grid org found\nreturned country:  ['australia', 'usa']\nreturned org:  no grid org found\nreturned country:  no country found\nreturned org:  no grid org found\nreturned country:  ['canada']\nreturned org:  ['simon fraser university']\nreturned country:  no country found\nreturned org:  no grid org found\nreturned country:  no country found\nreturned org:  no grid org found\nreturned country:  no country found\nreturned org:  no grid org found\nreturned country:  no country found\nreturned org:  ['university of exeter']\nreturned country:  no country found\nreturned org:  no grid org found\nreturned country:  ['south africa']\nreturned org:  no grid org found\nreturned country:  ['australia']\nreturned org:  ['central queensland university']\nreturned country:  no country found\nreturned org:  ['university of memphis']\nreturned country:  ['usa']\nreturned org:  no grid org found\nreturned country:  no country found\nreturned org:  ['university of southern california']\nreturned country:  no country found\nreturned org:  no grid org found\nreturned country:  no country found\nreturned org:  ['brigham young university']\nreturned country:  ['united kingdom']\nreturned org:  ['university of leeds']\nreturned country:  ['australia']\nreturned org:  no grid org found\nreturned country:  no country found\nreturned org:  ['barton college']\nreturned country:  no country found\nreturned org:  no grid org found\nreturned country:  ['cyprus', 'turkey']\nreturned org:  no grid org found\nreturned country:  ['canada']\nreturned org:  no grid org found\nreturned country:  ['usa']\nreturned org:  ['louisiana state university']\nreturned country:  ['usa']\nreturned org:  ['clemson university']\nreturned country:  ['usa']\nreturned org:  ['college of business administration', 'marquette university']\nmultiple org found: ['college of business administration', 'marquette university']\nreturned country:  no country found\nreturned org:  no grid org found\nreturned country:  no country found\nreturned org:  no grid org found\nreturned country:  no country found\nreturned org:  ['national tsing hua university']\nreturned country:  ['canada', 'germany', 'japan']\nreturned org:  no grid org found\nreturned country:  ['usa']\nreturned org:  ['university of oklahoma']\nreturned country:  no country found\nreturned org:  ['san francisco state university']\nreturned country:  ['switzerland']\nreturned org:  no grid org found\nmultiple org found: ['institute of information management', 'university of st gallen']\nreturned country:  ['georgia']\nreturned org:  ['georgia institute of technology']\nreturned country:  no country found\nreturned org:  no grid org found\nreturned country:  no country found\nreturned org:  ['university of pennsylvania']\nreturned country:  no country found\nreturned org:  ['national central university']\nreturned country:  no country found\nreturned org:  no grid org found\nreturned country:  no country found\nreturned org:  no grid org found\nreturned country:  ['italy']\nreturned org:  no grid org found\nreturned country:  no country found\nreturned org:  no grid org found\nreturned country:  ['singapore']\nreturned org:  ['nanyang technological university']\nreturned country:  ['usa']\nreturned org:  no grid org found\nreturned country:  no country found\nreturned org:  no grid org found\nreturned country:  no country found\nreturned org:  ['depaul university']\nreturned country:  no country found\nreturned org:  ['university of delaware']\nreturned country:  no country found\nreturned org:  ['the university of texas at dallas']\nreturned country:  no country found\nreturned org:  ['american statistical association']\nreturned country:  no country found\nreturned org:  no grid org found\nreturned country:  no country found\nreturned org:  no grid org found\nreturned country:  no country found\nreturned org:  no grid org found\nreturned country:  ['india']\nreturned org:  ['indian school of business']\nreturned country:  ['canada']\nreturned org:  [\"queen's university\"]\nreturned country:  no country found\nreturned org:  ['virginia tech']\nreturned country:  no country found\nreturned org:  ['college of business administration', 'loyola marymount university']\nmultiple org found: ['college of business administration', 'loyola marymount university']\nreturned country:  ['georgia']\nreturned org:  ['university of georgia']\nreturned country:  no country found\nreturned org:  no grid org found\nreturned country:  no country found\nreturned org:  ['florida international university']\nreturned country:  no country found\nreturned org:  ['university of arizona']\nreturned country: ['canada']\nreturned org:  ['acadia university']\nreturned country:  no country found\nreturned org:  ['clemson university']\nreturned country:  no country found\nreturned org:  ['university of southern california']\nreturned country:  no country found\nreturned org:  ['washington state university']\nreturned country:  no country found\nreturned org:  no grid org found\nreturned country:  ['korea']\nreturned org:  ['sungkyunkwan university']\nreturned country: no country found\nreturned org:  no grid org found\nreturned country:  no country found\nreturned org:  ['university of pittsburgh']\nreturned country:  ['australia']\nreturned org:  ['university of melbourne']\nreturned country:  no country found\nreturned org:  no grid org found\nreturned country:  no country found\nreturned org:  no grid org found\nreturned country:  no country found\nreturned org:  no grid org found\nreturned country:  no country found\nreturned org:  no grid org found\nreturned country:  ['hong kong']\nreturned org:  ['city university of hong kong']\nreturned country:  ['usa']\nreturned org:  ['college of business administration']\nreturned country:  ['netherlands']\nreturned org:  no grid org found\nreturned country:  no country found\nreturned org:  ['carnegie mellon university']\nreturned country:  no country found\nreturned org:  ['brigham young university']\nreturned country:  no country found\nreturned org:  ['university of pennsylvania']\nreturned country:  no country found\nreturned org:  ['babson college', 'dartmouth college']\nmultiple org found: ['babson college', 'dartmouth college']\nreturned country:  no country found\nreturned org:  no grid org found\nreturned country:  ['hong kong']\nreturned org:  ['hong kong university of science and technology']\nreturned country:  ['usa']\nreturned org:  no grid org found\nreturned country:  no country found\nreturned org:  no grid org found\nreturned country:  ['norway']\nreturned org:  ['university of oslo']\nreturned country:  ['usa']\nreturned org:  ['university of notre dame']\nreturned country:  no country found\nreturned org:  no grid org found\nreturned country:  no country found\nreturned org:  ['federal reserve bank of new york']\nreturned country:  no country found\nreturned org:  ['university of arizona']\nreturned country:  ['china']\nreturned org:  ['fudan university']\nreturned country:  ['korea']\nreturned org:  ['inha university']\nreturned country:  ['usa']\nreturned org:  ['university of arizona']\nreturned country:  ['india']\nreturned org:  ['ball state university']\nreturned country:  no country found\nreturned org:  ['wayne state university']\nreturned country:  no country found\nreturned org:  no grid org found\nreturned country:  no country found\nreturned org:  ['university of connecticut']\nreturned country:  ['usa']\nreturned org:  ['university of north texas']\nreturned country:  no country found\nreturned org:  ['university of southern california']\nreturned country:  ['israel']\nreturned org:  no grid org found\nreturned country:  no country found\nreturned org:  no grid org found\nreturned country:  no country found\nreturned org:  no grid org found\nreturned country:  ['united kingdom']\nreturned org:  ['royal holloway university of london']\nreturned country:  ['usa']\nreturned org:  ['university of south florida']\nreturned country:  ['germany']\nreturned org:  ['university of paderborn']\nreturned country:  no country found\nreturned org: ['college of business administration', 'university of north florida']\nmultiple org found: ['college of business administration', 'university of north florida']\nreturned country:  no country found\nreturned org:  no grid org found\nreturned country:  no country found\nreturned org:  ['university of houston']\nreturned country:  ['china', 'hong kong']\nreturned org:  ['hong kong polytechnic university']\nreturned country:  ['canada']\nreturned org:  no grid org found\nreturned country:  no country found\nreturned org:  no grid org found\nreturned country:  no country found\nreturned org:  ['university of washington']\nreturned country:  ['germany']\nreturned org:  no grid org found\nreturned country:  no country found\nreturned org:  ['university of minnesota']\nreturned country:  ['usa']\nreturned org:  no grid org found\nreturned country:  no country found\nreturned org:  ['texas a&m university']\nreturned country:  ['usa']\nreturned org:  ['bucknell university']\nreturned country:  ['usa']\nreturned org:  no grid org found\nreturned country:  no country found\nreturned org:  ['syracuse university']\nreturned country:  no country found\nreturned org:  ['university of pittsburgh']\nreturned country:  ['usa']\nreturned org:  ['university of delaware']\nreturned country:  ['korea']\nreturned org:  ['yonsei university']\nreturned country:  ['china']\nreturned org:  ['fudan university']\nreturned country:  ['usa']\nreturned org:  no grid org found\nreturned country:  ['singapore']\nreturned org:  ['national university of singapore']\nreturned country:  no country found\nreturned org:  ['university of florida']\nreturned country:  ['georgia', 'usa']\nreturned org:  ['university of georgia']\nreturned country:  no country found\nreturned org:  ['university of pittsburgh']\nreturned country:  ['united kingdom']\nreturned org:  ['london school of economics and political science']\nreturned country:  no country found\nreturned org:  ['michigan state university']\nreturned country:  ['usa']\nreturned org:  ['nicholls state university']\nreturned country:  ['hong kong']\nreturned org:  ['hong kong university of science and technology']\nreturned country:  ['netherlands']\nreturned org:  ['erasmus university rotterdam']\nreturned country:  no country found\nreturned org:  no grid org found\nreturned country:  ['usa']\nreturned org:  ['carnegie mellon university']\nreturned country:  no country found\nreturned org:  ['university of memphis']\nreturned country:  ['singapore']\nreturned org:  ['national university of singapore']\nreturned country:  no country found\nreturned org:  no grid org found\nreturned country:  no country found\nreturned org:  no grid org found\nreturned country:  no country found\nreturned org:  ['nova southeastern university']\nreturned country:  no country found\nreturned org:  ['university of geneva']\nreturned country:  no country found\nreturned org:  no grid org found\nreturned country:  ['switzerland']\nreturned org: ['university of zurich']\nreturned country:  no country found\nreturned org:  no grid org found\nreturned country:  no country found\nreturned org:  no grid org found\nreturned country:  no country found\nreturned org:  no grid org found\nreturned country:  ['georgia']\nreturned org:  ['georgia state university']\nreturned country:  no country found\nreturned org:  ['george mason university']\nreturned country:  no country found\nreturned org:  no grid org found\nreturned country:  ['australia']\nreturned org:  ['university of sydney']\nreturned country:  no country found\nreturned org:  ['university of delaware']\nreturned country:  ['usa']\nreturned org:  ['university of hartford']\nreturned country:  ['united arab emirates']\nreturned org:  ['united arab emirates university']\nreturned country:  no country found\nreturned org:  ['western illinois university']\nreturned country:  ['canada']\nreturned org:  no grid org found\nreturned country:  no country found\nreturned org:  no grid org found\nreturned country:  no country found\nreturned org:  ['university of kansas']\nreturned country:  ['new zealand']\nreturned org:  no grid org found\nreturned country:  ['georgia']\nreturned org: ['emory university']\nreturned country:  no country found\nreturned org:  no grid org found\nreturned country:  no country found\nreturned org:  ['florida state university']\nreturned country:  ['china']\nreturned org:  ['fudan university']\nreturned country:  no country found\nreturned org:  ['college of business administration', 'university of rhode island']\nmultiple org found: ['college of business administration', 'university of rhode island']\nreturned country:  no country found\nreturned org:  ['virginia tech']\nreturned country:  no country found\nreturned org:  ['university of utah']\nreturned country:  no country found\nreturned org:  no grid org found\nreturned country:  ['spain']\nreturned org:  ['european commission', 'joint research center']\nmultiple org found: ['european commission', 'joint research center']\nreturned country:  no country found\nreturned org:  ['boston university']\nreturned country:  ['georgia']\nreturned org:  ['georgia state university']\nreturned country:  ['canada']\nreturned org:  no grid org found\nreturned country:  no country found\nreturned org:  ['college of business administration', 'texas tech university']\nmultiple org found: ['college of business administration', 'texas tech university']\nreturned country:  no country found\nreturned org:  ['new york university']\nreturned country:  no country found\nreturned org: no grid org found\nreturned country:  ['usa']\nreturned org:  no grid org found\nreturned country:  no country found\nreturned org:  ['arizona state university']\nreturned country:  no country found\nreturned org:  no grid org found\nreturned country:  ['usa']\nreturned org:  ['university of denver']\nreturned country:  ['jersey']\nreturned org:  ['new jersey institute of technology']\nreturned country:  no country found\nreturned org:  no grid org found\nreturned country:  ['germany']\nreturned org:  no grid org found\nreturned country:  no country found\nreturned org:  ['university of florida']\nreturned country:  ['usa']\nreturned org:  no grid org found\nreturned country:  no country found\nreturned org:  no grid org found\nreturned country:  no country found\nreturned org:  no grid org found\nreturned country:  no country found\nreturned org:  no grid org found\nreturned country:  no country found\nreturned org:  no grid org found\nreturned country:  no country found\nreturned org:  ['tulane university']\nreturned country:  no country found\nreturned org:  no grid org found\nreturned country:  no country found\nreturned org:  no grid org found\nreturned country:  no country found\nreturned org:  ['baylor university']\nreturned country:  no country found\nreturned org:  no grid org found\nreturned country:  no country found\nreturned org:  no grid org found\nreturned country:  ['usa']\nreturned org:  ['american university']\nreturned country:  no country found\nreturned org:  no grid org found\nreturned country:  no country found\nreturned org:  ['carnegie mellon university']\nreturned country:  no country found\nreturned org:  no grid org found\nreturned country:  no country found\nreturned org:  no grid org found\nreturned country:  no country found\nreturned org:  ['state university of new york']\nreturned country:  ['jersey']\nreturned org:  ['new jersey institute of technology']\nreturned country:  no country found\nreturned org:  no grid org found\nreturned country:  no country found\nreturned org:  ['fairfield university']\nreturned country:  ['usa']\nreturned org:  no grid org found\nreturned country:  no country found\nreturned org:  no grid org found\nreturned country:  no country found\nreturned org:  ['college of business administration', 'university of denver']\nmultiple org found: ['college of business administration', 'university of denver']\nCPU times: user 11.4 s, sys: 328 ms, total: 11.7 s\nWall time: 14.8 s\n"
    }
   ],
   "source": [
    "%%time\n",
    "# About wall time: 2min 30s for full dataset\n",
    "# parsing the country and organization \n",
    "current_aff = {}\n",
    "all_aff =[] # final country info dict\n",
    "country_match = 0\n",
    "org_match = 0\n",
    "for i in range(len(authors)): # loop over all authors\n",
    "    aff_text = authors['affiliation'][i]  # get author affiliation string\n",
    "    \n",
    "    # clean up the text\n",
    "    aff_text = clean_text(aff_text) \n",
    "\n",
    "    # find country\n",
    "    country = find_country(aff_text) \n",
    "    print('returned country: ', country)\n",
    "    \n",
    "    if country == 'no country found':\n",
    "        current_aff = {\n",
    "            'country': '', # country null\n",
    "            'multi_country': '', # multiple country null\n",
    "            }\n",
    "    else:\n",
    "        country_match += 1\n",
    "        if len(country) > 1:  # multiple country found\n",
    "            # print('multiple country found:', country)\n",
    "\n",
    "            current_aff = {\n",
    "                'country': '', \n",
    "                'multi_country': country,\n",
    "                }\n",
    "        else: # a single country is found\n",
    "            #print(country[0]) \n",
    "            current_aff = {\n",
    "                'country': country[0], \n",
    "                'multi_country': '',\n",
    "                }\n",
    "\n",
    "    # find org \n",
    "    \n",
    "    org = find_org_grid(aff_text)\n",
    "    print('returned org: ', org)\n",
    "    \n",
    "    if org == 'no grid org found': # search based on grid dataset found no match\n",
    "        org = find_org(aff_text) # search based on keywords\n",
    "        if org == 'no org found':\n",
    "            current_aff.update(org='', multi_org='') # no org found\n",
    "        else:\n",
    "            org_match += 1\n",
    "            if len(org) > 1:  # multiple org found\n",
    "                print('multiple org found:', org)\n",
    "                current_aff.update(org='', multi_org=org)\n",
    "            else:\n",
    "                #print(org[0]) # a single org is found\n",
    "                current_aff.update(org=org[0], multi_org='')\n",
    "    else:\n",
    "        org_match += 1\n",
    "        if len(org) > 1:  # multiple org found\n",
    "            print('multiple org found:', org)\n",
    "            current_aff.update(org='', multi_org=org)\n",
    "        else:\n",
    "            #print(org[0]) # a single org is found\n",
    "            # update the country using grid country if not country found\n",
    "            country_grid = grid[grid['name']==org[0]]['country'].tolist()[0]\n",
    "            if country == 'no country found': # set country and set multi-country to none\n",
    "                current_aff.update(org=org[0], multi_org='', country=country_grid, multi_country='')\n",
    "            else: \n",
    "                current_aff.update(org=org[0], multi_org='')\n",
    "    all_aff.append(current_aff)"
   ]
  },
  {
   "cell_type": "code",
   "execution_count": 19,
   "metadata": {
    "tags": []
   },
   "outputs": [
    {
     "output_type": "stream",
     "name": "stdout",
     "text": "197 376\n"
    }
   ],
   "source": [
    "# sample data results\n",
    "# country match 2611, org match (grid) 3382 about 2 minutes\n",
    "# country match 2611, org match (keyword) 4611 about 5 sec.\n",
    "print(country_match, org_match)"
   ]
  },
  {
   "cell_type": "code",
   "execution_count": 20,
   "metadata": {
    "tags": []
   },
   "outputs": [
    {
     "output_type": "stream",
     "name": "stdout",
     "text": "<class 'pandas.core.frame.DataFrame'>\nRangeIndex: 500 entries, 0 to 499\nData columns (total 4 columns):\n #   Column         Non-Null Count  Dtype \n---  ------         --------------  ----- \n 0   country        500 non-null    object\n 1   multi_country  500 non-null    object\n 2   org            500 non-null    object\n 3   multi_org      500 non-null    object\ndtypes: object(4)\nmemory usage: 15.8+ KB\n"
    }
   ],
   "source": [
    "# convert the resulting dict to pandas dataframe\n",
    "import pandas as pd\n",
    "\n",
    "aff_parsed = pd.DataFrame(all_aff)\n",
    "aff_parsed.info()"
   ]
  },
  {
   "cell_type": "code",
   "execution_count": 21,
   "metadata": {},
   "outputs": [],
   "source": [
    "# add new columns to the exsting df\n",
    "authors_parsed = pd.concat([authors, aff_parsed], axis=1)"
   ]
  },
  {
   "cell_type": "markdown",
   "metadata": {},
   "source": [
    "## Georgia and USA \n",
    "\n",
    "handle georgia as a state and a country\n",
    "\n",
    "- multi country has georgia and other country - remove georgia and use other country as the country\n",
    "\n",
    "- match org with grid and use the found country"
   ]
  },
  {
   "cell_type": "code",
   "execution_count": 22,
   "metadata": {},
   "outputs": [
    {
     "output_type": "execute_result",
     "data": {
      "text/plain": "       id             full_name first_name  last_name middle_name  \\\n23   3280  Slaughter, Sandra A.     Sandra  Slaughter          A.   \n33   3808       Storey, Veda C.       Veda     Storey          C.   \n124  1448  Gallivan, Michael J.    Michael   Gallivan          J.   \n128  4034         Thomas, Helen      Helen     Thomas        None   \n138  4922      Sarkar, Sumantra   Sumantra     Sarkar        None   \n\n                           email  \\\n23              asang@ntu.edu.sg   \n33           vstorey@cis.gsu.edu   \n124            mgallivan@gsu.edu   \n128  helen@loochi.mgt.gatech.edu   \n138                          nan   \n\n                                           affiliation  country  \\\n23   Scheller College of Business, Georgia Institut...  georgia   \n33   Computer Information Systems Department, J. Ma...  georgia   \n124  Computer Information Systems Department, J. Ma...            \n128  DuPree College of Management, Georgia Institut...  georgia   \n138  J. Mack Robinson College of Business, Georgia ...  georgia   \n\n      multi_country                              org multi_org  \n23                   georgia institute of technology            \n33                          georgia state university            \n124  [georgia, usa]         georgia state university            \n128                  georgia institute of technology            \n138                         georgia state university            ",
      "text/html": "<div>\n<style scoped>\n    .dataframe tbody tr th:only-of-type {\n        vertical-align: middle;\n    }\n\n    .dataframe tbody tr th {\n        vertical-align: top;\n    }\n\n    .dataframe thead th {\n        text-align: right;\n    }\n</style>\n<table border=\"1\" class=\"dataframe\">\n  <thead>\n    <tr style=\"text-align: right;\">\n      <th></th>\n      <th>id</th>\n      <th>full_name</th>\n      <th>first_name</th>\n      <th>last_name</th>\n      <th>middle_name</th>\n      <th>email</th>\n      <th>affiliation</th>\n      <th>country</th>\n      <th>multi_country</th>\n      <th>org</th>\n      <th>multi_org</th>\n    </tr>\n  </thead>\n  <tbody>\n    <tr>\n      <th>23</th>\n      <td>3280</td>\n      <td>Slaughter, Sandra A.</td>\n      <td>Sandra</td>\n      <td>Slaughter</td>\n      <td>A.</td>\n      <td>asang@ntu.edu.sg</td>\n      <td>Scheller College of Business, Georgia Institut...</td>\n      <td>georgia</td>\n      <td></td>\n      <td>georgia institute of technology</td>\n      <td></td>\n    </tr>\n    <tr>\n      <th>33</th>\n      <td>3808</td>\n      <td>Storey, Veda C.</td>\n      <td>Veda</td>\n      <td>Storey</td>\n      <td>C.</td>\n      <td>vstorey@cis.gsu.edu</td>\n      <td>Computer Information Systems Department, J. Ma...</td>\n      <td>georgia</td>\n      <td></td>\n      <td>georgia state university</td>\n      <td></td>\n    </tr>\n    <tr>\n      <th>124</th>\n      <td>1448</td>\n      <td>Gallivan, Michael J.</td>\n      <td>Michael</td>\n      <td>Gallivan</td>\n      <td>J.</td>\n      <td>mgallivan@gsu.edu</td>\n      <td>Computer Information Systems Department, J. Ma...</td>\n      <td></td>\n      <td>[georgia, usa]</td>\n      <td>georgia state university</td>\n      <td></td>\n    </tr>\n    <tr>\n      <th>128</th>\n      <td>4034</td>\n      <td>Thomas, Helen</td>\n      <td>Helen</td>\n      <td>Thomas</td>\n      <td>None</td>\n      <td>helen@loochi.mgt.gatech.edu</td>\n      <td>DuPree College of Management, Georgia Institut...</td>\n      <td>georgia</td>\n      <td></td>\n      <td>georgia institute of technology</td>\n      <td></td>\n    </tr>\n    <tr>\n      <th>138</th>\n      <td>4922</td>\n      <td>Sarkar, Sumantra</td>\n      <td>Sumantra</td>\n      <td>Sarkar</td>\n      <td>None</td>\n      <td>nan</td>\n      <td>J. Mack Robinson College of Business, Georgia ...</td>\n      <td>georgia</td>\n      <td></td>\n      <td>georgia state university</td>\n      <td></td>\n    </tr>\n  </tbody>\n</table>\n</div>"
     },
     "metadata": {},
     "execution_count": 22
    }
   ],
   "source": [
    "# make a test set\n",
    "georgia_test = authors_parsed[authors_parsed['org'].str.contains('georgia')].copy()  \n",
    "georgia_test.head()"
   ]
  },
  {
   "cell_type": "code",
   "execution_count": 23,
   "metadata": {},
   "outputs": [],
   "source": [
    "# georgia rules\n",
    "for index, row in georgia_test.iterrows():\n",
    "    # georgia rule 1: if georgia is in multi_country - use the other coutnry as the country\n",
    "    multi_country = row['multi_country']\n",
    "\n",
    "    if 'georgia' in multi_country:\n",
    "        multi_country.remove('georgia')\n",
    "        georgia_test.at[index, 'country'] = multi_country[0]\n",
    "        georgia_test.at[index, 'multi_country'] = ''\n",
    "    \n",
    "    # rule 2: match org and use grid country as country\n",
    "    current_org = row['org']\n",
    "    grid_matched_country = grid[grid['name']==current_org]['country']\n",
    "    if len(grid_matched_country) > 0:  # found a match\n",
    "        georgia_test.at[index, 'country'] = grid_matched_country.values[0]"
   ]
  },
  {
   "cell_type": "code",
   "execution_count": 24,
   "metadata": {},
   "outputs": [
    {
     "output_type": "execute_result",
     "data": {
      "text/plain": "      id          full_name first_name     last_name middle_name  \\\n2   1961    George, Joey F.       Joey        George          F.   \n3   1080    Ellen Moore, Jo         Jo   Ellen Moore        None   \n4    244   Lynne Markus, M.         M.  Lynne Markus        None   \n8   4053   Nault, Barrie R.     Barrie         Nault          R.   \n15   623  Leonardi, Paul M.       Paul      Leonardi          M.   \n\n                       email  \\\n2        jgeorge@cob.fsu.edu   \n3           joemoor@siue.edu   \n4       MLMarkus@bentley.edu   \n8   nault@cob.ohio-state.edu   \n15     Leonardi@tmp.ucsb.edu   \n\n                                          affiliation        country  \\\n2   Department of Information & Management Science...  united states   \n3   Southern Illinois University Edwardsville, Cam...  united states   \n4   Information and Process Management Department,...  united states   \n8   Fisher College of Business, Ohio State Univers...  united states   \n15                                                nan  united states   \n\n   multi_country                                        org multi_org  \n2                                  florida state university            \n3                 southern illinois university edwardsville            \n4                                        bentley university            \n8                                     ohio state university            \n15                                                                     ",
      "text/html": "<div>\n<style scoped>\n    .dataframe tbody tr th:only-of-type {\n        vertical-align: middle;\n    }\n\n    .dataframe tbody tr th {\n        vertical-align: top;\n    }\n\n    .dataframe thead th {\n        text-align: right;\n    }\n</style>\n<table border=\"1\" class=\"dataframe\">\n  <thead>\n    <tr style=\"text-align: right;\">\n      <th></th>\n      <th>id</th>\n      <th>full_name</th>\n      <th>first_name</th>\n      <th>last_name</th>\n      <th>middle_name</th>\n      <th>email</th>\n      <th>affiliation</th>\n      <th>country</th>\n      <th>multi_country</th>\n      <th>org</th>\n      <th>multi_org</th>\n    </tr>\n  </thead>\n  <tbody>\n    <tr>\n      <th>2</th>\n      <td>1961</td>\n      <td>George, Joey F.</td>\n      <td>Joey</td>\n      <td>George</td>\n      <td>F.</td>\n      <td>jgeorge@cob.fsu.edu</td>\n      <td>Department of Information &amp; Management Science...</td>\n      <td>united states</td>\n      <td></td>\n      <td>florida state university</td>\n      <td></td>\n    </tr>\n    <tr>\n      <th>3</th>\n      <td>1080</td>\n      <td>Ellen Moore, Jo</td>\n      <td>Jo</td>\n      <td>Ellen Moore</td>\n      <td>None</td>\n      <td>joemoor@siue.edu</td>\n      <td>Southern Illinois University Edwardsville, Cam...</td>\n      <td>united states</td>\n      <td></td>\n      <td>southern illinois university edwardsville</td>\n      <td></td>\n    </tr>\n    <tr>\n      <th>4</th>\n      <td>244</td>\n      <td>Lynne Markus, M.</td>\n      <td>M.</td>\n      <td>Lynne Markus</td>\n      <td>None</td>\n      <td>MLMarkus@bentley.edu</td>\n      <td>Information and Process Management Department,...</td>\n      <td>united states</td>\n      <td></td>\n      <td>bentley university</td>\n      <td></td>\n    </tr>\n    <tr>\n      <th>8</th>\n      <td>4053</td>\n      <td>Nault, Barrie R.</td>\n      <td>Barrie</td>\n      <td>Nault</td>\n      <td>R.</td>\n      <td>nault@cob.ohio-state.edu</td>\n      <td>Fisher College of Business, Ohio State Univers...</td>\n      <td>united states</td>\n      <td></td>\n      <td>ohio state university</td>\n      <td></td>\n    </tr>\n    <tr>\n      <th>15</th>\n      <td>623</td>\n      <td>Leonardi, Paul M.</td>\n      <td>Paul</td>\n      <td>Leonardi</td>\n      <td>M.</td>\n      <td>Leonardi@tmp.ucsb.edu</td>\n      <td>nan</td>\n      <td>united states</td>\n      <td></td>\n      <td></td>\n      <td></td>\n    </tr>\n  </tbody>\n</table>\n</div>"
     },
     "metadata": {},
     "execution_count": 24
    }
   ],
   "source": [
    "# if email ends with .edu, change country to united states\n",
    "edu_email_test = authors_parsed[authors_parsed['email'].str.endswith(\"edu\")]\n",
    "\n",
    "for index, row in edu_email_test.iterrows():\n",
    "        edu_email_test.at[index, 'country'] = 'united states'\n",
    "\n",
    "edu_email_test.head()"
   ]
  },
  {
   "cell_type": "code",
   "execution_count": 25,
   "metadata": {},
   "outputs": [],
   "source": [
    "# if country is empty, default to united states based on sample data analysis\n",
    "for index, row in edu_email_test.iterrows():\n",
    "        if row['country'] == '':  # country empty\n",
    "            edu_email_test.at[index, 'country'] = 'united states'"
   ]
  },
  {
   "cell_type": "code",
   "execution_count": 26,
   "metadata": {},
   "outputs": [],
   "source": [
    "# no org identified\n",
    "no_org_df = authors_parsed[(authors_parsed['org']=='') & (authors_parsed['multi_org']=='')]\n",
    "# no country identified\n",
    "no_country_df = authors_parsed[(authors_parsed['country']=='') & (authors_parsed['multi_country']=='')]"
   ]
  },
  {
   "cell_type": "code",
   "execution_count": 27,
   "metadata": {
    "tags": []
   },
   "outputs": [
    {
     "output_type": "stream",
     "name": "stdout",
     "text": "164 124\n"
    }
   ],
   "source": [
    "print(len(no_country_df), len(no_org_df))"
   ]
  },
  {
   "cell_type": "code",
   "execution_count": 52,
   "metadata": {
    "tags": []
   },
   "outputs": [
    {
     "output_type": "stream",
     "name": "stdout",
     "text": "china\n"
    }
   ],
   "source": [
    "from email2country import email2country, email2institution_country\n",
    "email = 'test@tju.edu.cn'\n",
    "email_country = email2institution_country(email)\n",
    "if email_country:\n",
    "    print(email_country.lower())\n",
    "else:\n",
    "    print('no found')"
   ]
  },
  {
   "cell_type": "code",
   "execution_count": 53,
   "metadata": {},
   "outputs": [],
   "source": [
    "# post processing handles the followings:\n",
    "# - georgia and country\n",
    "# - email to country rule\n",
    "# - empty country rule\n",
    "# - acronym rule (nyu, mit, etc.)\n",
    "# - institution names that are not seperated by comma\n",
    "\n",
    "from email2country import email2institution_country\n",
    "\n",
    "def postprocessing(df):\n",
    "    for index, row in df.iterrows():\n",
    "        # empty country rule 1: if country is empty, default to united states based on sample data analysis\n",
    "        if row['country'] == '':  # country empty\n",
    "            df.at[index, 'country'] = 'united states'\n",
    "        \n",
    "        # georgia rule 1: if georgia is in multi_country - use the other coutnry as the country\n",
    "        multi_country = row['multi_country']\n",
    "\n",
    "        if 'georgia' in multi_country:\n",
    "            multi_country.remove('georgia')\n",
    "            df.at[index, 'country'] = multi_country[0]\n",
    "            df.at[index, 'multi_country'] = ''\n",
    "        \n",
    "        # georgia rule 2: match org and use grid country as country\n",
    "        current_org = row['org']\n",
    "        grid_matched_country = grid[grid['name']==current_org]['country']\n",
    "        if len(grid_matched_country) > 0:  # found a match\n",
    "            df.at[index, 'country'] = grid_matched_country.values[0]\n",
    "\n",
    "        # email rules\n",
    "        if row['email'] != 'nan':\n",
    "            country = email2institution_country(row['email'])\n",
    "            if country:\n",
    "                df.at[index, 'country'] = country.lower()\n",
    "        \n",
    "        # use grid list to match the affiliation (previously was seperated by comma)\n",
    "        # \"Center for Information Management Studies Babson College\" - we want to match \"babson college\"\n",
    "        if row['org']=='':\n",
    "            short_org_names = ['nyu', 'mit', 'cmu', 'ucla', 'ibm']\n",
    "            aff = row['affiliation'].lower()\n",
    "            # p is a phrase after splitting such as \"case western reserve university\", k is a keyword in the list above\n",
    "            matched_org = [p for p in grid_name_list if p in aff]\n",
    "            if len(matched_org) > 0: # found a org match\n",
    "                df.at[index, 'org'] = matched_org[0]"
   ]
  },
  {
   "cell_type": "code",
   "execution_count": 54,
   "metadata": {
    "tags": []
   },
   "outputs": [
    {
     "output_type": "stream",
     "name": "stdout",
     "text": "[Info] Country not found for \"cob.ohio-state.edu\"\n[Info] Email domain \"gmail.com\" is generic. There is no specific country.\n[Info] Email domain \"hotmail.com\" is generic. There is no specific country.\n[Info] Country not found for \"tntec.edu\"\n[Info] Email domain \"hotmail.com\" is generic. There is no specific country.\n[Info] Email domain \"gmail.com\" is generic. There is no specific country.\n[Info] Email domain \"gmail.com\" is generic. There is no specific country.\n[Info] Country not found for \"hbs.edu\"\n[Info] Email domain \"gmail.com\" is generic. There is no specific country.\n[Info] Email domain \"gmail.com\" is generic. There is no specific country.\n[Info] Email domain \"gmail.com\" is generic. There is no specific country.\n[Info] Country not found for \"ny.frb.org\"\n[Info] Email domain \"gmail.com\" is generic. There is no specific country.\n"
    }
   ],
   "source": [
    "postprocessing(authors_parsed)"
   ]
  },
  {
   "cell_type": "code",
   "execution_count": 55,
   "metadata": {
    "tags": []
   },
   "outputs": [
    {
     "output_type": "stream",
     "name": "stdout",
     "text": "0 112\n"
    }
   ],
   "source": [
    "# no org identified\n",
    "no_org_df = authors_parsed[(authors_parsed['org']=='') & (authors_parsed['multi_org']=='')]\n",
    "# no country identified\n",
    "no_country_df = authors_parsed[(authors_parsed['country']=='') & (authors_parsed['multi_country']=='')]\n",
    "print(len(no_country_df), len(no_org_df))"
   ]
  },
  {
   "cell_type": "code",
   "execution_count": 56,
   "metadata": {},
   "outputs": [
    {
     "output_type": "execute_result",
     "data": {
      "text/plain": "       id             full_name first_name     last_name middle_name  \\\n0    1736          Zigurs, Ilze       Ilze        Zigurs        None   \n10   4119        Dedrick, Jason      Jason       Dedrick        None   \n15    623     Leonardi, Paul M.       Paul      Leonardi          M.   \n24   3247          Murray, Alan       Alan        Murray        None   \n25   4798            Deng, Jing       Jing          Deng        None   \n27    363  Durcikova, Alexandra  Alexandra     Durcikova        None   \n32    512    Greenwood, Brad N.       Brad     Greenwood          N.   \n34    460  Cheng, Hsing Kenneth      Hsing         Cheng     Kenneth   \n41   4515             Dong, Wei        Wei          Dong        None   \n45   4414   Qahri-Saremi, Hamed      Hamed  Qahri-Saremi        None   \n47    458           Lim, Arthur     Arthur           Lim        None   \n55    717          Lee, Jae Kyu        Jae           Lee         Kyu   \n56   4539             Mai, Feng       Feng           Mai        None   \n57   4610  Gunarathne, Priyanga   Priyanga    Gunarathne        None   \n69   5601   FRANCALANCI, CHIARA     CHIARA   FRANCALANCI        None   \n71    657          Yeow, Adrian     Adrian          Yeow        None   \n83   1610    DeGross, Janice I.     Janice       DeGross          I.   \n85   4366            Yoo, Eunae      Eunae           Yoo        None   \n87    608          Joshi, K. D.         K.         Joshi          D.   \n94   4375   Hou, Jinghui (Jove)    Jinghui           Hou      (Jove)   \n97   4416          Nan, Guofang    Guofang           Nan        None   \n101   588       Zmud, Robert W.     Robert          Zmud          W.   \n102  2627     Vierck, Robert K.     Robert        Vierck          K.   \n107  3207  Gorgoglione, Michele    Michele   Gorgoglione        None   \n109  4775   Liginlal, Divakaran  Divakaran      Liginlal        None   \n115   749           Kumar, Anuj       Anuj         Kumar        None   \n118   360           Huang, Peng       Peng         Huang        None   \n120  2242     Harris, Sidney E.     Sidney        Harris          E.   \n122  4760         Prat, Nicolas    Nicolas          Prat        None   \n127  4444    Giboney, Justin S.     Justin       Giboney          S.   \n132   437         Liangfei, Qiu        Qiu      Liangfei        None   \n133  4790       Walter, Zhiping    Zhiping        Walter        None   \n153  1786      Markus, M. Lynne         M.        Markus       Lynne   \n161  4744            Blohm, Ivo        Ivo         Blohm        None   \n162  2661          McNeil, D.H.       D.H.        McNeil        None   \n163   585            Masli, Adi        Adi         Masli        None   \n164  2348       Braden, Barbara    Barbara        Braden        None   \n165  2173     Stutt, Richard J.    Richard         Stutt          J.   \n168  4614          Veit, Daniel     Daniel          Veit        None   \n172  2014      Farwell, Douglas    Douglas       Farwell        None   \n179   509    Sundararajan, Arun       Arun  Sundararajan        None   \n181  6082    Karmarkar, Uday S.       Uday     Karmarkar          S.   \n187  2923           Mitra, Saby       Saby         Mitra        None   \n196  1855   Applegate, Lynda M.      Lynda     Applegate          M.   \n199  4377          Kim, Sung S.       Sung           Kim          S.   \n204  4749       Boughzala, Imed       Imed     Boughzala        None   \n205  1128     Straub, Detmar W.     Detmar        Straub          W.   \n208  4558         Kumar, Naveen     Naveen         Kumar        None   \n213  3877   Narasimhan, Sridhar    Sridhar    Narasimhan        None   \n217  2186       Dennis, Alan R.       Alan        Dennis          R.   \n\n                                       email  \\\n0                                        nan   \n10                                       nan   \n15                     Leonardi@tmp.ucsb.edu   \n24                 alan@coriolisventures.com   \n25                                       nan   \n27                               alex@ou.edu   \n32                      greenwood@temple.edu   \n34            kenny.cheng@warrington.ufl.edu   \n41                 weidong1@mail.ustc.edu.cn   \n45                   hamed.saremi@depaul.edu   \n47                          arthurlim@nd.edu   \n55                jklee@business.kaist.ac.kr   \n56                      feng.mai@stevens.edu   \n57   priyanga.gunarathne@simon.rochester.edu   \n69                                       nan   \n71                adrianyeowyk@unisim.edu.sg   \n83                                       nan   \n85                              eyoo@utk.edu   \n87                             joshi@wsu.edu   \n94                         jhou@bauer.uh.edu   \n97                          gfnan@tju.edu.cn   \n101                             rzmud@ou.edu   \n102                                      nan   \n107            michele.gorgoglione@poliba.it   \n109                                      nan   \n115                          akumar1@ufl.edu   \n118                  phuang1@rhsmith.umd.edu   \n120                                      nan   \n122                           prat@essec.edu   \n127                                      nan   \n132                      liangfeiqiu@ufl.edu   \n133                                      nan   \n153                                      nan   \n161                Christoph.Peters@unisg.ch   \n162                                      nan   \n163                            amasli@ku.edu   \n164                                      nan   \n165                                      nan   \n168                veit@wiwi.uni-augsburg.de   \n172                           trauth@neu.edu   \n179                       arun@stern.nyu.edu   \n181                                      nan   \n187           saby.mitra@scheller.gatech.edu   \n196                                      nan   \n199                         skm@bus.wisc.edu   \n204            Imed.boughzala@it-sudparis.eu   \n205                          dstraub@gsu.edu   \n208                      nkumar7@memphis.edu   \n213            sri.narasimhan@mgt.gatech.edu   \n217                                      nan   \n\n                                           affiliation         country  \\\n0                                                  nan   united states   \n10                                                 nan   united states   \n15                                                 nan   united states   \n24             Coriolis Labs, New York, New York 10021   united states   \n25                                                 nan   united states   \n27                                                 nan   united states   \n32                                                 nan   united states   \n34                                                 nan   united states   \n41                                                 nan           china   \n45                                                 nan   united states   \n47                                                 nan   united states   \n55                                                 nan     south korea   \n56                                                 nan   united states   \n57                                                 nan   united states   \n69   Associate Professor of information systems, Po...   united states   \n71                                                 nan       singapore   \n83                                                 nan   united states   \n85                                                 nan   united states   \n87                                                 nan   united states   \n94                                                 nan   united states   \n97                                                 nan           china   \n101                                                nan   united states   \n102  Director of Information Services for Dillingha...   united states   \n107             Politecnico di Bari, 70126 Bari, Italy           italy   \n109                                                nan   united states   \n115                                                nan   united states   \n118                                                nan   united states   \n120   The Peter Drucker Graduate Center, Claremont, CA   united states   \n122                                                nan   united states   \n127                                                nan   united states   \n132                                                nan   united states   \n133                                                nan   united states   \n153                                                nan   united states   \n161                                                nan     switzerland   \n162                                                nan   united states   \n163                                                nan   united states   \n164  Bull HN Worldwide Information Systems 300 Conc...   united states   \n165  5711 Bent Branch Road, Weiss Associates, Inc. ...             usa   \n168                                                nan         germany   \n172  CSC Consulting and Systems Integration, 1 Newt...   united states   \n179                                                nan   united states   \n181  Times Mirror Professor of Strategy, Anderson G...   united states   \n187  Scheller College of Business, Georgia Insitute...   united states   \n196                                                nan   united states   \n199                                                nan   united states   \n204                                                nan  european union   \n205                                  Editor-in-Chief,    united states   \n208                                                nan   united states   \n213  College of Management, Georgia Tech, 800 West ...   united states   \n217                                                nan   united states   \n\n    multi_country org multi_org  \n0                                \n10                               \n15                               \n24                               \n25                               \n27                               \n32                               \n34                               \n41                               \n45                               \n47                               \n55                               \n56                               \n57                               \n69                               \n71                               \n83                               \n85                               \n87                               \n94                               \n97                               \n101                              \n102                              \n107                              \n109                              \n115                              \n118                              \n120                              \n122                              \n127                              \n132                              \n133                              \n153                              \n161                              \n162                              \n163                              \n164                              \n165                              \n168                              \n172                              \n179                              \n181                              \n187                              \n196                              \n199                              \n204                              \n205                              \n208                              \n213                              \n217                              ",
      "text/html": "<div>\n<style scoped>\n    .dataframe tbody tr th:only-of-type {\n        vertical-align: middle;\n    }\n\n    .dataframe tbody tr th {\n        vertical-align: top;\n    }\n\n    .dataframe thead th {\n        text-align: right;\n    }\n</style>\n<table border=\"1\" class=\"dataframe\">\n  <thead>\n    <tr style=\"text-align: right;\">\n      <th></th>\n      <th>id</th>\n      <th>full_name</th>\n      <th>first_name</th>\n      <th>last_name</th>\n      <th>middle_name</th>\n      <th>email</th>\n      <th>affiliation</th>\n      <th>country</th>\n      <th>multi_country</th>\n      <th>org</th>\n      <th>multi_org</th>\n    </tr>\n  </thead>\n  <tbody>\n    <tr>\n      <th>0</th>\n      <td>1736</td>\n      <td>Zigurs, Ilze</td>\n      <td>Ilze</td>\n      <td>Zigurs</td>\n      <td>None</td>\n      <td>nan</td>\n      <td>nan</td>\n      <td>united states</td>\n      <td></td>\n      <td></td>\n      <td></td>\n    </tr>\n    <tr>\n      <th>10</th>\n      <td>4119</td>\n      <td>Dedrick, Jason</td>\n      <td>Jason</td>\n      <td>Dedrick</td>\n      <td>None</td>\n      <td>nan</td>\n      <td>nan</td>\n      <td>united states</td>\n      <td></td>\n      <td></td>\n      <td></td>\n    </tr>\n    <tr>\n      <th>15</th>\n      <td>623</td>\n      <td>Leonardi, Paul M.</td>\n      <td>Paul</td>\n      <td>Leonardi</td>\n      <td>M.</td>\n      <td>Leonardi@tmp.ucsb.edu</td>\n      <td>nan</td>\n      <td>united states</td>\n      <td></td>\n      <td></td>\n      <td></td>\n    </tr>\n    <tr>\n      <th>24</th>\n      <td>3247</td>\n      <td>Murray, Alan</td>\n      <td>Alan</td>\n      <td>Murray</td>\n      <td>None</td>\n      <td>alan@coriolisventures.com</td>\n      <td>Coriolis Labs, New York, New York 10021</td>\n      <td>united states</td>\n      <td></td>\n      <td></td>\n      <td></td>\n    </tr>\n    <tr>\n      <th>25</th>\n      <td>4798</td>\n      <td>Deng, Jing</td>\n      <td>Jing</td>\n      <td>Deng</td>\n      <td>None</td>\n      <td>nan</td>\n      <td>nan</td>\n      <td>united states</td>\n      <td></td>\n      <td></td>\n      <td></td>\n    </tr>\n    <tr>\n      <th>27</th>\n      <td>363</td>\n      <td>Durcikova, Alexandra</td>\n      <td>Alexandra</td>\n      <td>Durcikova</td>\n      <td>None</td>\n      <td>alex@ou.edu</td>\n      <td>nan</td>\n      <td>united states</td>\n      <td></td>\n      <td></td>\n      <td></td>\n    </tr>\n    <tr>\n      <th>32</th>\n      <td>512</td>\n      <td>Greenwood, Brad N.</td>\n      <td>Brad</td>\n      <td>Greenwood</td>\n      <td>N.</td>\n      <td>greenwood@temple.edu</td>\n      <td>nan</td>\n      <td>united states</td>\n      <td></td>\n      <td></td>\n      <td></td>\n    </tr>\n    <tr>\n      <th>34</th>\n      <td>460</td>\n      <td>Cheng, Hsing Kenneth</td>\n      <td>Hsing</td>\n      <td>Cheng</td>\n      <td>Kenneth</td>\n      <td>kenny.cheng@warrington.ufl.edu</td>\n      <td>nan</td>\n      <td>united states</td>\n      <td></td>\n      <td></td>\n      <td></td>\n    </tr>\n    <tr>\n      <th>41</th>\n      <td>4515</td>\n      <td>Dong, Wei</td>\n      <td>Wei</td>\n      <td>Dong</td>\n      <td>None</td>\n      <td>weidong1@mail.ustc.edu.cn</td>\n      <td>nan</td>\n      <td>china</td>\n      <td></td>\n      <td></td>\n      <td></td>\n    </tr>\n    <tr>\n      <th>45</th>\n      <td>4414</td>\n      <td>Qahri-Saremi, Hamed</td>\n      <td>Hamed</td>\n      <td>Qahri-Saremi</td>\n      <td>None</td>\n      <td>hamed.saremi@depaul.edu</td>\n      <td>nan</td>\n      <td>united states</td>\n      <td></td>\n      <td></td>\n      <td></td>\n    </tr>\n    <tr>\n      <th>47</th>\n      <td>458</td>\n      <td>Lim, Arthur</td>\n      <td>Arthur</td>\n      <td>Lim</td>\n      <td>None</td>\n      <td>arthurlim@nd.edu</td>\n      <td>nan</td>\n      <td>united states</td>\n      <td></td>\n      <td></td>\n      <td></td>\n    </tr>\n    <tr>\n      <th>55</th>\n      <td>717</td>\n      <td>Lee, Jae Kyu</td>\n      <td>Jae</td>\n      <td>Lee</td>\n      <td>Kyu</td>\n      <td>jklee@business.kaist.ac.kr</td>\n      <td>nan</td>\n      <td>south korea</td>\n      <td></td>\n      <td></td>\n      <td></td>\n    </tr>\n    <tr>\n      <th>56</th>\n      <td>4539</td>\n      <td>Mai, Feng</td>\n      <td>Feng</td>\n      <td>Mai</td>\n      <td>None</td>\n      <td>feng.mai@stevens.edu</td>\n      <td>nan</td>\n      <td>united states</td>\n      <td></td>\n      <td></td>\n      <td></td>\n    </tr>\n    <tr>\n      <th>57</th>\n      <td>4610</td>\n      <td>Gunarathne, Priyanga</td>\n      <td>Priyanga</td>\n      <td>Gunarathne</td>\n      <td>None</td>\n      <td>priyanga.gunarathne@simon.rochester.edu</td>\n      <td>nan</td>\n      <td>united states</td>\n      <td></td>\n      <td></td>\n      <td></td>\n    </tr>\n    <tr>\n      <th>69</th>\n      <td>5601</td>\n      <td>FRANCALANCI, CHIARA</td>\n      <td>CHIARA</td>\n      <td>FRANCALANCI</td>\n      <td>None</td>\n      <td>nan</td>\n      <td>Associate Professor of information systems, Po...</td>\n      <td>united states</td>\n      <td></td>\n      <td></td>\n      <td></td>\n    </tr>\n    <tr>\n      <th>71</th>\n      <td>657</td>\n      <td>Yeow, Adrian</td>\n      <td>Adrian</td>\n      <td>Yeow</td>\n      <td>None</td>\n      <td>adrianyeowyk@unisim.edu.sg</td>\n      <td>nan</td>\n      <td>singapore</td>\n      <td></td>\n      <td></td>\n      <td></td>\n    </tr>\n    <tr>\n      <th>83</th>\n      <td>1610</td>\n      <td>DeGross, Janice I.</td>\n      <td>Janice</td>\n      <td>DeGross</td>\n      <td>I.</td>\n      <td>nan</td>\n      <td>nan</td>\n      <td>united states</td>\n      <td></td>\n      <td></td>\n      <td></td>\n    </tr>\n    <tr>\n      <th>85</th>\n      <td>4366</td>\n      <td>Yoo, Eunae</td>\n      <td>Eunae</td>\n      <td>Yoo</td>\n      <td>None</td>\n      <td>eyoo@utk.edu</td>\n      <td>nan</td>\n      <td>united states</td>\n      <td></td>\n      <td></td>\n      <td></td>\n    </tr>\n    <tr>\n      <th>87</th>\n      <td>608</td>\n      <td>Joshi, K. D.</td>\n      <td>K.</td>\n      <td>Joshi</td>\n      <td>D.</td>\n      <td>joshi@wsu.edu</td>\n      <td>nan</td>\n      <td>united states</td>\n      <td></td>\n      <td></td>\n      <td></td>\n    </tr>\n    <tr>\n      <th>94</th>\n      <td>4375</td>\n      <td>Hou, Jinghui (Jove)</td>\n      <td>Jinghui</td>\n      <td>Hou</td>\n      <td>(Jove)</td>\n      <td>jhou@bauer.uh.edu</td>\n      <td>nan</td>\n      <td>united states</td>\n      <td></td>\n      <td></td>\n      <td></td>\n    </tr>\n    <tr>\n      <th>97</th>\n      <td>4416</td>\n      <td>Nan, Guofang</td>\n      <td>Guofang</td>\n      <td>Nan</td>\n      <td>None</td>\n      <td>gfnan@tju.edu.cn</td>\n      <td>nan</td>\n      <td>china</td>\n      <td></td>\n      <td></td>\n      <td></td>\n    </tr>\n    <tr>\n      <th>101</th>\n      <td>588</td>\n      <td>Zmud, Robert W.</td>\n      <td>Robert</td>\n      <td>Zmud</td>\n      <td>W.</td>\n      <td>rzmud@ou.edu</td>\n      <td>nan</td>\n      <td>united states</td>\n      <td></td>\n      <td></td>\n      <td></td>\n    </tr>\n    <tr>\n      <th>102</th>\n      <td>2627</td>\n      <td>Vierck, Robert K.</td>\n      <td>Robert</td>\n      <td>Vierck</td>\n      <td>K.</td>\n      <td>nan</td>\n      <td>Director of Information Services for Dillingha...</td>\n      <td>united states</td>\n      <td></td>\n      <td></td>\n      <td></td>\n    </tr>\n    <tr>\n      <th>107</th>\n      <td>3207</td>\n      <td>Gorgoglione, Michele</td>\n      <td>Michele</td>\n      <td>Gorgoglione</td>\n      <td>None</td>\n      <td>michele.gorgoglione@poliba.it</td>\n      <td>Politecnico di Bari, 70126 Bari, Italy</td>\n      <td>italy</td>\n      <td></td>\n      <td></td>\n      <td></td>\n    </tr>\n    <tr>\n      <th>109</th>\n      <td>4775</td>\n      <td>Liginlal, Divakaran</td>\n      <td>Divakaran</td>\n      <td>Liginlal</td>\n      <td>None</td>\n      <td>nan</td>\n      <td>nan</td>\n      <td>united states</td>\n      <td></td>\n      <td></td>\n      <td></td>\n    </tr>\n    <tr>\n      <th>115</th>\n      <td>749</td>\n      <td>Kumar, Anuj</td>\n      <td>Anuj</td>\n      <td>Kumar</td>\n      <td>None</td>\n      <td>akumar1@ufl.edu</td>\n      <td>nan</td>\n      <td>united states</td>\n      <td></td>\n      <td></td>\n      <td></td>\n    </tr>\n    <tr>\n      <th>118</th>\n      <td>360</td>\n      <td>Huang, Peng</td>\n      <td>Peng</td>\n      <td>Huang</td>\n      <td>None</td>\n      <td>phuang1@rhsmith.umd.edu</td>\n      <td>nan</td>\n      <td>united states</td>\n      <td></td>\n      <td></td>\n      <td></td>\n    </tr>\n    <tr>\n      <th>120</th>\n      <td>2242</td>\n      <td>Harris, Sidney E.</td>\n      <td>Sidney</td>\n      <td>Harris</td>\n      <td>E.</td>\n      <td>nan</td>\n      <td>The Peter Drucker Graduate Center, Claremont, CA</td>\n      <td>united states</td>\n      <td></td>\n      <td></td>\n      <td></td>\n    </tr>\n    <tr>\n      <th>122</th>\n      <td>4760</td>\n      <td>Prat, Nicolas</td>\n      <td>Nicolas</td>\n      <td>Prat</td>\n      <td>None</td>\n      <td>prat@essec.edu</td>\n      <td>nan</td>\n      <td>united states</td>\n      <td></td>\n      <td></td>\n      <td></td>\n    </tr>\n    <tr>\n      <th>127</th>\n      <td>4444</td>\n      <td>Giboney, Justin S.</td>\n      <td>Justin</td>\n      <td>Giboney</td>\n      <td>S.</td>\n      <td>nan</td>\n      <td>nan</td>\n      <td>united states</td>\n      <td></td>\n      <td></td>\n      <td></td>\n    </tr>\n    <tr>\n      <th>132</th>\n      <td>437</td>\n      <td>Liangfei, Qiu</td>\n      <td>Qiu</td>\n      <td>Liangfei</td>\n      <td>None</td>\n      <td>liangfeiqiu@ufl.edu</td>\n      <td>nan</td>\n      <td>united states</td>\n      <td></td>\n      <td></td>\n      <td></td>\n    </tr>\n    <tr>\n      <th>133</th>\n      <td>4790</td>\n      <td>Walter, Zhiping</td>\n      <td>Zhiping</td>\n      <td>Walter</td>\n      <td>None</td>\n      <td>nan</td>\n      <td>nan</td>\n      <td>united states</td>\n      <td></td>\n      <td></td>\n      <td></td>\n    </tr>\n    <tr>\n      <th>153</th>\n      <td>1786</td>\n      <td>Markus, M. Lynne</td>\n      <td>M.</td>\n      <td>Markus</td>\n      <td>Lynne</td>\n      <td>nan</td>\n      <td>nan</td>\n      <td>united states</td>\n      <td></td>\n      <td></td>\n      <td></td>\n    </tr>\n    <tr>\n      <th>161</th>\n      <td>4744</td>\n      <td>Blohm, Ivo</td>\n      <td>Ivo</td>\n      <td>Blohm</td>\n      <td>None</td>\n      <td>Christoph.Peters@unisg.ch</td>\n      <td>nan</td>\n      <td>switzerland</td>\n      <td></td>\n      <td></td>\n      <td></td>\n    </tr>\n    <tr>\n      <th>162</th>\n      <td>2661</td>\n      <td>McNeil, D.H.</td>\n      <td>D.H.</td>\n      <td>McNeil</td>\n      <td>None</td>\n      <td>nan</td>\n      <td>nan</td>\n      <td>united states</td>\n      <td></td>\n      <td></td>\n      <td></td>\n    </tr>\n    <tr>\n      <th>163</th>\n      <td>585</td>\n      <td>Masli, Adi</td>\n      <td>Adi</td>\n      <td>Masli</td>\n      <td>None</td>\n      <td>amasli@ku.edu</td>\n      <td>nan</td>\n      <td>united states</td>\n      <td></td>\n      <td></td>\n      <td></td>\n    </tr>\n    <tr>\n      <th>164</th>\n      <td>2348</td>\n      <td>Braden, Barbara</td>\n      <td>Barbara</td>\n      <td>Braden</td>\n      <td>None</td>\n      <td>nan</td>\n      <td>Bull HN Worldwide Information Systems 300 Conc...</td>\n      <td>united states</td>\n      <td></td>\n      <td></td>\n      <td></td>\n    </tr>\n    <tr>\n      <th>165</th>\n      <td>2173</td>\n      <td>Stutt, Richard J.</td>\n      <td>Richard</td>\n      <td>Stutt</td>\n      <td>J.</td>\n      <td>nan</td>\n      <td>5711 Bent Branch Road, Weiss Associates, Inc. ...</td>\n      <td>usa</td>\n      <td></td>\n      <td></td>\n      <td></td>\n    </tr>\n    <tr>\n      <th>168</th>\n      <td>4614</td>\n      <td>Veit, Daniel</td>\n      <td>Daniel</td>\n      <td>Veit</td>\n      <td>None</td>\n      <td>veit@wiwi.uni-augsburg.de</td>\n      <td>nan</td>\n      <td>germany</td>\n      <td></td>\n      <td></td>\n      <td></td>\n    </tr>\n    <tr>\n      <th>172</th>\n      <td>2014</td>\n      <td>Farwell, Douglas</td>\n      <td>Douglas</td>\n      <td>Farwell</td>\n      <td>None</td>\n      <td>trauth@neu.edu</td>\n      <td>CSC Consulting and Systems Integration, 1 Newt...</td>\n      <td>united states</td>\n      <td></td>\n      <td></td>\n      <td></td>\n    </tr>\n    <tr>\n      <th>179</th>\n      <td>509</td>\n      <td>Sundararajan, Arun</td>\n      <td>Arun</td>\n      <td>Sundararajan</td>\n      <td>None</td>\n      <td>arun@stern.nyu.edu</td>\n      <td>nan</td>\n      <td>united states</td>\n      <td></td>\n      <td></td>\n      <td></td>\n    </tr>\n    <tr>\n      <th>181</th>\n      <td>6082</td>\n      <td>Karmarkar, Uday S.</td>\n      <td>Uday</td>\n      <td>Karmarkar</td>\n      <td>S.</td>\n      <td>nan</td>\n      <td>Times Mirror Professor of Strategy, Anderson G...</td>\n      <td>united states</td>\n      <td></td>\n      <td></td>\n      <td></td>\n    </tr>\n    <tr>\n      <th>187</th>\n      <td>2923</td>\n      <td>Mitra, Saby</td>\n      <td>Saby</td>\n      <td>Mitra</td>\n      <td>None</td>\n      <td>saby.mitra@scheller.gatech.edu</td>\n      <td>Scheller College of Business, Georgia Insitute...</td>\n      <td>united states</td>\n      <td></td>\n      <td></td>\n      <td></td>\n    </tr>\n    <tr>\n      <th>196</th>\n      <td>1855</td>\n      <td>Applegate, Lynda M.</td>\n      <td>Lynda</td>\n      <td>Applegate</td>\n      <td>M.</td>\n      <td>nan</td>\n      <td>nan</td>\n      <td>united states</td>\n      <td></td>\n      <td></td>\n      <td></td>\n    </tr>\n    <tr>\n      <th>199</th>\n      <td>4377</td>\n      <td>Kim, Sung S.</td>\n      <td>Sung</td>\n      <td>Kim</td>\n      <td>S.</td>\n      <td>skm@bus.wisc.edu</td>\n      <td>nan</td>\n      <td>united states</td>\n      <td></td>\n      <td></td>\n      <td></td>\n    </tr>\n    <tr>\n      <th>204</th>\n      <td>4749</td>\n      <td>Boughzala, Imed</td>\n      <td>Imed</td>\n      <td>Boughzala</td>\n      <td>None</td>\n      <td>Imed.boughzala@it-sudparis.eu</td>\n      <td>nan</td>\n      <td>european union</td>\n      <td></td>\n      <td></td>\n      <td></td>\n    </tr>\n    <tr>\n      <th>205</th>\n      <td>1128</td>\n      <td>Straub, Detmar W.</td>\n      <td>Detmar</td>\n      <td>Straub</td>\n      <td>W.</td>\n      <td>dstraub@gsu.edu</td>\n      <td>Editor-in-Chief,</td>\n      <td>united states</td>\n      <td></td>\n      <td></td>\n      <td></td>\n    </tr>\n    <tr>\n      <th>208</th>\n      <td>4558</td>\n      <td>Kumar, Naveen</td>\n      <td>Naveen</td>\n      <td>Kumar</td>\n      <td>None</td>\n      <td>nkumar7@memphis.edu</td>\n      <td>nan</td>\n      <td>united states</td>\n      <td></td>\n      <td></td>\n      <td></td>\n    </tr>\n    <tr>\n      <th>213</th>\n      <td>3877</td>\n      <td>Narasimhan, Sridhar</td>\n      <td>Sridhar</td>\n      <td>Narasimhan</td>\n      <td>None</td>\n      <td>sri.narasimhan@mgt.gatech.edu</td>\n      <td>College of Management, Georgia Tech, 800 West ...</td>\n      <td>united states</td>\n      <td></td>\n      <td></td>\n      <td></td>\n    </tr>\n    <tr>\n      <th>217</th>\n      <td>2186</td>\n      <td>Dennis, Alan R.</td>\n      <td>Alan</td>\n      <td>Dennis</td>\n      <td>R.</td>\n      <td>nan</td>\n      <td>nan</td>\n      <td>united states</td>\n      <td></td>\n      <td></td>\n      <td></td>\n    </tr>\n  </tbody>\n</table>\n</div>"
     },
     "metadata": {},
     "execution_count": 56
    }
   ],
   "source": [
    "no_org_df.head(50)"
   ]
  },
  {
   "cell_type": "code",
   "execution_count": 57,
   "metadata": {},
   "outputs": [],
   "source": [
    "# save parsed authors to csv\n",
    "authors_parsed.to_csv('../data/authors-parsed.csv', index=False)"
   ]
  }
 ],
 "metadata": {
  "kernelspec": {
   "display_name": "Python 3.7.7 64-bit ('venv': venv)",
   "language": "python",
   "name": "python37764bitvenvvenvb5f1526429564f4dbd77732aa9ff0879"
  },
  "language_info": {
   "codemirror_mode": {
    "name": "ipython",
    "version": 3
   },
   "file_extension": ".py",
   "mimetype": "text/x-python",
   "name": "python",
   "nbconvert_exporter": "python",
   "pygments_lexer": "ipython3",
   "version": "3.7.7-final"
  }
 },
 "nbformat": 4,
 "nbformat_minor": 4
}